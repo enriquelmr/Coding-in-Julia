{
 "cells": [
  {
   "cell_type": "markdown",
   "metadata": {},
   "source": [
    " # Geodesicas en la métrica de Kerr"
   ]
  },
  {
   "cell_type": "code",
   "execution_count": 75,
   "metadata": {},
   "outputs": [],
   "source": [
    "using Plots"
   ]
  },
  {
   "cell_type": "code",
   "execution_count": 76,
   "metadata": {},
   "outputs": [],
   "source": [
    "#declaracion de las constantes\n",
    "\n",
    "M=0.1 #masa del BH\n",
    "a=0.9*M #momento angular\n",
    "R=2*M #radii \n",
    "l=0.5\n",
    "e=0.9\n",
    "h=0.01\n",
    "\n",
    "r0 = 1*M;  \n",
    "phi0 = pi/4\n",
    "u0=-0.06\n",
    "ti=0\n",
    "tf=1000 #número de iteraciones\n",
    "N=Int64(floor((tf-ti)/h))\n",
    "mod=5;"
   ]
  },
  {
   "cell_type": "code",
   "execution_count": 77,
   "metadata": {},
   "outputs": [
    {
     "data": {
      "text/plain": [
       "0.0301973834223185"
      ]
     },
     "execution_count": 77,
     "metadata": {},
     "output_type": "execute_result"
    }
   ],
   "source": [
    "exp(-3.5)"
   ]
  },
  {
   "cell_type": "code",
   "execution_count": 78,
   "metadata": {},
   "outputs": [
    {
     "data": {
      "text/plain": [
       "Δ (generic function with 1 method)"
      ]
     },
     "execution_count": 78,
     "metadata": {},
     "output_type": "execute_result"
    }
   ],
   "source": [
    "function Δ(r)\n",
    "    return (r^2)-2*M*r+a^2\n",
    "end"
   ]
  },
  {
   "cell_type": "code",
   "execution_count": 79,
   "metadata": {},
   "outputs": [
    {
     "data": {
      "text/plain": [
       "dt (generic function with 1 method)"
      ]
     },
     "execution_count": 79,
     "metadata": {},
     "output_type": "execute_result"
    }
   ],
   "source": [
    "function dt(r)\n",
    "    return (1/Δ(r))*((r^2+a^2+(2*M*a^2/r))e-(2*M*a/r)*l)\n",
    "end"
   ]
  },
  {
   "cell_type": "code",
   "execution_count": 80,
   "metadata": {},
   "outputs": [
    {
     "data": {
      "text/plain": [
       "f0 (generic function with 1 method)"
      ]
     },
     "execution_count": 80,
     "metadata": {},
     "output_type": "execute_result"
    }
   ],
   "source": [
    "function f0(r,phi)\n",
    "   return (1/Δ(r))*((1-(2*M/r))l+(2*M*a/r)*e)\n",
    "  # return (l/r^2)\n",
    "end"
   ]
  },
  {
   "cell_type": "code",
   "execution_count": 89,
   "metadata": {},
   "outputs": [
    {
     "data": {
      "text/plain": [
       "G (generic function with 1 method)"
      ]
     },
     "execution_count": 89,
     "metadata": {},
     "output_type": "execute_result"
    }
   ],
   "source": [
    "function X(r)\n",
    "    return -((r^4)*(r*(a-M*r)))/(r^6)*(a^2+r*(r-2*M))\n",
    "end\n",
    "function Y(r)\n",
    "    return -(M*(a^2+r*(r-2*M)))*dt(r)*r^-4\n",
    "end\n",
    "function Z(r)\n",
    "    return  (r^-4)*(2*a*M*(r-2*M*r))*dt(r)*f0(r,0)\n",
    "end\n",
    "function G(r)\n",
    "    return (a^2+r*(r-2*M*r))*(r^5-a^2*M*r^2)*r^-6\n",
    "end"
   ]
  },
  {
   "cell_type": "code",
   "execution_count": 90,
   "metadata": {},
   "outputs": [
    {
     "data": {
      "text/plain": [
       "f1 (generic function with 1 method)"
      ]
     },
     "execution_count": 90,
     "metadata": {},
     "output_type": "execute_result"
    }
   ],
   "source": [
    "function f1(r,phi,u)\n",
    "    return u\n",
    "end"
   ]
  },
  {
   "cell_type": "code",
   "execution_count": 91,
   "metadata": {},
   "outputs": [
    {
     "data": {
      "text/plain": [
       "f2 (generic function with 1 method)"
      ]
     },
     "execution_count": 91,
     "metadata": {},
     "output_type": "execute_result"
    }
   ],
   "source": [
    "function f2(r,phi,u)\n",
    "return  X(r)+Y(r)+Z(r)+G(r)\n",
    "#   return ((l^2)/(r^3))-(M/r^2)\n",
    "    #return (l^2)/(r^4)-(2*M*(l^2))/(r^5)-(e*M)/((r^2)-2*M*r)\n",
    "end"
   ]
  },
  {
   "cell_type": "code",
   "execution_count": 92,
   "metadata": {},
   "outputs": [
    {
     "data": {
      "text/plain": [
       "RK4 (generic function with 1 method)"
      ]
     },
     "execution_count": 92,
     "metadata": {},
     "output_type": "execute_result"
    }
   ],
   "source": [
    "function RK4(r_0, phi_0, u_0,Nt)\n",
    "    \n",
    "    x=zeros((Nt/mod)+1)\n",
    "    y=zeros((Nt/mod)+1)\n",
    "    x[1]=r_0*cos(phi_0)\n",
    "    y[1]=r_0*sin(phi_0)\n",
    "    j=1\n",
    "    \n",
    "    count=0\n",
    "    \n",
    "    for i in 1:Nt\n",
    "        \n",
    "\n",
    "        k1 = h*f1(r_0, phi_0,u_0)\n",
    "        l1 = h*f2(r_0, phi_0,u_0)\n",
    "        m1 = h*f0(r_0,phi_0)    \n",
    "\n",
    "        k2 = h*f1(r_0+0.5*h, phi_0+0.5*k1,u_0+0.5*l1)\n",
    "        l2 = h*f2(r_0+0.5*h, phi_0+0.5*k1,u_0+0.5*l1)\n",
    "        m2 = h*f0(r_0+0.5*h, phi_0+0.5*m1)\n",
    "\n",
    "        k3 = h*f1(r_0+0.5*h, phi_0+0.5*k2, u_0+0.5*l2)\n",
    "        l3 = h*f2(r_0+0.5*h, phi_0+0.5*k2, u_0+0.5*l2)\n",
    "        m3 = h*f0(r_0+0.5*h, phi_0+0.5*m2)\n",
    "\n",
    "        k4 = h*f1(r_0+0.5*h, phi_0+k3, u_0+l3)\n",
    "        l4 = h*f2(r_0+0.5*h, phi_0+k3, u_0+l3)\n",
    "        m4 = h*f0(r_0+0.5*h, phi_0+m3)\n",
    "\n",
    "        r_new = r_0 + (1/6)*(k1 + 2.0*k2 + 2.0*k3 + k4)\n",
    "        u_new = u_0 + (1/6)*(l1 + 2.0*l2 + 2.0*l3 + l4)\n",
    "        phi_new=phi_0+(1/6)*(m1 + 2.0*m2 + 2.0*m3 + m4)\n",
    "\n",
    "        \n",
    "        r_0=r_new\n",
    "        phi_0=phi_new\n",
    "        u_0=u_new    \n",
    "    \n",
    "        if(count % mod==0) \n",
    "            \n",
    "            x[j+1]=r_new*cos(phi_new)\n",
    "            y[j+1]=r_new*sin(phi_new)\n",
    "            j=j+1\n",
    "        end\n",
    "       \n",
    "    count=count+1 \n",
    "    end   \n",
    "    return x,y\n",
    "    \n",
    "end"
   ]
  },
  {
   "cell_type": "code",
   "execution_count": 93,
   "metadata": {},
   "outputs": [
    {
     "data": {
      "text/plain": [
       "([0.0707107, -2.48609, -25.2736, -48.3084, -72.1677, -97.8258, -126.755, -161.14, -204.294, -261.477  …  NaN, NaN, NaN, NaN, NaN, NaN, NaN, NaN, NaN, NaN], [0.0707107, 2.24659, 22.814, 43.6059, 65.1421, 88.3019, 114.415, 145.451, 184.404, 236.02  …  NaN, NaN, NaN, NaN, NaN, NaN, NaN, NaN, NaN, NaN])"
      ]
     },
     "execution_count": 93,
     "metadata": {},
     "output_type": "execute_result"
    }
   ],
   "source": [
    "xx,yy=RK4(r0,phi0,u0,N)"
   ]
  },
  {
   "cell_type": "code",
   "execution_count": 97,
   "metadata": {},
   "outputs": [
    {
     "data": {
      "text/plain": [
       "20001-element Array{Float64,1}:\n",
       "    0.0707107\n",
       "   -2.48609  \n",
       "  -25.2736   \n",
       "  -48.3084   \n",
       "  -72.1677   \n",
       "  -97.8258   \n",
       " -126.755    \n",
       " -161.14     \n",
       " -204.294    \n",
       " -261.477    \n",
       " -341.549    \n",
       " -460.549    \n",
       " -650.231    \n",
       "    ⋮        \n",
       "  NaN        \n",
       "  NaN        \n",
       "  NaN        \n",
       "  NaN        \n",
       "  NaN        \n",
       "  NaN        \n",
       "  NaN        \n",
       "  NaN        \n",
       "  NaN        \n",
       "  NaN        \n",
       "  NaN        \n",
       "  NaN        "
      ]
     },
     "execution_count": 97,
     "metadata": {},
     "output_type": "execute_result"
    }
   ],
   "source": [
    "xx\n"
   ]
  },
  {
   "cell_type": "code",
   "execution_count": 95,
   "metadata": {},
   "outputs": [
    {
     "data": {
      "image/svg+xml": [
       "<?xml version=\"1.0\" encoding=\"utf-8\"?>\n",
       "<svg xmlns=\"http://www.w3.org/2000/svg\" xmlns:xlink=\"http://www.w3.org/1999/xlink\" width=\"600\" height=\"400\" viewBox=\"0 0 600 400\">\n",
       "<defs>\n",
       "  <clipPath id=\"clip5000\">\n",
       "    <rect x=\"0\" y=\"0\" width=\"600\" height=\"400\"/>\n",
       "  </clipPath>\n",
       "</defs>\n",
       "<polygon clip-path=\"url(#clip5000)\" points=\"\n",
       "0,400 600,400 600,0 0,0 \n",
       "  \" fill=\"#ffffff\" fill-opacity=\"1\"/>\n",
       "<defs>\n",
       "  <clipPath id=\"clip5001\">\n",
       "    <rect x=\"120\" y=\"0\" width=\"421\" height=\"400\"/>\n",
       "  </clipPath>\n",
       "</defs>\n",
       "<polygon clip-path=\"url(#clip5000)\" points=\"\n",
       "47.376,375.869 580.315,375.869 580.315,11.811 47.376,11.811 \n",
       "  \" fill=\"#ffffff\" fill-opacity=\"1\"/>\n",
       "<defs>\n",
       "  <clipPath id=\"clip5002\">\n",
       "    <rect x=\"47\" y=\"11\" width=\"534\" height=\"365\"/>\n",
       "  </clipPath>\n",
       "</defs>\n",
       "<polyline clip-path=\"url(#clip5002)\" style=\"stroke:#000000; stroke-width:0.5; stroke-opacity:0.1; fill:none\" points=\"\n",
       "  123.51,375.869 123.51,11.811 \n",
       "  \"/>\n",
       "<polyline clip-path=\"url(#clip5002)\" style=\"stroke:#000000; stroke-width:0.5; stroke-opacity:0.1; fill:none\" points=\"\n",
       "  218.678,375.869 218.678,11.811 \n",
       "  \"/>\n",
       "<polyline clip-path=\"url(#clip5002)\" style=\"stroke:#000000; stroke-width:0.5; stroke-opacity:0.1; fill:none\" points=\"\n",
       "  313.845,375.869 313.845,11.811 \n",
       "  \"/>\n",
       "<polyline clip-path=\"url(#clip5002)\" style=\"stroke:#000000; stroke-width:0.5; stroke-opacity:0.1; fill:none\" points=\"\n",
       "  409.013,375.869 409.013,11.811 \n",
       "  \"/>\n",
       "<polyline clip-path=\"url(#clip5002)\" style=\"stroke:#000000; stroke-width:0.5; stroke-opacity:0.1; fill:none\" points=\"\n",
       "  504.181,375.869 504.181,11.811 \n",
       "  \"/>\n",
       "<polyline clip-path=\"url(#clip5002)\" style=\"stroke:#000000; stroke-width:0.5; stroke-opacity:0.1; fill:none\" points=\"\n",
       "  47.376,375.869 580.315,375.869 \n",
       "  \"/>\n",
       "<polyline clip-path=\"url(#clip5002)\" style=\"stroke:#000000; stroke-width:0.5; stroke-opacity:0.1; fill:none\" points=\"\n",
       "  47.376,315.192 580.315,315.192 \n",
       "  \"/>\n",
       "<polyline clip-path=\"url(#clip5002)\" style=\"stroke:#000000; stroke-width:0.5; stroke-opacity:0.1; fill:none\" points=\"\n",
       "  47.376,254.516 580.315,254.516 \n",
       "  \"/>\n",
       "<polyline clip-path=\"url(#clip5002)\" style=\"stroke:#000000; stroke-width:0.5; stroke-opacity:0.1; fill:none\" points=\"\n",
       "  47.376,193.84 580.315,193.84 \n",
       "  \"/>\n",
       "<polyline clip-path=\"url(#clip5002)\" style=\"stroke:#000000; stroke-width:0.5; stroke-opacity:0.1; fill:none\" points=\"\n",
       "  47.376,133.164 580.315,133.164 \n",
       "  \"/>\n",
       "<polyline clip-path=\"url(#clip5002)\" style=\"stroke:#000000; stroke-width:0.5; stroke-opacity:0.1; fill:none\" points=\"\n",
       "  47.376,72.4873 580.315,72.4873 \n",
       "  \"/>\n",
       "<polyline clip-path=\"url(#clip5002)\" style=\"stroke:#000000; stroke-width:0.5; stroke-opacity:0.1; fill:none\" points=\"\n",
       "  47.376,11.811 580.315,11.811 \n",
       "  \"/>\n",
       "<polyline clip-path=\"url(#clip5000)\" style=\"stroke:#000000; stroke-width:1; stroke-opacity:1; fill:none\" points=\"\n",
       "  47.376,375.869 580.315,375.869 \n",
       "  \"/>\n",
       "<polyline clip-path=\"url(#clip5000)\" style=\"stroke:#000000; stroke-width:1; stroke-opacity:1; fill:none\" points=\"\n",
       "  47.376,375.869 47.376,11.811 \n",
       "  \"/>\n",
       "<polyline clip-path=\"url(#clip5000)\" style=\"stroke:#000000; stroke-width:1; stroke-opacity:1; fill:none\" points=\"\n",
       "  123.51,375.869 123.51,370.408 \n",
       "  \"/>\n",
       "<polyline clip-path=\"url(#clip5000)\" style=\"stroke:#000000; stroke-width:1; stroke-opacity:1; fill:none\" points=\"\n",
       "  218.678,375.869 218.678,370.408 \n",
       "  \"/>\n",
       "<polyline clip-path=\"url(#clip5000)\" style=\"stroke:#000000; stroke-width:1; stroke-opacity:1; fill:none\" points=\"\n",
       "  313.845,375.869 313.845,370.408 \n",
       "  \"/>\n",
       "<polyline clip-path=\"url(#clip5000)\" style=\"stroke:#000000; stroke-width:1; stroke-opacity:1; fill:none\" points=\"\n",
       "  409.013,375.869 409.013,370.408 \n",
       "  \"/>\n",
       "<polyline clip-path=\"url(#clip5000)\" style=\"stroke:#000000; stroke-width:1; stroke-opacity:1; fill:none\" points=\"\n",
       "  504.181,375.869 504.181,370.408 \n",
       "  \"/>\n",
       "<polyline clip-path=\"url(#clip5000)\" style=\"stroke:#000000; stroke-width:1; stroke-opacity:1; fill:none\" points=\"\n",
       "  47.376,375.869 55.3701,375.869 \n",
       "  \"/>\n",
       "<polyline clip-path=\"url(#clip5000)\" style=\"stroke:#000000; stroke-width:1; stroke-opacity:1; fill:none\" points=\"\n",
       "  47.376,315.192 55.3701,315.192 \n",
       "  \"/>\n",
       "<polyline clip-path=\"url(#clip5000)\" style=\"stroke:#000000; stroke-width:1; stroke-opacity:1; fill:none\" points=\"\n",
       "  47.376,254.516 55.3701,254.516 \n",
       "  \"/>\n",
       "<polyline clip-path=\"url(#clip5000)\" style=\"stroke:#000000; stroke-width:1; stroke-opacity:1; fill:none\" points=\"\n",
       "  47.376,193.84 55.3701,193.84 \n",
       "  \"/>\n",
       "<polyline clip-path=\"url(#clip5000)\" style=\"stroke:#000000; stroke-width:1; stroke-opacity:1; fill:none\" points=\"\n",
       "  47.376,133.164 55.3701,133.164 \n",
       "  \"/>\n",
       "<polyline clip-path=\"url(#clip5000)\" style=\"stroke:#000000; stroke-width:1; stroke-opacity:1; fill:none\" points=\"\n",
       "  47.376,72.4873 55.3701,72.4873 \n",
       "  \"/>\n",
       "<polyline clip-path=\"url(#clip5000)\" style=\"stroke:#000000; stroke-width:1; stroke-opacity:1; fill:none\" points=\"\n",
       "  47.376,11.811 55.3701,11.811 \n",
       "  \"/>\n",
       "<g clip-path=\"url(#clip5000)\">\n",
       "<text style=\"fill:#000000; fill-opacity:1; font-family:Arial,Helvetica Neue,Helvetica,sans-serif; font-size:12; text-anchor:middle;\" transform=\"rotate(0, 123.51, 389.669)\" x=\"123.51\" y=\"389.669\">-0.50</text>\n",
       "</g>\n",
       "<g clip-path=\"url(#clip5000)\">\n",
       "<text style=\"fill:#000000; fill-opacity:1; font-family:Arial,Helvetica Neue,Helvetica,sans-serif; font-size:12; text-anchor:middle;\" transform=\"rotate(0, 218.678, 389.669)\" x=\"218.678\" y=\"389.669\">-0.25</text>\n",
       "</g>\n",
       "<g clip-path=\"url(#clip5000)\">\n",
       "<text style=\"fill:#000000; fill-opacity:1; font-family:Arial,Helvetica Neue,Helvetica,sans-serif; font-size:12; text-anchor:middle;\" transform=\"rotate(0, 313.845, 389.669)\" x=\"313.845\" y=\"389.669\">0.00</text>\n",
       "</g>\n",
       "<g clip-path=\"url(#clip5000)\">\n",
       "<text style=\"fill:#000000; fill-opacity:1; font-family:Arial,Helvetica Neue,Helvetica,sans-serif; font-size:12; text-anchor:middle;\" transform=\"rotate(0, 409.013, 389.669)\" x=\"409.013\" y=\"389.669\">0.25</text>\n",
       "</g>\n",
       "<g clip-path=\"url(#clip5000)\">\n",
       "<text style=\"fill:#000000; fill-opacity:1; font-family:Arial,Helvetica Neue,Helvetica,sans-serif; font-size:12; text-anchor:middle;\" transform=\"rotate(0, 504.181, 389.669)\" x=\"504.181\" y=\"389.669\">0.50</text>\n",
       "</g>\n",
       "<g clip-path=\"url(#clip5000)\">\n",
       "<text style=\"fill:#000000; fill-opacity:1; font-family:Arial,Helvetica Neue,Helvetica,sans-serif; font-size:12; text-anchor:end;\" transform=\"rotate(0, 41.376, 380.369)\" x=\"41.376\" y=\"380.369\">-0.6</text>\n",
       "</g>\n",
       "<g clip-path=\"url(#clip5000)\">\n",
       "<text style=\"fill:#000000; fill-opacity:1; font-family:Arial,Helvetica Neue,Helvetica,sans-serif; font-size:12; text-anchor:end;\" transform=\"rotate(0, 41.376, 319.692)\" x=\"41.376\" y=\"319.692\">-0.4</text>\n",
       "</g>\n",
       "<g clip-path=\"url(#clip5000)\">\n",
       "<text style=\"fill:#000000; fill-opacity:1; font-family:Arial,Helvetica Neue,Helvetica,sans-serif; font-size:12; text-anchor:end;\" transform=\"rotate(0, 41.376, 259.016)\" x=\"41.376\" y=\"259.016\">-0.2</text>\n",
       "</g>\n",
       "<g clip-path=\"url(#clip5000)\">\n",
       "<text style=\"fill:#000000; fill-opacity:1; font-family:Arial,Helvetica Neue,Helvetica,sans-serif; font-size:12; text-anchor:end;\" transform=\"rotate(0, 41.376, 198.34)\" x=\"41.376\" y=\"198.34\">0.0</text>\n",
       "</g>\n",
       "<g clip-path=\"url(#clip5000)\">\n",
       "<text style=\"fill:#000000; fill-opacity:1; font-family:Arial,Helvetica Neue,Helvetica,sans-serif; font-size:12; text-anchor:end;\" transform=\"rotate(0, 41.376, 137.664)\" x=\"41.376\" y=\"137.664\">0.2</text>\n",
       "</g>\n",
       "<g clip-path=\"url(#clip5000)\">\n",
       "<text style=\"fill:#000000; fill-opacity:1; font-family:Arial,Helvetica Neue,Helvetica,sans-serif; font-size:12; text-anchor:end;\" transform=\"rotate(0, 41.376, 76.9873)\" x=\"41.376\" y=\"76.9873\">0.4</text>\n",
       "</g>\n",
       "<g clip-path=\"url(#clip5000)\">\n",
       "<text style=\"fill:#000000; fill-opacity:1; font-family:Arial,Helvetica Neue,Helvetica,sans-serif; font-size:12; text-anchor:end;\" transform=\"rotate(0, 41.376, 16.311)\" x=\"41.376\" y=\"16.311\">0.6</text>\n",
       "</g>\n",
       "<polyline clip-path=\"url(#clip5002)\" style=\"stroke:#009af9; stroke-width:1; stroke-opacity:1; fill:none\" points=\"\n",
       "  389.599,187.782 388.462,181.785 386.579,175.909 383.97,170.211 380.659,164.75 376.682,159.579 372.076,154.751 366.889,150.313 361.171,146.31 354.981,142.783 \n",
       "  348.38,139.765 341.433,137.287 334.211,135.375 326.786,134.046 319.231,133.316 311.622,133.189 304.036,133.669 296.548,134.75 289.232,136.422 282.163,138.667 \n",
       "  275.409,141.464 269.04,144.783 263.119,148.593 257.705,152.855 252.851,157.527 248.607,162.561 245.015,167.908 242.11,173.514 239.922,179.323 238.473,185.277 \n",
       "  237.777,191.317 237.841,197.382 238.665,203.411 240.239,209.345 242.549,215.124 245.572,220.69 249.276,225.988 253.626,230.965 258.577,235.571 264.081,239.76 \n",
       "  270.082,243.49 276.52,246.724 283.331,249.429 290.447,251.58 297.797,253.153 305.307,254.133 312.902,254.511 320.507,254.283 328.045,253.451 335.442,252.024 \n",
       "  342.623,250.015 349.516,247.445 356.052,244.339 362.167,240.728 367.799,236.649 372.893,232.143 377.396,227.253 381.264,222.03 384.458,216.525 386.947,210.794 \n",
       "  388.706,204.893 389.716,198.881 389.969,192.82 389.461,186.768 388.197,180.787 386.191,174.937 383.461,169.275 380.036,163.859 375.95,158.742 371.243,153.976 \n",
       "  365.963,149.609 360.162,145.683 353.898,142.239 347.234,139.31 340.236,136.926 332.975,135.11 325.522,133.881 317.953,133.252 310.343,133.228 302.768,133.809 \n",
       "  295.303,134.991 288.024,136.76 281.003,139.099 274.31,141.986 268.012,145.391 262.172,149.279 256.848,153.613 252.094,158.349 247.956,163.44 244.477,168.834 \n",
       "  241.692,174.478 239.627,180.316 238.303,186.288 237.735,192.337 237.927,198.4 238.877,204.417 240.577,210.329 243.008,216.076 246.148,221.601 249.964,226.849 \n",
       "  \n",
       "  \"/>\n",
       "<polyline clip-path=\"url(#clip5002)\" style=\"stroke:#e26f46; stroke-width:1; stroke-opacity:1; fill:none\" points=\"\n",
       "  368.233,189.491 367.416,185.185 366.064,180.966 364.191,176.876 361.814,172.955 358.958,169.243 355.652,165.776 351.928,162.59 347.823,159.716 343.378,157.184 \n",
       "  338.639,155.017 333.652,153.238 328.467,151.865 323.136,150.911 317.712,150.387 312.249,150.296 306.803,150.641 301.427,151.417 296.174,152.617 291.099,154.229 \n",
       "  286.251,156.237 281.678,158.62 277.427,161.355 273.539,164.415 270.055,167.769 267.008,171.383 264.429,175.222 262.344,179.247 260.773,183.418 259.732,187.692 \n",
       "  259.233,192.029 259.279,196.383 259.87,200.712 261,204.972 262.659,209.121 264.829,213.117 267.488,216.921 270.611,220.494 274.166,223.8 278.117,226.808 \n",
       "  282.426,229.486 287.048,231.808 291.938,233.75 297.047,235.294 302.323,236.423 307.715,237.127 313.168,237.399 318.628,237.235 324.04,236.638 329.351,235.613 \n",
       "  334.506,234.17 339.455,232.325 344.148,230.095 348.538,227.503 352.581,224.575 356.238,221.339 359.471,217.829 362.248,214.079 364.542,210.127 366.329,206.012 \n",
       "  367.591,201.775 368.317,197.459 368.498,193.107 368.133,188.763 367.226,184.469 365.785,180.268 363.826,176.204 361.367,172.315 358.433,168.642 355.054,165.22 \n",
       "  351.263,162.084 347.098,159.266 342.601,156.793 337.817,154.69 332.793,152.978 327.579,151.675 322.229,150.793 316.795,150.341 311.331,150.324 305.892,150.741 \n",
       "  300.533,151.589 295.307,152.86 290.266,154.539 285.461,156.612 280.939,159.056 276.747,161.848 272.924,164.959 269.511,168.36 266.541,172.014 264.043,175.887 \n",
       "  262.043,179.939 260.56,184.13 259.61,188.418 259.202,192.761 259.34,197.114 260.022,201.434 261.243,205.678 262.988,209.804 265.242,213.771 267.982,217.539 \n",
       "  \n",
       "  \"/>\n",
       "<polygon clip-path=\"url(#clip5000)\" points=\"\n",
       "450.15,78.051 562.315,78.051 562.315,32.691 450.15,32.691 \n",
       "  \" fill=\"#ffffff\" fill-opacity=\"1\"/>\n",
       "<polyline clip-path=\"url(#clip5000)\" style=\"stroke:#000000; stroke-width:1; stroke-opacity:1; fill:none\" points=\"\n",
       "  450.15,78.051 562.315,78.051 562.315,32.691 450.15,32.691 450.15,78.051 \n",
       "  \"/>\n",
       "<polyline clip-path=\"url(#clip5000)\" style=\"stroke:#009af9; stroke-width:1; stroke-opacity:1; fill:none\" points=\"\n",
       "  456.15,47.811 492.15,47.811 \n",
       "  \"/>\n",
       "<g clip-path=\"url(#clip5000)\">\n",
       "<text style=\"fill:#000000; fill-opacity:1; font-family:Arial,Helvetica Neue,Helvetica,sans-serif; font-size:12; text-anchor:start;\" transform=\"rotate(0, 498.15, 52.311)\" x=\"498.15\" y=\"52.311\">Ergosféra</text>\n",
       "</g>\n",
       "<polyline clip-path=\"url(#clip5000)\" style=\"stroke:#e26f46; stroke-width:1; stroke-opacity:1; fill:none\" points=\"\n",
       "  456.15,62.931 492.15,62.931 \n",
       "  \"/>\n",
       "<g clip-path=\"url(#clip5000)\">\n",
       "<text style=\"fill:#000000; fill-opacity:1; font-family:Arial,Helvetica Neue,Helvetica,sans-serif; font-size:12; text-anchor:start;\" transform=\"rotate(0, 498.15, 67.431)\" x=\"498.15\" y=\"67.431\">Horizonte</text>\n",
       "</g>\n",
       "</svg>\n"
      ]
     },
     "execution_count": 95,
     "metadata": {},
     "output_type": "execute_result"
    }
   ],
   "source": [
    "\n",
    "tt=[]\n",
    "ttt=[]\n",
    "kk=[]\n",
    "kkk=[]\n",
    "for i in 1:100\n",
    "    push!(tt,2*M*cos(0.1*i))\n",
    "    push!(ttt,2*M*sin(0.1*i)) \n",
    "    push!(kk,(M+sqrt((M^2)-(a^2)))*cos(0.1*i))\n",
    "    push!(kkk,(M+sqrt((M^2)-(a^2)))*sin(0.1*i)) \n",
    "    end\n",
    "\n",
    "plot(tt,ttt,label=\"Ergosféra\",ylim=(-6*M,6*M),xlim=(-7*M,7*M))\n",
    "plot!(kk,kkk,label=\"Horizonte\")"
   ]
  },
  {
   "cell_type": "code",
   "execution_count": 96,
   "metadata": {},
   "outputs": [
    {
     "data": {
      "image/svg+xml": [
       "<?xml version=\"1.0\" encoding=\"utf-8\"?>\n",
       "<svg xmlns=\"http://www.w3.org/2000/svg\" xmlns:xlink=\"http://www.w3.org/1999/xlink\" width=\"600\" height=\"400\" viewBox=\"0 0 600 400\">\n",
       "<defs>\n",
       "  <clipPath id=\"clip5200\">\n",
       "    <rect x=\"0\" y=\"0\" width=\"600\" height=\"400\"/>\n",
       "  </clipPath>\n",
       "</defs>\n",
       "<polygon clip-path=\"url(#clip5200)\" points=\"\n",
       "0,400 600,400 600,0 0,0 \n",
       "  \" fill=\"#ffffff\" fill-opacity=\"1\"/>\n",
       "<defs>\n",
       "  <clipPath id=\"clip5201\">\n",
       "    <rect x=\"120\" y=\"0\" width=\"421\" height=\"400\"/>\n",
       "  </clipPath>\n",
       "</defs>\n",
       "<polygon clip-path=\"url(#clip5200)\" points=\"\n",
       "101.479,375.869 526.212,375.869 526.212,11.811 101.479,11.811 \n",
       "  \" fill=\"#ffffff\" fill-opacity=\"1\"/>\n",
       "<defs>\n",
       "  <clipPath id=\"clip5202\">\n",
       "    <rect x=\"101\" y=\"11\" width=\"426\" height=\"365\"/>\n",
       "  </clipPath>\n",
       "</defs>\n",
       "<polyline clip-path=\"url(#clip5202)\" style=\"stroke:#000000; stroke-width:0.5; stroke-opacity:0.1; fill:none\" points=\"\n",
       "  162.155,375.869 162.155,11.811 \n",
       "  \"/>\n",
       "<polyline clip-path=\"url(#clip5202)\" style=\"stroke:#000000; stroke-width:0.5; stroke-opacity:0.1; fill:none\" points=\"\n",
       "  238,375.869 238,11.811 \n",
       "  \"/>\n",
       "<polyline clip-path=\"url(#clip5202)\" style=\"stroke:#000000; stroke-width:0.5; stroke-opacity:0.1; fill:none\" points=\"\n",
       "  313.845,375.869 313.845,11.811 \n",
       "  \"/>\n",
       "<polyline clip-path=\"url(#clip5202)\" style=\"stroke:#000000; stroke-width:0.5; stroke-opacity:0.1; fill:none\" points=\"\n",
       "  389.691,375.869 389.691,11.811 \n",
       "  \"/>\n",
       "<polyline clip-path=\"url(#clip5202)\" style=\"stroke:#000000; stroke-width:0.5; stroke-opacity:0.1; fill:none\" points=\"\n",
       "  465.536,375.869 465.536,11.811 \n",
       "  \"/>\n",
       "<polyline clip-path=\"url(#clip5202)\" style=\"stroke:#000000; stroke-width:0.5; stroke-opacity:0.1; fill:none\" points=\"\n",
       "  101.479,375.869 526.212,375.869 \n",
       "  \"/>\n",
       "<polyline clip-path=\"url(#clip5202)\" style=\"stroke:#000000; stroke-width:0.5; stroke-opacity:0.1; fill:none\" points=\"\n",
       "  101.479,315.192 526.212,315.192 \n",
       "  \"/>\n",
       "<polyline clip-path=\"url(#clip5202)\" style=\"stroke:#000000; stroke-width:0.5; stroke-opacity:0.1; fill:none\" points=\"\n",
       "  101.479,254.516 526.212,254.516 \n",
       "  \"/>\n",
       "<polyline clip-path=\"url(#clip5202)\" style=\"stroke:#000000; stroke-width:0.5; stroke-opacity:0.1; fill:none\" points=\"\n",
       "  101.479,193.84 526.212,193.84 \n",
       "  \"/>\n",
       "<polyline clip-path=\"url(#clip5202)\" style=\"stroke:#000000; stroke-width:0.5; stroke-opacity:0.1; fill:none\" points=\"\n",
       "  101.479,133.164 526.212,133.164 \n",
       "  \"/>\n",
       "<polyline clip-path=\"url(#clip5202)\" style=\"stroke:#000000; stroke-width:0.5; stroke-opacity:0.1; fill:none\" points=\"\n",
       "  101.479,72.4873 526.212,72.4873 \n",
       "  \"/>\n",
       "<polyline clip-path=\"url(#clip5202)\" style=\"stroke:#000000; stroke-width:0.5; stroke-opacity:0.1; fill:none\" points=\"\n",
       "  101.479,11.811 526.212,11.811 \n",
       "  \"/>\n",
       "<polyline clip-path=\"url(#clip5200)\" style=\"stroke:#000000; stroke-width:1; stroke-opacity:1; fill:none\" points=\"\n",
       "  101.479,375.869 526.212,375.869 \n",
       "  \"/>\n",
       "<polyline clip-path=\"url(#clip5200)\" style=\"stroke:#000000; stroke-width:1; stroke-opacity:1; fill:none\" points=\"\n",
       "  101.479,375.869 101.479,11.811 \n",
       "  \"/>\n",
       "<polyline clip-path=\"url(#clip5200)\" style=\"stroke:#000000; stroke-width:1; stroke-opacity:1; fill:none\" points=\"\n",
       "  162.155,375.869 162.155,370.408 \n",
       "  \"/>\n",
       "<polyline clip-path=\"url(#clip5200)\" style=\"stroke:#000000; stroke-width:1; stroke-opacity:1; fill:none\" points=\"\n",
       "  238,375.869 238,370.408 \n",
       "  \"/>\n",
       "<polyline clip-path=\"url(#clip5200)\" style=\"stroke:#000000; stroke-width:1; stroke-opacity:1; fill:none\" points=\"\n",
       "  313.845,375.869 313.845,370.408 \n",
       "  \"/>\n",
       "<polyline clip-path=\"url(#clip5200)\" style=\"stroke:#000000; stroke-width:1; stroke-opacity:1; fill:none\" points=\"\n",
       "  389.691,375.869 389.691,370.408 \n",
       "  \"/>\n",
       "<polyline clip-path=\"url(#clip5200)\" style=\"stroke:#000000; stroke-width:1; stroke-opacity:1; fill:none\" points=\"\n",
       "  465.536,375.869 465.536,370.408 \n",
       "  \"/>\n",
       "<polyline clip-path=\"url(#clip5200)\" style=\"stroke:#000000; stroke-width:1; stroke-opacity:1; fill:none\" points=\"\n",
       "  101.479,375.869 107.85,375.869 \n",
       "  \"/>\n",
       "<polyline clip-path=\"url(#clip5200)\" style=\"stroke:#000000; stroke-width:1; stroke-opacity:1; fill:none\" points=\"\n",
       "  101.479,315.192 107.85,315.192 \n",
       "  \"/>\n",
       "<polyline clip-path=\"url(#clip5200)\" style=\"stroke:#000000; stroke-width:1; stroke-opacity:1; fill:none\" points=\"\n",
       "  101.479,254.516 107.85,254.516 \n",
       "  \"/>\n",
       "<polyline clip-path=\"url(#clip5200)\" style=\"stroke:#000000; stroke-width:1; stroke-opacity:1; fill:none\" points=\"\n",
       "  101.479,193.84 107.85,193.84 \n",
       "  \"/>\n",
       "<polyline clip-path=\"url(#clip5200)\" style=\"stroke:#000000; stroke-width:1; stroke-opacity:1; fill:none\" points=\"\n",
       "  101.479,133.164 107.85,133.164 \n",
       "  \"/>\n",
       "<polyline clip-path=\"url(#clip5200)\" style=\"stroke:#000000; stroke-width:1; stroke-opacity:1; fill:none\" points=\"\n",
       "  101.479,72.4873 107.85,72.4873 \n",
       "  \"/>\n",
       "<polyline clip-path=\"url(#clip5200)\" style=\"stroke:#000000; stroke-width:1; stroke-opacity:1; fill:none\" points=\"\n",
       "  101.479,11.811 107.85,11.811 \n",
       "  \"/>\n",
       "<g clip-path=\"url(#clip5200)\">\n",
       "<text style=\"fill:#000000; fill-opacity:1; font-family:Arial,Helvetica Neue,Helvetica,sans-serif; font-size:12; text-anchor:middle;\" transform=\"rotate(0, 162.155, 389.669)\" x=\"162.155\" y=\"389.669\">-0.50</text>\n",
       "</g>\n",
       "<g clip-path=\"url(#clip5200)\">\n",
       "<text style=\"fill:#000000; fill-opacity:1; font-family:Arial,Helvetica Neue,Helvetica,sans-serif; font-size:12; text-anchor:middle;\" transform=\"rotate(0, 238, 389.669)\" x=\"238\" y=\"389.669\">-0.25</text>\n",
       "</g>\n",
       "<g clip-path=\"url(#clip5200)\">\n",
       "<text style=\"fill:#000000; fill-opacity:1; font-family:Arial,Helvetica Neue,Helvetica,sans-serif; font-size:12; text-anchor:middle;\" transform=\"rotate(0, 313.845, 389.669)\" x=\"313.845\" y=\"389.669\">0.00</text>\n",
       "</g>\n",
       "<g clip-path=\"url(#clip5200)\">\n",
       "<text style=\"fill:#000000; fill-opacity:1; font-family:Arial,Helvetica Neue,Helvetica,sans-serif; font-size:12; text-anchor:middle;\" transform=\"rotate(0, 389.691, 389.669)\" x=\"389.691\" y=\"389.669\">0.25</text>\n",
       "</g>\n",
       "<g clip-path=\"url(#clip5200)\">\n",
       "<text style=\"fill:#000000; fill-opacity:1; font-family:Arial,Helvetica Neue,Helvetica,sans-serif; font-size:12; text-anchor:middle;\" transform=\"rotate(0, 465.536, 389.669)\" x=\"465.536\" y=\"389.669\">0.50</text>\n",
       "</g>\n",
       "<g clip-path=\"url(#clip5200)\">\n",
       "<text style=\"fill:#000000; fill-opacity:1; font-family:Arial,Helvetica Neue,Helvetica,sans-serif; font-size:12; text-anchor:end;\" transform=\"rotate(0, 95.4785, 380.369)\" x=\"95.4785\" y=\"380.369\">-0.6</text>\n",
       "</g>\n",
       "<g clip-path=\"url(#clip5200)\">\n",
       "<text style=\"fill:#000000; fill-opacity:1; font-family:Arial,Helvetica Neue,Helvetica,sans-serif; font-size:12; text-anchor:end;\" transform=\"rotate(0, 95.4785, 319.692)\" x=\"95.4785\" y=\"319.692\">-0.4</text>\n",
       "</g>\n",
       "<g clip-path=\"url(#clip5200)\">\n",
       "<text style=\"fill:#000000; fill-opacity:1; font-family:Arial,Helvetica Neue,Helvetica,sans-serif; font-size:12; text-anchor:end;\" transform=\"rotate(0, 95.4785, 259.016)\" x=\"95.4785\" y=\"259.016\">-0.2</text>\n",
       "</g>\n",
       "<g clip-path=\"url(#clip5200)\">\n",
       "<text style=\"fill:#000000; fill-opacity:1; font-family:Arial,Helvetica Neue,Helvetica,sans-serif; font-size:12; text-anchor:end;\" transform=\"rotate(0, 95.4785, 198.34)\" x=\"95.4785\" y=\"198.34\">0.0</text>\n",
       "</g>\n",
       "<g clip-path=\"url(#clip5200)\">\n",
       "<text style=\"fill:#000000; fill-opacity:1; font-family:Arial,Helvetica Neue,Helvetica,sans-serif; font-size:12; text-anchor:end;\" transform=\"rotate(0, 95.4785, 137.664)\" x=\"95.4785\" y=\"137.664\">0.2</text>\n",
       "</g>\n",
       "<g clip-path=\"url(#clip5200)\">\n",
       "<text style=\"fill:#000000; fill-opacity:1; font-family:Arial,Helvetica Neue,Helvetica,sans-serif; font-size:12; text-anchor:end;\" transform=\"rotate(0, 95.4785, 76.9873)\" x=\"95.4785\" y=\"76.9873\">0.4</text>\n",
       "</g>\n",
       "<g clip-path=\"url(#clip5200)\">\n",
       "<text style=\"fill:#000000; fill-opacity:1; font-family:Arial,Helvetica Neue,Helvetica,sans-serif; font-size:12; text-anchor:end;\" transform=\"rotate(0, 95.4785, 16.311)\" x=\"95.4785\" y=\"16.311\">0.6</text>\n",
       "</g>\n",
       "<polyline clip-path=\"url(#clip5202)\" style=\"stroke:#009af9; stroke-width:1; stroke-opacity:1; fill:none\" points=\"\n",
       "  374.219,187.782 373.312,181.785 371.812,175.909 369.732,170.211 367.094,164.75 363.924,159.579 360.253,154.751 356.119,150.313 351.562,146.31 346.629,142.783 \n",
       "  341.368,139.765 335.832,137.287 330.076,135.375 324.158,134.046 318.138,133.316 312.074,133.189 306.028,133.669 300.06,134.75 294.229,136.422 288.595,138.667 \n",
       "  283.213,141.464 278.137,144.783 273.418,148.593 269.103,152.855 265.235,157.527 261.853,162.561 258.99,167.908 256.675,173.514 254.931,179.323 253.776,185.277 \n",
       "  253.222,191.317 253.273,197.382 253.929,203.411 255.184,209.345 257.025,215.124 259.434,220.69 262.386,225.988 265.853,230.965 269.799,235.571 274.185,239.76 \n",
       "  278.967,243.49 284.098,246.724 289.526,249.429 295.198,251.58 301.055,253.153 307.04,254.133 313.094,254.511 319.155,254.283 325.162,253.451 331.057,252.024 \n",
       "  336.78,250.015 342.273,247.445 347.483,244.339 352.356,240.728 356.845,236.649 360.904,232.143 364.493,227.253 367.576,222.03 370.121,216.525 372.105,210.794 \n",
       "  373.507,204.893 374.312,198.881 374.513,192.82 374.108,186.768 373.101,180.787 371.502,174.937 369.327,169.275 366.597,163.859 363.341,158.742 359.589,153.976 \n",
       "  355.381,149.609 350.758,145.683 345.766,142.239 340.455,139.31 334.878,136.926 329.091,135.11 323.152,133.881 317.119,133.252 311.054,133.228 305.017,133.809 \n",
       "  299.068,134.991 293.267,136.76 287.671,139.099 282.337,141.986 277.318,145.391 272.663,149.279 268.42,153.613 264.631,158.349 261.334,163.44 258.562,168.834 \n",
       "  256.341,174.478 254.696,180.316 253.641,186.288 253.188,192.337 253.341,198.4 254.098,204.417 255.453,210.329 257.391,216.076 259.893,221.601 262.934,226.849 \n",
       "  \n",
       "  \"/>\n",
       "<polyline clip-path=\"url(#clip5202)\" style=\"stroke:#e26f46; stroke-width:1; stroke-opacity:1; fill:none\" points=\"\n",
       "  357.19,189.491 356.539,185.185 355.462,180.966 353.969,176.876 352.075,172.955 349.799,169.243 347.164,165.776 344.196,162.59 340.924,159.716 337.382,157.184 \n",
       "  333.605,155.017 329.631,153.238 325.498,151.865 321.25,150.911 316.927,150.387 312.573,150.296 308.233,150.641 303.948,151.417 299.762,152.617 295.717,154.229 \n",
       "  291.853,156.237 288.209,158.62 284.821,161.355 281.723,164.415 278.946,167.769 276.518,171.383 274.462,175.222 272.8,179.247 271.548,183.418 270.719,187.692 \n",
       "  270.321,192.029 270.358,196.383 270.829,200.712 271.73,204.972 273.051,209.121 274.781,213.117 276.9,216.921 279.389,220.494 282.222,223.8 285.371,226.808 \n",
       "  288.805,229.486 292.489,231.808 296.386,233.75 300.457,235.294 304.663,236.423 308.96,237.127 313.306,237.399 317.657,237.235 321.97,236.638 326.202,235.613 \n",
       "  330.311,234.17 334.255,232.325 337.995,230.095 341.494,227.503 344.717,224.575 347.631,221.339 350.207,217.829 352.421,214.079 354.249,210.127 355.673,206.012 \n",
       "  356.679,201.775 357.257,197.459 357.402,193.107 357.111,188.763 356.388,184.469 355.24,180.268 353.678,176.204 351.718,172.315 349.38,168.642 346.687,165.22 \n",
       "  343.666,162.084 340.347,159.266 336.763,156.793 332.95,154.69 328.946,152.978 324.791,151.675 320.527,150.793 316.196,150.341 311.842,150.324 307.507,150.741 \n",
       "  303.236,151.589 299.071,152.86 295.054,154.539 291.224,156.612 287.621,159.056 284.279,161.848 281.233,164.959 278.512,168.36 276.145,172.014 274.155,175.887 \n",
       "  272.561,179.939 271.379,184.13 270.622,188.418 270.297,192.761 270.406,197.114 270.95,201.434 271.923,205.678 273.314,209.804 275.11,213.771 277.294,217.539 \n",
       "  \n",
       "  \"/>\n",
       "<polyline clip-path=\"url(#clip5202)\" style=\"stroke:#3da44d; stroke-width:1; stroke-opacity:1; fill:none\" points=\"\n",
       "  335.298,172.388 -440.387,-487.733 -7353.69,-6727.49 -14342,-13035.4 -21580.5,-19569.1 -29364.7,-26595.3 -38141.3,-34517.4 -48573,-43933.4 -61665.2,-55750.9 -79013.5,-71410.3 \n",
       "  -103306,-93337.3 -139408,-125925 -196954,-177868 -297328,-268470 -496117,-447904 -976365,-881396 -2.64331e+06,-2.38605e+06 -1.68974e+07,-1.52524e+07 -1.24939e+11,-1.12775e+11 \n",
       "  \"/>\n",
       "<polygon clip-path=\"url(#clip5200)\" points=\"\n",
       "396.048,93.171 508.212,93.171 508.212,32.691 396.048,32.691 \n",
       "  \" fill=\"#ffffff\" fill-opacity=\"1\"/>\n",
       "<polyline clip-path=\"url(#clip5200)\" style=\"stroke:#000000; stroke-width:1; stroke-opacity:1; fill:none\" points=\"\n",
       "  396.048,93.171 508.212,93.171 508.212,32.691 396.048,32.691 396.048,93.171 \n",
       "  \"/>\n",
       "<polyline clip-path=\"url(#clip5200)\" style=\"stroke:#009af9; stroke-width:1; stroke-opacity:1; fill:none\" points=\"\n",
       "  402.048,47.811 438.048,47.811 \n",
       "  \"/>\n",
       "<g clip-path=\"url(#clip5200)\">\n",
       "<text style=\"fill:#000000; fill-opacity:1; font-family:Arial,Helvetica Neue,Helvetica,sans-serif; font-size:12; text-anchor:start;\" transform=\"rotate(0, 444.048, 52.311)\" x=\"444.048\" y=\"52.311\">Ergosféra</text>\n",
       "</g>\n",
       "<polyline clip-path=\"url(#clip5200)\" style=\"stroke:#e26f46; stroke-width:1; stroke-opacity:1; fill:none\" points=\"\n",
       "  402.048,62.931 438.048,62.931 \n",
       "  \"/>\n",
       "<g clip-path=\"url(#clip5200)\">\n",
       "<text style=\"fill:#000000; fill-opacity:1; font-family:Arial,Helvetica Neue,Helvetica,sans-serif; font-size:12; text-anchor:start;\" transform=\"rotate(0, 444.048, 67.431)\" x=\"444.048\" y=\"67.431\">Horizonte</text>\n",
       "</g>\n",
       "<polyline clip-path=\"url(#clip5200)\" style=\"stroke:#3da44d; stroke-width:1; stroke-opacity:1; fill:none\" points=\"\n",
       "  402.048,78.051 438.048,78.051 \n",
       "  \"/>\n",
       "<g clip-path=\"url(#clip5200)\">\n",
       "<text style=\"fill:#000000; fill-opacity:1; font-family:Arial,Helvetica Neue,Helvetica,sans-serif; font-size:12; text-anchor:start;\" transform=\"rotate(0, 444.048, 82.551)\" x=\"444.048\" y=\"82.551\">y3</text>\n",
       "</g>\n",
       "</svg>\n"
      ]
     },
     "execution_count": 96,
     "metadata": {},
     "output_type": "execute_result"
    }
   ],
   "source": [
    "plot!(xx,yy,aspect_ratio=1)"
   ]
  },
  {
   "cell_type": "markdown",
   "metadata": {},
   "source": [
    "## "
   ]
  }
 ],
 "metadata": {
  "kernelspec": {
   "display_name": "Julia 0.6.1",
   "language": "julia",
   "name": "julia-0.6"
  },
  "language_info": {
   "file_extension": ".jl",
   "mimetype": "application/julia",
   "name": "julia",
   "version": "0.6.4"
  }
 },
 "nbformat": 4,
 "nbformat_minor": 2
}
