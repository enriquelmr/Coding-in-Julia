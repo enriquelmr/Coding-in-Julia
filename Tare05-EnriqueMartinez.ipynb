{
 "cells": [
  {
   "cell_type": "markdown",
   "metadata": {},
   "source": [
    "# El método de Newton"
   ]
  },
  {
   "cell_type": "markdown",
   "metadata": {},
   "source": [
    "El método de Newton (también llamado algoritmo de Newton-Raphson) constituye otro método numérico iterativo para encontrar raíces de una función $f$. \n",
    "\n",
    "Requiere más información, a saber la **derivada** $f'$,  pero a cambio suele funcionar mucho mejor. Derivaremos e implementaremos el método en este notebook. Por el momento, supondremos que el usuario provea también la derivada analítica de la función $f$, como otro argumento `df`; posteriormente en el curso, veremos cómo calcular derivadas numéricamente."
   ]
  },
  {
   "cell_type": "code",
   "execution_count": 1,
   "metadata": {},
   "outputs": [
    {
     "data": {
      "text/html": [
       "    <script class='js-collapse-script'>\n",
       "        var curMatch =\n",
       "            window.location.href\n",
       "            .match(/(.*?)\\/notebooks\\/.*\\.ipynb/);\n",
       "\n",
       "        curMatch = curMatch ||\n",
       "            window.location.href\n",
       "            .match(/(.*?)\\/apps\\/.*\\.ipynb/);\n",
       "\n",
       "        if ( curMatch ) {\n",
       "            $('head').append('<base href=\"' + curMatch[1] + '/\">');\n",
       "        }\n",
       "    </script>\n"
      ],
      "text/plain": [
       "HTML{String}(\"    <script class='js-collapse-script'>\\n        var curMatch =\\n            window.location.href\\n            .match(/(.*?)\\\\/notebooks\\\\/.*\\\\.ipynb/);\\n\\n        curMatch = curMatch ||\\n            window.location.href\\n            .match(/(.*?)\\\\/apps\\\\/.*\\\\.ipynb/);\\n\\n        if ( curMatch ) {\\n            \\$('head').append('<base href=\\\"' + curMatch[1] + '/\\\">');\\n        }\\n    </script>\\n\")"
      ]
     },
     "metadata": {},
     "output_type": "display_data"
    },
    {
     "data": {
      "text/html": [
       "<script class='js-collapse-script' src='/assetserver/4a9c8ae2369e127a11b7b64da32a2252ae982524-assets/webio/dist/bundle.js'></script>"
      ],
      "text/plain": [
       "HTML{String}(\"<script class='js-collapse-script' src='/assetserver/4a9c8ae2369e127a11b7b64da32a2252ae982524-assets/webio/dist/bundle.js'></script>\")"
      ]
     },
     "metadata": {},
     "output_type": "display_data"
    },
    {
     "data": {
      "text/html": [
       "<script class='js-collapse-script' src='/assetserver/4a9c8ae2369e127a11b7b64da32a2252ae982524-assets/providers/ijulia_setup.js'></script>"
      ],
      "text/plain": [
       "HTML{String}(\"<script class='js-collapse-script' src='/assetserver/4a9c8ae2369e127a11b7b64da32a2252ae982524-assets/providers/ijulia_setup.js'></script>\")"
      ]
     },
     "metadata": {},
     "output_type": "display_data"
    },
    {
     "data": {
      "text/html": [
       "  <script class='js-collapse-script'>\n",
       "    $('.js-collapse-script').parent('.output_subarea').css('padding', '0');\n",
       "  </script>\n"
      ],
      "text/plain": [
       "HTML{String}(\"  <script class='js-collapse-script'>\\n    \\$('.js-collapse-script').parent('.output_subarea').css('padding', '0');\\n  </script>\\n\")"
      ]
     },
     "metadata": {},
     "output_type": "display_data"
    }
   ],
   "source": [
    "using Plots\n",
    "using Interact"
   ]
  },
  {
   "cell_type": "markdown",
   "metadata": {},
   "source": [
    "#### Ejercicio 1 (Esta pregunta se lleva a cabo con papel y pluma)\n",
    "\n",
    "Considera una función $f: \\mathbb{R} \\to \\mathbb{R}$.\n",
    "Supón que $x_0$ es una adivinanza inicial de una raíz, y que $x^*$ es la raíz exacta pero \n",
    "desconocida. Sigue los siguientes pasos para derivar el método de Newton.\n",
    "\n",
    "\n",
    "(i) Supón que $x_0$ es suficientemente cercana a $x^*$. Define $\\delta$ como la distancia (con signo) de $x_0$ desde $x^*$. \n",
    "\n",
    "$\\delta=x-x0$\n",
    "\n",
    "(ii) Escribe la ecuación que corresponde a que $x^*$ sea una raíz de la función, y exprésala en términos de $\\delta$. \n",
    "\n",
    "si es raiz tenemos que $f(x+\\delta)=0$ i.e. $f(x_{0})=\\delta$\n",
    "\n",
    "(iii) Desarrolla esta ecuación en una serie de Taylor a primer orden alrededor de $x_0$, para encontrar un valor aproximado de $\\delta$.\n",
    "\n",
    "$ f(x) \\approx f(x_{0}) + f'(x_{0})(x-x_{0})+\\frac{1}{2!}f''(x_{0})(x-x_{0})^{2} $\n",
    "\n",
    "(iv) Así encuentra una ecuación para la siguiente aproximación a la raíz, $x_1 = x_0 + \\delta$. \n",
    "\n",
    "$ x_1=x_0+(x-x_0) \\Rightarrow  x=x_1$ y como la ecuacion de arriba $x$ es raiz igual a cero $\\rightarrow$ que $f(x_1)=x_0-(f(x_0))/ f'(x_{0})$\n",
    "\n",
    "(v) Por lo tanto, dada una adivinanza, podemos obtener otra que esperemos esté mejor (más cerca a la raíz). Escribe la misma ecuación que obtuviste en (iv), pero ahora para $x_{n+1}$ en términos de $x_n$. Esto es la regla general para el método de Newton.\n",
    "\n",
    "$f(x_{n+1})=-\\frac{f(x_n)} {f'(x_{n})}+x_{n}$"
   ]
  },
  {
   "cell_type": "markdown",
   "metadata": {},
   "source": [
    "#### Ejercicio 2\n",
    "\n",
    "Demuestra que el método Babilónico es un caso especial del método de Newton. [Pista: ¿Para cuál función $f$?]"
   ]
  },
  {
   "cell_type": "markdown",
   "metadata": {},
   "source": [
    "sabemos que en el metodo babilonico teniamos que resolver para $f(x_{n+1})=x_{n}^2-y \\Rightarrow f'(x_{n+1})=2x_{n}$ con lo que en newton tendriamos que $f(x_{n+1})=x_n-\\frac{x_{n}}{2}+\\frac{y}{2x}=\\frac{1}{2}\\frac{x_n-y}{x_n}$. Y recordando el metodo babilonico es tomar el punto medio entre $x_n$ y $\\frac{y}{x_n}$"
   ]
  },
  {
   "cell_type": "markdown",
   "metadata": {},
   "source": [
    "#### Ejercicio 3"
   ]
  },
  {
   "cell_type": "markdown",
   "metadata": {},
   "source": [
    "(i) Escribe una función que implementa el método de Newton. Puedes suponer que el usuario provea tanto la función `f` como su derivada `df` como argumentos a la función `newton`, así como la condición inicial `x0`. [Posteriormente veremos cómo calcular derivadas con la computadora.] [NB: Si prefieres, puedes utilizar `f′` como nombre de la derivada, al teclear `f\\prime<TAB>`. *No* se puede utilizar el apóstrofe aquí.]"
   ]
  },
  {
   "cell_type": "code",
   "execution_count": 2,
   "metadata": {},
   "outputs": [
    {
     "data": {
      "text/plain": [
       "newton (generic function with 1 method)"
      ]
     },
     "execution_count": 2,
     "metadata": {},
     "output_type": "execute_result"
    }
   ],
   "source": [
    "function newton(f,df,x0)\n",
    "    d=1\n",
    "    err=0.00001\n",
    "    iter=[]\n",
    "    while err<d \n",
    "        x = x0 - f(x0)/df(x0)\n",
    "        d= norm(x-x0)\n",
    "        push!(iter,x)\n",
    "    \n",
    "        x0=x\n",
    "    end\n",
    "    return x0,iter\n",
    "        \n",
    "end"
   ]
  },
  {
   "cell_type": "code",
   "execution_count": 3,
   "metadata": {},
   "outputs": [
    {
     "data": {
      "text/plain": [
       "6.67572021484375e-6"
      ]
     },
     "execution_count": 3,
     "metadata": {},
     "output_type": "execute_result"
    }
   ],
   "source": [
    "x,v=newton(x->x^2,x->2*x,7)\n",
    "x"
   ]
  },
  {
   "cell_type": "markdown",
   "metadata": {},
   "source": [
    "(ii) Para la función $x \\mapsto x^2$, dibuja la dinámica del método de Newton, dada una función $f$ y una condición inicial $x_0$. Para hacerlo, dibuja una recta entre cada $(x_n, 0)$ y $(x_n, f(x_n))$, así como entre $(x_n, f(x_n)$ y $(x_{n+1}, 0)$. Hazlo interactivo con `Interact.jl` (dibujando los primeros $n$ pasos y cambiando $n$). Viendo la figura, interpreta geométricamente lo que está haciendo el método de Newton."
   ]
  },
  {
   "cell_type": "code",
   "execution_count": 4,
   "metadata": {},
   "outputs": [
    {
     "name": "stderr",
     "output_type": "stream",
     "text": [
      "\u001b[1m\u001b[33mWARNING: \u001b[39m\u001b[22m\u001b[33mSkipped marker arg o.\u001b[39m\n",
      "\u001b[1m\u001b[33mWARNING: \u001b[39m\u001b[22m\u001b[33mSkipped marker arg o.\u001b[39m\n"
     ]
    },
    {
     "data": {
      "text/html": [
       "<div class='tex2jax_ignore interactbulma'>\n",
       "<div class='display:none'></div><unsafe-script style='display:none'>\n",
       "WebIO.mount(this.previousSibling,{&quot;props&quot;:{},&quot;nodeType&quot;:&quot;DOM&quot;,&quot;type&quot;:&quot;node&quot;,&quot;instanceArgs&quot;:{&quot;namespace&quot;:&quot;html&quot;,&quot;tag&quot;:&quot;div&quot;},&quot;children&quot;:[{&quot;props&quot;:{&quot;className&quot;:&quot;field&quot;},&quot;nodeType&quot;:&quot;DOM&quot;,&quot;type&quot;:&quot;node&quot;,&quot;instanceArgs&quot;:{&quot;namespace&quot;:&quot;html&quot;,&quot;tag&quot;:&quot;div&quot;},&quot;children&quot;:[{&quot;props&quot;:{},&quot;nodeType&quot;:&quot;Scope&quot;,&quot;type&quot;:&quot;node&quot;,&quot;instanceArgs&quot;:{&quot;imports&quot;:{&quot;data&quot;:[{&quot;name&quot;:&quot;knockout&quot;,&quot;type&quot;:&quot;js&quot;,&quot;url&quot;:&quot;/assetserver/5349935c03038d889da067aceaf48cf69e45c44c-knockout.js&quot;},{&quot;name&quot;:&quot;knockout_punches&quot;,&quot;type&quot;:&quot;js&quot;,&quot;url&quot;:&quot;/assetserver/261355ce1f6d956e8c802a869afb1d60e6d1a148-knockout_punches.js&quot;},{&quot;name&quot;:null,&quot;type&quot;:&quot;js&quot;,&quot;url&quot;:&quot;/assetserver/62bffe9f603315ab3d26d25f35e4bb61e805cd6a-all.js&quot;},{&quot;name&quot;:null,&quot;type&quot;:&quot;css&quot;,&quot;url&quot;:&quot;/assetserver/507f6040c850fd32f41598fe8d227269ac4c730c-style.css&quot;},{&quot;name&quot;:null,&quot;type&quot;:&quot;css&quot;,&quot;url&quot;:&quot;/assetserver/352fb24edab8d44d5bc96c0322c32d31c9a867a8-main.css&quot;}],&quot;type&quot;:&quot;async_block&quot;},&quot;id&quot;:&quot;knockout-component-167081c7-3cb7-4bcd-8cd6-394fe5740149&quot;,&quot;handlers&quot;:{&quot;_promises&quot;:{&quot;importsLoaded&quot;:[function (ko, koPunches) {\n",
       "    ko.punches.enableAll();\n",
       "    ko.bindingHandlers.numericValue = {\n",
       "        init : function(element, valueAccessor, allBindings, data, context) {\n",
       "            var stringified = ko.observable(ko.unwrap(valueAccessor()));\n",
       "            stringified.subscribe(function(value) {\n",
       "                var val = parseFloat(value);\n",
       "                if (!isNaN(val)) {\n",
       "                    valueAccessor()(val);\n",
       "                }\n",
       "            })\n",
       "            valueAccessor().subscribe(function(value) {\n",
       "                var str = JSON.stringify(value);\n",
       "                if ((str == &quot;0&quot;) &amp;&amp; ([&quot;-0&quot;, &quot;-0.&quot;].indexOf(stringified()) &gt;= 0))\n",
       "                     return;\n",
       "                 if ([&quot;null&quot;, &quot;&quot;].indexOf(str) &gt;= 0)\n",
       "                     return;\n",
       "                stringified(str);\n",
       "            })\n",
       "            ko.applyBindingsToNode(element, { value: stringified, valueUpdate: allBindings.get(&#39;valueUpdate&#39;)}, context);\n",
       "        }\n",
       "    };\n",
       "    var json_data = JSON.parse(&quot;{\\&quot;changes\\&quot;:0,\\&quot;value\\&quot;:6}&quot;);\n",
       "    var self = this;\n",
       "    function AppViewModel() {\n",
       "        for (var key in json_data) {\n",
       "            var el = json_data[key];\n",
       "            this[key] = Array.isArray(el) ? ko.observableArray(el) : ko.observable(el);\n",
       "        }\n",
       "        \n",
       "        [this[&quot;displayedvalue&quot;]=ko.computed(function () {return this.value();},this)]\n",
       "        [this[&quot;changes&quot;].subscribe((function (val){!(this.valueFromJulia[&quot;changes&quot;]) ? (WebIO.setval({&quot;name&quot;:&quot;changes&quot;,&quot;scope&quot;:&quot;knockout-component-167081c7-3cb7-4bcd-8cd6-394fe5740149&quot;,&quot;id&quot;:&quot;ob_02&quot;,&quot;type&quot;:&quot;observable&quot;},val)) : undefined; return this.valueFromJulia[&quot;changes&quot;]=false}),self),this[&quot;value&quot;].subscribe((function (val){!(this.valueFromJulia[&quot;value&quot;]) ? (WebIO.setval({&quot;name&quot;:&quot;value&quot;,&quot;scope&quot;:&quot;knockout-component-167081c7-3cb7-4bcd-8cd6-394fe5740149&quot;,&quot;id&quot;:&quot;ob_01&quot;,&quot;type&quot;:&quot;observable&quot;},val)) : undefined; return this.valueFromJulia[&quot;value&quot;]=false}),self)]\n",
       "        \n",
       "    }\n",
       "    self.model = new AppViewModel();\n",
       "    self.valueFromJulia = {};\n",
       "    for (var key in json_data) {\n",
       "        self.valueFromJulia[key] = false;\n",
       "    }\n",
       "    ko.applyBindings(self.model, self.dom);\n",
       "}\n",
       "]},&quot;changes&quot;:[(function (val){return (val!=this.model[&quot;changes&quot;]()) ? (this.valueFromJulia[&quot;changes&quot;]=true, this.model[&quot;changes&quot;](val)) : undefined})],&quot;value&quot;:[(function (val){return (val!=this.model[&quot;value&quot;]()) ? (this.valueFromJulia[&quot;value&quot;]=true, this.model[&quot;value&quot;](val)) : undefined})]},&quot;systemjs_options&quot;:null,&quot;observables&quot;:{&quot;changes&quot;:{&quot;sync&quot;:false,&quot;id&quot;:&quot;ob_02&quot;,&quot;value&quot;:0},&quot;value&quot;:{&quot;sync&quot;:true,&quot;id&quot;:&quot;ob_01&quot;,&quot;value&quot;:6}}},&quot;children&quot;:[{&quot;props&quot;:{&quot;attributes&quot;:{&quot;style&quot;:&quot;display:flex; justify-content:center; align-items:center;&quot;}},&quot;nodeType&quot;:&quot;DOM&quot;,&quot;type&quot;:&quot;node&quot;,&quot;instanceArgs&quot;:{&quot;namespace&quot;:&quot;html&quot;,&quot;tag&quot;:&quot;div&quot;},&quot;children&quot;:[{&quot;props&quot;:{&quot;attributes&quot;:{&quot;style&quot;:&quot;text-align:right;width:18%&quot;}},&quot;nodeType&quot;:&quot;DOM&quot;,&quot;type&quot;:&quot;node&quot;,&quot;instanceArgs&quot;:{&quot;namespace&quot;:&quot;html&quot;,&quot;tag&quot;:&quot;div&quot;},&quot;children&quot;:[{&quot;props&quot;:{&quot;className&quot;:&quot;interact &quot;,&quot;style&quot;:{&quot;padding&quot;:&quot;5px 10px 0px 10px&quot;}},&quot;nodeType&quot;:&quot;DOM&quot;,&quot;type&quot;:&quot;node&quot;,&quot;instanceArgs&quot;:{&quot;namespace&quot;:&quot;html&quot;,&quot;tag&quot;:&quot;label&quot;},&quot;children&quot;:[&quot;n&quot;]}]},{&quot;props&quot;:{&quot;attributes&quot;:{&quot;style&quot;:&quot;flex-grow:1; margin: 0 2%&quot;}},&quot;nodeType&quot;:&quot;DOM&quot;,&quot;type&quot;:&quot;node&quot;,&quot;instanceArgs&quot;:{&quot;namespace&quot;:&quot;html&quot;,&quot;tag&quot;:&quot;div&quot;},&quot;children&quot;:[{&quot;props&quot;:{&quot;max&quot;:16,&quot;style&quot;:{},&quot;attributes&quot;:{&quot;type&quot;:&quot;range&quot;,&quot;data-bind&quot;:&quot;numericValue: value, valueUpdate: &#39;input&#39;, event: {change : function () {this.changes(this.changes()+1)}}&quot;},&quot;step&quot;:5,&quot;className&quot;:&quot;slider slider is-fullwidth&quot;,&quot;min&quot;:1},&quot;nodeType&quot;:&quot;DOM&quot;,&quot;type&quot;:&quot;node&quot;,&quot;instanceArgs&quot;:{&quot;namespace&quot;:&quot;html&quot;,&quot;tag&quot;:&quot;input&quot;},&quot;children&quot;:[]}]},{&quot;props&quot;:{&quot;attributes&quot;:{&quot;style&quot;:&quot;width:18%&quot;}},&quot;nodeType&quot;:&quot;DOM&quot;,&quot;type&quot;:&quot;node&quot;,&quot;instanceArgs&quot;:{&quot;namespace&quot;:&quot;html&quot;,&quot;tag&quot;:&quot;div&quot;},&quot;children&quot;:[{&quot;props&quot;:{&quot;attributes&quot;:{&quot;data-bind&quot;:&quot;text: displayedvalue&quot;}},&quot;nodeType&quot;:&quot;DOM&quot;,&quot;type&quot;:&quot;node&quot;,&quot;instanceArgs&quot;:{&quot;namespace&quot;:&quot;html&quot;,&quot;tag&quot;:&quot;p&quot;},&quot;children&quot;:[]}]}]}]}]},{&quot;props&quot;:{},&quot;nodeType&quot;:&quot;Scope&quot;,&quot;type&quot;:&quot;node&quot;,&quot;instanceArgs&quot;:{&quot;imports&quot;:{&quot;data&quot;:[],&quot;type&quot;:&quot;async_block&quot;},&quot;id&quot;:&quot;scope-163d6643-5102-40ee-a0ac-941cc82b9180&quot;,&quot;handlers&quot;:{&quot;obs-output&quot;:[function (updated_htmlstr) {\n",
       "    var el = this.dom.querySelector(&quot;#out&quot;);\n",
       "    WebIO.propUtils.setInnerHtml(el, updated_htmlstr);\n",
       "}]},&quot;systemjs_options&quot;:null,&quot;observables&quot;:{&quot;obs-output&quot;:{&quot;sync&quot;:false,&quot;id&quot;:&quot;ob_06&quot;,&quot;value&quot;:&quot;&lt;div class=&#39;display:none&#39;&gt;&lt;/div&gt;&lt;unsafe-script style=&#39;display:none&#39;&gt;\\nWebIO.mount(this.previousSibling,{&amp;quot;props&amp;quot;:{&amp;quot;attributes&amp;quot;:{&amp;quot;style&amp;quot;:&amp;quot;display:flex; justify-content:center; align-items:center;&amp;quot;}},&amp;quot;nodeType&amp;quot;:&amp;quot;DOM&amp;quot;,&amp;quot;type&amp;quot;:&amp;quot;node&amp;quot;,&amp;quot;instanceArgs&amp;quot;:{&amp;quot;namespace&amp;quot;:&amp;quot;html&amp;quot;,&amp;quot;tag&amp;quot;:&amp;quot;div&amp;quot;},&amp;quot;children&amp;quot;:[{&amp;quot;props&amp;quot;:{&amp;quot;setInnerHtml&amp;quot;:&amp;quot;&amp;lt;?xml version=\\\\&amp;quot;1.0\\\\&amp;quot; encoding=\\\\&amp;quot;utf-8\\\\&amp;quot;?&amp;gt;\\\\n&amp;lt;svg xmlns=\\\\&amp;quot;http://www.w3.org/2000/svg\\\\&amp;quot; xmlns:xlink=\\\\&amp;quot;http://www.w3.org/1999/xlink\\\\&amp;quot; width=\\\\&amp;quot;600\\\\&amp;quot; height=\\\\&amp;quot;400\\\\&amp;quot; viewBox=\\\\&amp;quot;0 0 600 400\\\\&amp;quot;&amp;gt;\\\\n&amp;lt;defs&amp;gt;\\\\n  &amp;lt;clipPath id=\\\\&amp;quot;clip5800\\\\&amp;quot;&amp;gt;\\\\n    &amp;lt;rect x=\\\\&amp;quot;0\\\\&amp;quot; y=\\\\&amp;quot;0\\\\&amp;quot; width=\\\\&amp;quot;600\\\\&amp;quot; height=\\\\&amp;quot;400\\\\&amp;quot;/&amp;gt;\\\\n  &amp;lt;/clipPath&amp;gt;\\\\n&amp;lt;/defs&amp;gt;\\\\n&amp;lt;polygon clip-path=\\\\&amp;quot;url(#clip5800)\\\\&amp;quot; points=\\\\&amp;quot;\\\\n0,400 600,400 600,0 0,0 \\\\n  \\\\&amp;quot; fill=\\\\&amp;quot;#ffffff\\\\&amp;quot; fill-opacity=\\\\&amp;quot;1\\\\&amp;quot;/&amp;gt;\\\\n&amp;lt;defs&amp;gt;\\\\n  &amp;lt;clipPath id=\\\\&amp;quot;clip5801\\\\&amp;quot;&amp;gt;\\\\n    &amp;lt;rect x=\\\\&amp;quot;120\\\\&amp;quot; y=\\\\&amp;quot;0\\\\&amp;quot; width=\\\\&amp;quot;421\\\\&amp;quot; height=\\\\&amp;quot;400\\\\&amp;quot;/&amp;gt;\\\\n  &amp;lt;/clipPath&amp;gt;\\\\n&amp;lt;/defs&amp;gt;\\\\n&amp;lt;polygon clip-path=\\\\&amp;quot;url(#clip5800)\\\\&amp;quot; points=\\\\&amp;quot;\\\\n37.0032,375.869 580.315,375.869 580.315,11.811 37.0032,11.811 \\\\n  \\\\&amp;quot; fill=\\\\&amp;quot;#ffffff\\\\&amp;quot; fill-opacity=\\\\&amp;quot;1\\\\&amp;quot;/&amp;gt;\\\\n&amp;lt;defs&amp;gt;\\\\n  &amp;lt;clipPath id=\\\\&amp;quot;clip5802\\\\&amp;quot;&amp;gt;\\\\n    &amp;lt;rect x=\\\\&amp;quot;37\\\\&amp;quot; y=\\\\&amp;quot;11\\\\&amp;quot; width=\\\\&amp;quot;544\\\\&amp;quot; height=\\\\&amp;quot;365\\\\&amp;quot;/&amp;gt;\\\\n  &amp;lt;/clipPath&amp;gt;\\\\n&amp;lt;/defs&amp;gt;\\\\n&amp;lt;polyline clip-path=\\\\&amp;quot;url(#clip5802)\\\\&amp;quot; style=\\\\&amp;quot;stroke:#000000; stroke-width:0.5; stroke-opacity:0.1; fill:none\\\\&amp;quot; points=\\\\&amp;quot;\\\\n  44.2441,375.869 44.2441,11.811 \\\\n  \\\\&amp;quot;/&amp;gt;\\\\n&amp;lt;polyline clip-path=\\\\&amp;quot;url(#clip5802)\\\\&amp;quot; style=\\\\&amp;quot;stroke:#000000; stroke-width:0.5; stroke-opacity:0.1; fill:none\\\\&amp;quot; points=\\\\&amp;quot;\\\\n  193.014,375.869 193.014,11.811 \\\\n  \\\\&amp;quot;/&amp;gt;\\\\n&amp;lt;polyline clip-path=\\\\&amp;quot;url(#clip5802)\\\\&amp;quot; style=\\\\&amp;quot;stroke:#000000; stroke-width:0.5; stroke-opacity:0.1; fill:none\\\\&amp;quot; points=\\\\&amp;quot;\\\\n  341.784,375.869 341.784,11.811 \\\\n  \\\\&amp;quot;/&amp;gt;\\\\n&amp;lt;polyline clip-path=\\\\&amp;quot;url(#clip5802)\\\\&amp;quot; style=\\\\&amp;quot;stroke:#000000; stroke-width:0.5; stroke-opacity:0.1; fill:none\\\\&amp;quot; points=\\\\&amp;quot;\\\\n  490.553,375.869 490.553,11.811 \\\\n  \\\\&amp;quot;/&amp;gt;\\\\n&amp;lt;polyline clip-path=\\\\&amp;quot;url(#clip5802)\\\\&amp;quot; style=\\\\&amp;quot;stroke:#000000; stroke-width:0.5; stroke-opacity:0.1; fill:none\\\\&amp;quot; points=\\\\&amp;quot;\\\\n  37.0032,365.565 580.315,365.565 \\\\n  \\\\&amp;quot;/&amp;gt;\\\\n&amp;lt;polyline clip-path=\\\\&amp;quot;url(#clip5802)\\\\&amp;quot; style=\\\\&amp;quot;stroke:#000000; stroke-width:0.5; stroke-opacity:0.1; fill:none\\\\&amp;quot; points=\\\\&amp;quot;\\\\n  37.0032,309.492 580.315,309.492 \\\\n  \\\\&amp;quot;/&amp;gt;\\\\n&amp;lt;polyline clip-path=\\\\&amp;quot;url(#clip5802)\\\\&amp;quot; style=\\\\&amp;quot;stroke:#000000; stroke-width:0.5; stroke-opacity:0.1; fill:none\\\\&amp;quot; points=\\\\&amp;quot;\\\\n  37.0032,253.418 580.315,253.418 \\\\n  \\\\&amp;quot;/&amp;gt;\\\\n&amp;lt;polyline clip-path=\\\\&amp;quot;url(#clip5802)\\\\&amp;quot; style=\\\\&amp;quot;stroke:#000000; stroke-width:0.5; stroke-opacity:0.1; fill:none\\\\&amp;quot; points=\\\\&amp;quot;\\\\n  37.0032,197.344 580.315,197.344 \\\\n  \\\\&amp;quot;/&amp;gt;\\\\n&amp;lt;polyline clip-path=\\\\&amp;quot;url(#clip5802)\\\\&amp;quot; style=\\\\&amp;quot;stroke:#000000; stroke-width:0.5; stroke-opacity:0.1; fill:none\\\\&amp;quot; points=\\\\&amp;quot;\\\\n  37.0032,141.271 580.315,141.271 \\\\n  \\\\&amp;quot;/&amp;gt;\\\\n&amp;lt;polyline clip-path=\\\\&amp;quot;url(#clip5802)\\\\&amp;quot; style=\\\\&amp;quot;stroke:#000000; stroke-width:0.5; stroke-opacity:0.1; fill:none\\\\&amp;quot; points=\\\\&amp;quot;\\\\n  37.0032,85.1973 580.315,85.1973 \\\\n  \\\\&amp;quot;/&amp;gt;\\\\n&amp;lt;polyline clip-path=\\\\&amp;quot;url(#clip5802)\\\\&amp;quot; style=\\\\&amp;quot;stroke:#000000; stroke-width:0.5; stroke-opacity:0.1; fill:none\\\\&amp;quot; points=\\\\&amp;quot;\\\\n  37.0032,29.1237 580.315,29.1237 \\\\n  \\\\&amp;quot;/&amp;gt;\\\\n&amp;lt;polyline clip-path=\\\\&amp;quot;url(#clip5800)\\\\&amp;quot; style=\\\\&amp;quot;stroke:#000000; stroke-width:1; stroke-opacity:1; fill:none\\\\&amp;quot; points=\\\\&amp;quot;\\\\n  37.0032,375.869 580.315,375.869 \\\\n  \\\\&amp;quot;/&amp;gt;\\\\n&amp;lt;polyline clip-path=\\\\&amp;quot;url(#clip5800)\\\\&amp;quot; style=\\\\&amp;quot;stroke:#000000; stroke-width:1; stroke-opacity:1; fill:none\\\\&amp;quot; points=\\\\&amp;quot;\\\\n  37.0032,375.869 37.0032,11.811 \\\\n  \\\\&amp;quot;/&amp;gt;\\\\n&amp;lt;polyline clip-path=\\\\&amp;quot;url(#clip5800)\\\\&amp;quot; style=\\\\&amp;quot;stroke:#000000; stroke-width:1; stroke-opacity:1; fill:none\\\\&amp;quot; points=\\\\&amp;quot;\\\\n  44.2441,375.869 44.2441,370.408 \\\\n  \\\\&amp;quot;/&amp;gt;\\\\n&amp;lt;polyline clip-path=\\\\&amp;quot;url(#clip5800)\\\\&amp;quot; style=\\\\&amp;quot;stroke:#000000; stroke-width:1; stroke-opacity:1; fill:none\\\\&amp;quot; points=\\\\&amp;quot;\\\\n  193.014,375.869 193.014,370.408 \\\\n  \\\\&amp;quot;/&amp;gt;\\\\n&amp;lt;polyline clip-path=\\\\&amp;quot;url(#clip5800)\\\\&amp;quot; style=\\\\&amp;quot;stroke:#000000; stroke-width:1; stroke-opacity:1; fill:none\\\\&amp;quot; points=\\\\&amp;quot;\\\\n  341.784,375.869 341.784,370.408 \\\\n  \\\\&amp;quot;/&amp;gt;\\\\n&amp;lt;polyline clip-path=\\\\&amp;quot;url(#clip5800)\\\\&amp;quot; style=\\\\&amp;quot;stroke:#000000; stroke-width:1; stroke-opacity:1; fill:none\\\\&amp;quot; points=\\\\&amp;quot;\\\\n  490.553,375.869 490.553,370.408 \\\\n  \\\\&amp;quot;/&amp;gt;\\\\n&amp;lt;polyline clip-path=\\\\&amp;quot;url(#clip5800)\\\\&amp;quot; style=\\\\&amp;quot;stroke:#000000; stroke-width:1; stroke-opacity:1; fill:none\\\\&amp;quot; points=\\\\&amp;quot;\\\\n  37.0032,365.565 45.1529,365.565 \\\\n  \\\\&amp;quot;/&amp;gt;\\\\n&amp;lt;polyline clip-path=\\\\&amp;quot;url(#clip5800)\\\\&amp;quot; style=\\\\&amp;quot;stroke:#000000; stroke-width:1; stroke-opacity:1; fill:none\\\\&amp;quot; points=\\\\&amp;quot;\\\\n  37.0032,309.492 45.1529,309.492 \\\\n  \\\\&amp;quot;/&amp;gt;\\\\n&amp;lt;polyline clip-path=\\\\&amp;quot;url(#clip5800)\\\\&amp;quot; style=\\\\&amp;quot;stroke:#000000; stroke-width:1; stroke-opacity:1; fill:none\\\\&amp;quot; points=\\\\&amp;quot;\\\\n  37.0032,253.418 45.1529,253.418 \\\\n  \\\\&amp;quot;/&amp;gt;\\\\n&amp;lt;polyline clip-path=\\\\&amp;quot;url(#clip5800)\\\\&amp;quot; style=\\\\&amp;quot;stroke:#000000; stroke-width:1; stroke-opacity:1; fill:none\\\\&amp;quot; points=\\\\&amp;quot;\\\\n  37.0032,197.344 45.1529,197.344 \\\\n  \\\\&amp;quot;/&amp;gt;\\\\n&amp;lt;polyline clip-path=\\\\&amp;quot;url(#clip5800)\\\\&amp;quot; style=\\\\&amp;quot;stroke:#000000; stroke-width:1; stroke-opacity:1; fill:none\\\\&amp;quot; points=\\\\&amp;quot;\\\\n  37.0032,141.271 45.1529,141.271 \\\\n  \\\\&amp;quot;/&amp;gt;\\\\n&amp;lt;polyline clip-path=\\\\&amp;quot;url(#clip5800)\\\\&amp;quot; style=\\\\&amp;quot;stroke:#000000; stroke-width:1; stroke-opacity:1; fill:none\\\\&amp;quot; points=\\\\&amp;quot;\\\\n  37.0032,85.1973 45.1529,85.1973 \\\\n  \\\\&amp;quot;/&amp;gt;\\\\n&amp;lt;polyline clip-path=\\\\&amp;quot;url(#clip5800)\\\\&amp;quot; style=\\\\&amp;quot;stroke:#000000; stroke-width:1; stroke-opacity:1; fill:none\\\\&amp;quot; points=\\\\&amp;quot;\\\\n  37.0032,29.1237 45.1529,29.1237 \\\\n  \\\\&amp;quot;/&amp;gt;\\\\n&amp;lt;g clip-path=\\\\&amp;quot;url(#clip5800)\\\\&amp;quot;&amp;gt;\\\\n&amp;lt;text style=\\\\&amp;quot;fill:#000000; fill-opacity:1; font-family:Arial,Helvetica Neue,Helvetica,sans-serif; font-size:12; text-anchor:middle;\\\\&amp;quot; transform=\\\\&amp;quot;rotate(0, 44.2441, 389.669)\\\\&amp;quot; x=\\\\&amp;quot;44.2441\\\\&amp;quot; y=\\\\&amp;quot;389.669\\\\&amp;quot;&amp;gt;0&amp;lt;/text&amp;gt;\\\\n&amp;lt;/g&amp;gt;\\\\n&amp;lt;g clip-path=\\\\&amp;quot;url(#clip5800)\\\\&amp;quot;&amp;gt;\\\\n&amp;lt;text style=\\\\&amp;quot;fill:#000000; fill-opacity:1; font-family:Arial,Helvetica Neue,Helvetica,sans-serif; font-size:12; text-anchor:middle;\\\\&amp;quot; transform=\\\\&amp;quot;rotate(0, 193.014, 389.669)\\\\&amp;quot; x=\\\\&amp;quot;193.014\\\\&amp;quot; y=\\\\&amp;quot;389.669\\\\&amp;quot;&amp;gt;1&amp;lt;/text&amp;gt;\\\\n&amp;lt;/g&amp;gt;\\\\n&amp;lt;g clip-path=\\\\&amp;quot;url(#clip5800)\\\\&amp;quot;&amp;gt;\\\\n&amp;lt;text style=\\\\&amp;quot;fill:#000000; fill-opacity:1; font-family:Arial,Helvetica Neue,Helvetica,sans-serif; font-size:12; text-anchor:middle;\\\\&amp;quot; transform=\\\\&amp;quot;rotate(0, 341.784, 389.669)\\\\&amp;quot; x=\\\\&amp;quot;341.784\\\\&amp;quot; y=\\\\&amp;quot;389.669\\\\&amp;quot;&amp;gt;2&amp;lt;/text&amp;gt;\\\\n&amp;lt;/g&amp;gt;\\\\n&amp;lt;g clip-path=\\\\&amp;quot;url(#clip5800)\\\\&amp;quot;&amp;gt;\\\\n&amp;lt;text style=\\\\&amp;quot;fill:#000000; fill-opacity:1; font-family:Arial,Helvetica Neue,Helvetica,sans-serif; font-size:12; text-anchor:middle;\\\\&amp;quot; transform=\\\\&amp;quot;rotate(0, 490.553, 389.669)\\\\&amp;quot; x=\\\\&amp;quot;490.553\\\\&amp;quot; y=\\\\&amp;quot;389.669\\\\&amp;quot;&amp;gt;3&amp;lt;/text&amp;gt;\\\\n&amp;lt;/g&amp;gt;\\\\n&amp;lt;g clip-path=\\\\&amp;quot;url(#clip5800)\\\\&amp;quot;&amp;gt;\\\\n&amp;lt;text style=\\\\&amp;quot;fill:#000000; fill-opacity:1; font-family:Arial,Helvetica Neue,Helvetica,sans-serif; font-size:12; text-anchor:end;\\\\&amp;quot; transform=\\\\&amp;quot;rotate(0, 31.0032, 370.065)\\\\&amp;quot; x=\\\\&amp;quot;31.0032\\\\&amp;quot; y=\\\\&amp;quot;370.065\\\\&amp;quot;&amp;gt;0&amp;lt;/text&amp;gt;\\\\n&amp;lt;/g&amp;gt;\\\\n&amp;lt;g clip-path=\\\\&amp;quot;url(#clip5800)\\\\&amp;quot;&amp;gt;\\\\n&amp;lt;text style=\\\\&amp;quot;fill:#000000; fill-opacity:1; font-family:Arial,Helvetica Neue,Helvetica,sans-serif; font-size:12; text-anchor:end;\\\\&amp;quot; transform=\\\\&amp;quot;rotate(0, 31.0032, 313.992)\\\\&amp;quot; x=\\\\&amp;quot;31.0032\\\\&amp;quot; y=\\\\&amp;quot;313.992\\\\&amp;quot;&amp;gt;2&amp;lt;/text&amp;gt;\\\\n&amp;lt;/g&amp;gt;\\\\n&amp;lt;g clip-path=\\\\&amp;quot;url(#clip5800)\\\\&amp;quot;&amp;gt;\\\\n&amp;lt;text style=\\\\&amp;quot;fill:#000000; fill-opacity:1; font-family:Arial,Helvetica Neue,Helvetica,sans-serif; font-size:12; text-anchor:end;\\\\&amp;quot; transform=\\\\&amp;quot;rotate(0, 31.0032, 257.918)\\\\&amp;quot; x=\\\\&amp;quot;31.0032\\\\&amp;quot; y=\\\\&amp;quot;257.918\\\\&amp;quot;&amp;gt;4&amp;lt;/text&amp;gt;\\\\n&amp;lt;/g&amp;gt;\\\\n&amp;lt;g clip-path=\\\\&amp;quot;url(#clip5800)\\\\&amp;quot;&amp;gt;\\\\n&amp;lt;text style=\\\\&amp;quot;fill:#000000; fill-opacity:1; font-family:Arial,Helvetica Neue,Helvetica,sans-serif; font-size:12; text-anchor:end;\\\\&amp;quot; transform=\\\\&amp;quot;rotate(0, 31.0032, 201.844)\\\\&amp;quot; x=\\\\&amp;quot;31.0032\\\\&amp;quot; y=\\\\&amp;quot;201.844\\\\&amp;quot;&amp;gt;6&amp;lt;/text&amp;gt;\\\\n&amp;lt;/g&amp;gt;\\\\n&amp;lt;g clip-path=\\\\&amp;quot;url(#clip5800)\\\\&amp;quot;&amp;gt;\\\\n&amp;lt;text style=\\\\&amp;quot;fill:#000000; fill-opacity:1; font-family:Arial,Helvetica Neue,Helvetica,sans-serif; font-size:12; text-anchor:end;\\\\&amp;quot; transform=\\\\&amp;quot;rotate(0, 31.0032, 145.771)\\\\&amp;quot; x=\\\\&amp;quot;31.0032\\\\&amp;quot; y=\\\\&amp;quot;145.771\\\\&amp;quot;&amp;gt;8&amp;lt;/text&amp;gt;\\\\n&amp;lt;/g&amp;gt;\\\\n&amp;lt;g clip-path=\\\\&amp;quot;url(#clip5800)\\\\&amp;quot;&amp;gt;\\\\n&amp;lt;text style=\\\\&amp;quot;fill:#000000; fill-opacity:1; font-family:Arial,Helvetica Neue,Helvetica,sans-serif; font-size:12; text-anchor:end;\\\\&amp;quot; transform=\\\\&amp;quot;rotate(0, 31.0032, 89.6973)\\\\&amp;quot; x=\\\\&amp;quot;31.0032\\\\&amp;quot; y=\\\\&amp;quot;89.6973\\\\&amp;quot;&amp;gt;10&amp;lt;/text&amp;gt;\\\\n&amp;lt;/g&amp;gt;\\\\n&amp;lt;g clip-path=\\\\&amp;quot;url(#clip5800)\\\\&amp;quot;&amp;gt;\\\\n&amp;lt;text style=\\\\&amp;quot;fill:#000000; fill-opacity:1; font-family:Arial,Helvetica Neue,Helvetica,sans-serif; font-size:12; text-anchor:end;\\\\&amp;quot; transform=\\\\&amp;quot;rotate(0, 31.0032, 33.6237)\\\\&amp;quot; x=\\\\&amp;quot;31.0032\\\\&amp;quot; y=\\\\&amp;quot;33.6237\\\\&amp;quot;&amp;gt;12&amp;lt;/text&amp;gt;\\\\n&amp;lt;/g&amp;gt;\\\\n&amp;lt;polyline clip-path=\\\\&amp;quot;url(#clip5802)\\\\&amp;quot; style=\\\\&amp;quot;stroke:#009af9; stroke-width:1; stroke-opacity:1; fill:none\\\\&amp;quot; points=\\\\&amp;quot;\\\\n  564.938,365.565 564.938,22.1145 \\\\n  \\\\&amp;quot;/&amp;gt;\\\\n&amp;lt;circle clip-path=\\\\&amp;quot;url(#clip5802)\\\\&amp;quot; style=\\\\&amp;quot;fill:#000000; stroke:none; fill-opacity:1\\\\&amp;quot; cx=\\\\&amp;quot;564.938\\\\&amp;quot; cy=\\\\&amp;quot;365.565\\\\&amp;quot; r=\\\\&amp;quot;4\\\\&amp;quot;/&amp;gt;\\\\n&amp;lt;circle clip-path=\\\\&amp;quot;url(#clip5802)\\\\&amp;quot; style=\\\\&amp;quot;fill:#009af9; stroke:none; fill-opacity:1\\\\&amp;quot; cx=\\\\&amp;quot;564.938\\\\&amp;quot; cy=\\\\&amp;quot;365.565\\\\&amp;quot; r=\\\\&amp;quot;3\\\\&amp;quot;/&amp;gt;\\\\n&amp;lt;circle clip-path=\\\\&amp;quot;url(#clip5802)\\\\&amp;quot; style=\\\\&amp;quot;fill:#000000; stroke:none; fill-opacity:1\\\\&amp;quot; cx=\\\\&amp;quot;564.938\\\\&amp;quot; cy=\\\\&amp;quot;22.1145\\\\&amp;quot; r=\\\\&amp;quot;4\\\\&amp;quot;/&amp;gt;\\\\n&amp;lt;circle clip-path=\\\\&amp;quot;url(#clip5802)\\\\&amp;quot; style=\\\\&amp;quot;fill:#009af9; stroke:none; fill-opacity:1\\\\&amp;quot; cx=\\\\&amp;quot;564.938\\\\&amp;quot; cy=\\\\&amp;quot;22.1145\\\\&amp;quot; r=\\\\&amp;quot;3\\\\&amp;quot;/&amp;gt;\\\\n&amp;lt;polyline clip-path=\\\\&amp;quot;url(#clip5802)\\\\&amp;quot; style=\\\\&amp;quot;stroke:#e26f46; stroke-width:1; stroke-opacity:1; fill:none\\\\&amp;quot; points=\\\\&amp;quot;\\\\n  564.938,22.1145 304.591,365.565 \\\\n  \\\\&amp;quot;/&amp;gt;\\\\n&amp;lt;circle clip-path=\\\\&amp;quot;url(#clip5802)\\\\&amp;quot; style=\\\\&amp;quot;fill:#000000; stroke:none; fill-opacity:1\\\\&amp;quot; cx=\\\\&amp;quot;564.938\\\\&amp;quot; cy=\\\\&amp;quot;22.1145\\\\&amp;quot; r=\\\\&amp;quot;4\\\\&amp;quot;/&amp;gt;\\\\n&amp;lt;circle clip-path=\\\\&amp;quot;url(#clip5802)\\\\&amp;quot; style=\\\\&amp;quot;fill:#e26f46; stroke:none; fill-opacity:1\\\\&amp;quot; cx=\\\\&amp;quot;564.938\\\\&amp;quot; cy=\\\\&amp;quot;22.1145\\\\&amp;quot; r=\\\\&amp;quot;3\\\\&amp;quot;/&amp;gt;\\\\n&amp;lt;circle clip-path=\\\\&amp;quot;url(#clip5802)\\\\&amp;quot; style=\\\\&amp;quot;fill:#000000; stroke:none; fill-opacity:1\\\\&amp;quot; cx=\\\\&amp;quot;304.591\\\\&amp;quot; cy=\\\\&amp;quot;365.565\\\\&amp;quot; r=\\\\&amp;quot;4\\\\&amp;quot;/&amp;gt;\\\\n&amp;lt;circle clip-path=\\\\&amp;quot;url(#clip5802)\\\\&amp;quot; style=\\\\&amp;quot;fill:#e26f46; stroke:none; fill-opacity:1\\\\&amp;quot; cx=\\\\&amp;quot;304.591\\\\&amp;quot; cy=\\\\&amp;quot;365.565\\\\&amp;quot; r=\\\\&amp;quot;3\\\\&amp;quot;/&amp;gt;\\\\n&amp;lt;polyline clip-path=\\\\&amp;quot;url(#clip5802)\\\\&amp;quot; style=\\\\&amp;quot;stroke:#3da44d; stroke-width:1; stroke-opacity:1; fill:none\\\\&amp;quot; points=\\\\&amp;quot;\\\\n  304.591,365.565 304.591,279.703 \\\\n  \\\\&amp;quot;/&amp;gt;\\\\n&amp;lt;circle clip-path=\\\\&amp;quot;url(#clip5802)\\\\&amp;quot; style=\\\\&amp;quot;fill:#000000; stroke:none; fill-opacity:1\\\\&amp;quot; cx=\\\\&amp;quot;304.591\\\\&amp;quot; cy=\\\\&amp;quot;365.565\\\\&amp;quot; r=\\\\&amp;quot;4\\\\&amp;quot;/&amp;gt;\\\\n&amp;lt;circle clip-path=\\\\&amp;quot;url(#clip5802)\\\\&amp;quot; style=\\\\&amp;quot;fill:#3da44d; stroke:none; fill-opacity:1\\\\&amp;quot; cx=\\\\&amp;quot;304.591\\\\&amp;quot; cy=\\\\&amp;quot;365.565\\\\&amp;quot; r=\\\\&amp;quot;3\\\\&amp;quot;/&amp;gt;\\\\n&amp;lt;circle clip-path=\\\\&amp;quot;url(#clip5802)\\\\&amp;quot; style=\\\\&amp;quot;fill:#000000; stroke:none; fill-opacity:1\\\\&amp;quot; cx=\\\\&amp;quot;304.591\\\\&amp;quot; cy=\\\\&amp;quot;279.703\\\\&amp;quot; r=\\\\&amp;quot;4\\\\&amp;quot;/&amp;gt;\\\\n&amp;lt;circle clip-path=\\\\&amp;quot;url(#clip5802)\\\\&amp;quot; style=\\\\&amp;quot;fill:#3da44d; stroke:none; fill-opacity:1\\\\&amp;quot; cx=\\\\&amp;quot;304.591\\\\&amp;quot; cy=\\\\&amp;quot;279.703\\\\&amp;quot; r=\\\\&amp;quot;3\\\\&amp;quot;/&amp;gt;\\\\n&amp;lt;polyline clip-path=\\\\&amp;quot;url(#clip5802)\\\\&amp;quot; style=\\\\&amp;quot;stroke:#c271d2; stroke-width:1; stroke-opacity:1; fill:none\\\\&amp;quot; points=\\\\&amp;quot;\\\\n  304.591,279.703 174.418,365.565 \\\\n  \\\\&amp;quot;/&amp;gt;\\\\n&amp;lt;circle clip-path=\\\\&amp;quot;url(#clip5802)\\\\&amp;quot; style=\\\\&amp;quot;fill:#000000; stroke:none; fill-opacity:1\\\\&amp;quot; cx=\\\\&amp;quot;304.591\\\\&amp;quot; cy=\\\\&amp;quot;279.703\\\\&amp;quot; r=\\\\&amp;quot;4\\\\&amp;quot;/&amp;gt;\\\\n&amp;lt;circle clip-path=\\\\&amp;quot;url(#clip5802)\\\\&amp;quot; style=\\\\&amp;quot;fill:#c271d2; stroke:none; fill-opacity:1\\\\&amp;quot; cx=\\\\&amp;quot;304.591\\\\&amp;quot; cy=\\\\&amp;quot;279.703\\\\&amp;quot; r=\\\\&amp;quot;3\\\\&amp;quot;/&amp;gt;\\\\n&amp;lt;circle clip-path=\\\\&amp;quot;url(#clip5802)\\\\&amp;quot; style=\\\\&amp;quot;fill:#000000; stroke:none; fill-opacity:1\\\\&amp;quot; cx=\\\\&amp;quot;174.418\\\\&amp;quot; cy=\\\\&amp;quot;365.565\\\\&amp;quot; r=\\\\&amp;quot;4\\\\&amp;quot;/&amp;gt;\\\\n&amp;lt;circle clip-path=\\\\&amp;quot;url(#clip5802)\\\\&amp;quot; style=\\\\&amp;quot;fill:#c271d2; stroke:none; fill-opacity:1\\\\&amp;quot; cx=\\\\&amp;quot;174.418\\\\&amp;quot; cy=\\\\&amp;quot;365.565\\\\&amp;quot; r=\\\\&amp;quot;3\\\\&amp;quot;/&amp;gt;\\\\n&amp;lt;polyline clip-path=\\\\&amp;quot;url(#clip5802)\\\\&amp;quot; style=\\\\&amp;quot;stroke:#ac8d18; stroke-width:1; stroke-opacity:1; fill:none\\\\&amp;quot; points=\\\\&amp;quot;\\\\n  174.418,365.565 174.418,344.099 \\\\n  \\\\&amp;quot;/&amp;gt;\\\\n&amp;lt;circle clip-path=\\\\&amp;quot;url(#clip5802)\\\\&amp;quot; style=\\\\&amp;quot;fill:#000000; stroke:none; fill-opacity:1\\\\&amp;quot; cx=\\\\&amp;quot;174.418\\\\&amp;quot; cy=\\\\&amp;quot;365.565\\\\&amp;quot; r=\\\\&amp;quot;4\\\\&amp;quot;/&amp;gt;\\\\n&amp;lt;circle clip-path=\\\\&amp;quot;url(#clip5802)\\\\&amp;quot; style=\\\\&amp;quot;fill:#ac8d18; stroke:none; fill-opacity:1\\\\&amp;quot; cx=\\\\&amp;quot;174.418\\\\&amp;quot; cy=\\\\&amp;quot;365.565\\\\&amp;quot; r=\\\\&amp;quot;3\\\\&amp;quot;/&amp;gt;\\\\n&amp;lt;circle clip-path=\\\\&amp;quot;url(#clip5802)\\\\&amp;quot; style=\\\\&amp;quot;fill:#000000; stroke:none; fill-opacity:1\\\\&amp;quot; cx=\\\\&amp;quot;174.418\\\\&amp;quot; cy=\\\\&amp;quot;344.099\\\\&amp;quot; r=\\\\&amp;quot;4\\\\&amp;quot;/&amp;gt;\\\\n&amp;lt;circle clip-path=\\\\&amp;quot;url(#clip5802)\\\\&amp;quot; style=\\\\&amp;quot;fill:#ac8d18; stroke:none; fill-opacity:1\\\\&amp;quot; cx=\\\\&amp;quot;174.418\\\\&amp;quot; cy=\\\\&amp;quot;344.099\\\\&amp;quot; r=\\\\&amp;quot;3\\\\&amp;quot;/&amp;gt;\\\\n&amp;lt;polyline clip-path=\\\\&amp;quot;url(#clip5802)\\\\&amp;quot; style=\\\\&amp;quot;stroke:#00a9ad; stroke-width:1; stroke-opacity:1; fill:none\\\\&amp;quot; points=\\\\&amp;quot;\\\\n  174.418,344.099 109.331,365.565 \\\\n  \\\\&amp;quot;/&amp;gt;\\\\n&amp;lt;circle clip-path=\\\\&amp;quot;url(#clip5802)\\\\&amp;quot; style=\\\\&amp;quot;fill:#000000; stroke:none; fill-opacity:1\\\\&amp;quot; cx=\\\\&amp;quot;174.418\\\\&amp;quot; cy=\\\\&amp;quot;344.099\\\\&amp;quot; r=\\\\&amp;quot;4\\\\&amp;quot;/&amp;gt;\\\\n&amp;lt;circle clip-path=\\\\&amp;quot;url(#clip5802)\\\\&amp;quot; style=\\\\&amp;quot;fill:#00a9ad; stroke:none; fill-opacity:1\\\\&amp;quot; cx=\\\\&amp;quot;174.418\\\\&amp;quot; cy=\\\\&amp;quot;344.099\\\\&amp;quot; r=\\\\&amp;quot;3\\\\&amp;quot;/&amp;gt;\\\\n&amp;lt;circle clip-path=\\\\&amp;quot;url(#clip5802)\\\\&amp;quot; style=\\\\&amp;quot;fill:#000000; stroke:none; fill-opacity:1\\\\&amp;quot; cx=\\\\&amp;quot;109.331\\\\&amp;quot; cy=\\\\&amp;quot;365.565\\\\&amp;quot; r=\\\\&amp;quot;4\\\\&amp;quot;/&amp;gt;\\\\n&amp;lt;circle clip-path=\\\\&amp;quot;url(#clip5802)\\\\&amp;quot; style=\\\\&amp;quot;fill:#00a9ad; stroke:none; fill-opacity:1\\\\&amp;quot; cx=\\\\&amp;quot;109.331\\\\&amp;quot; cy=\\\\&amp;quot;365.565\\\\&amp;quot; r=\\\\&amp;quot;3\\\\&amp;quot;/&amp;gt;\\\\n&amp;lt;polyline clip-path=\\\\&amp;quot;url(#clip5802)\\\\&amp;quot; style=\\\\&amp;quot;stroke:#ed5d92; stroke-width:1; stroke-opacity:1; fill:none\\\\&amp;quot; points=\\\\&amp;quot;\\\\n  109.331,365.565 109.331,360.199 \\\\n  \\\\&amp;quot;/&amp;gt;\\\\n&amp;lt;circle clip-path=\\\\&amp;quot;url(#clip5802)\\\\&amp;quot; style=\\\\&amp;quot;fill:#000000; stroke:none; fill-opacity:1\\\\&amp;quot; cx=\\\\&amp;quot;109.331\\\\&amp;quot; cy=\\\\&amp;quot;365.565\\\\&amp;quot; r=\\\\&amp;quot;4\\\\&amp;quot;/&amp;gt;\\\\n&amp;lt;circle clip-path=\\\\&amp;quot;url(#clip5802)\\\\&amp;quot; style=\\\\&amp;quot;fill:#ed5d92; stroke:none; fill-opacity:1\\\\&amp;quot; cx=\\\\&amp;quot;109.331\\\\&amp;quot; cy=\\\\&amp;quot;365.565\\\\&amp;quot; r=\\\\&amp;quot;3\\\\&amp;quot;/&amp;gt;\\\\n&amp;lt;circle clip-path=\\\\&amp;quot;url(#clip5802)\\\\&amp;quot; style=\\\\&amp;quot;fill:#000000; stroke:none; fill-opacity:1\\\\&amp;quot; cx=\\\\&amp;quot;109.331\\\\&amp;quot; cy=\\\\&amp;quot;360.199\\\\&amp;quot; r=\\\\&amp;quot;4\\\\&amp;quot;/&amp;gt;\\\\n&amp;lt;circle clip-path=\\\\&amp;quot;url(#clip5802)\\\\&amp;quot; style=\\\\&amp;quot;fill:#ed5d92; stroke:none; fill-opacity:1\\\\&amp;quot; cx=\\\\&amp;quot;109.331\\\\&amp;quot; cy=\\\\&amp;quot;360.199\\\\&amp;quot; r=\\\\&amp;quot;3\\\\&amp;quot;/&amp;gt;\\\\n&amp;lt;polyline clip-path=\\\\&amp;quot;url(#clip5802)\\\\&amp;quot; style=\\\\&amp;quot;stroke:#c68125; stroke-width:1; stroke-opacity:1; fill:none\\\\&amp;quot; points=\\\\&amp;quot;\\\\n  109.331,360.199 76.7875,365.565 \\\\n  \\\\&amp;quot;/&amp;gt;\\\\n&amp;lt;circle clip-path=\\\\&amp;quot;url(#clip5802)\\\\&amp;quot; style=\\\\&amp;quot;fill:#000000; stroke:none; fill-opacity:1\\\\&amp;quot; cx=\\\\&amp;quot;109.331\\\\&amp;quot; cy=\\\\&amp;quot;360.199\\\\&amp;quot; r=\\\\&amp;quot;4\\\\&amp;quot;/&amp;gt;\\\\n&amp;lt;circle clip-path=\\\\&amp;quot;url(#clip5802)\\\\&amp;quot; style=\\\\&amp;quot;fill:#c68125; stroke:none; fill-opacity:1\\\\&amp;quot; cx=\\\\&amp;quot;109.331\\\\&amp;quot; cy=\\\\&amp;quot;360.199\\\\&amp;quot; r=\\\\&amp;quot;3\\\\&amp;quot;/&amp;gt;\\\\n&amp;lt;circle clip-path=\\\\&amp;quot;url(#clip5802)\\\\&amp;quot; style=\\\\&amp;quot;fill:#000000; stroke:none; fill-opacity:1\\\\&amp;quot; cx=\\\\&amp;quot;76.7875\\\\&amp;quot; cy=\\\\&amp;quot;365.565\\\\&amp;quot; r=\\\\&amp;quot;4\\\\&amp;quot;/&amp;gt;\\\\n&amp;lt;circle clip-path=\\\\&amp;quot;url(#clip5802)\\\\&amp;quot; style=\\\\&amp;quot;fill:#c68125; stroke:none; fill-opacity:1\\\\&amp;quot; cx=\\\\&amp;quot;76.7875\\\\&amp;quot; cy=\\\\&amp;quot;365.565\\\\&amp;quot; r=\\\\&amp;quot;3\\\\&amp;quot;/&amp;gt;\\\\n&amp;lt;polyline clip-path=\\\\&amp;quot;url(#clip5802)\\\\&amp;quot; style=\\\\&amp;quot;stroke:#00a98d; stroke-width:1; stroke-opacity:1; fill:none\\\\&amp;quot; points=\\\\&amp;quot;\\\\n  76.7875,365.565 76.7875,364.224 \\\\n  \\\\&amp;quot;/&amp;gt;\\\\n&amp;lt;circle clip-path=\\\\&amp;quot;url(#clip5802)\\\\&amp;quot; style=\\\\&amp;quot;fill:#000000; stroke:none; fill-opacity:1\\\\&amp;quot; cx=\\\\&amp;quot;76.7875\\\\&amp;quot; cy=\\\\&amp;quot;365.565\\\\&amp;quot; r=\\\\&amp;quot;4\\\\&amp;quot;/&amp;gt;\\\\n&amp;lt;circle clip-path=\\\\&amp;quot;url(#clip5802)\\\\&amp;quot; style=\\\\&amp;quot;fill:#00a98d; stroke:none; fill-opacity:1\\\\&amp;quot; cx=\\\\&amp;quot;76.7875\\\\&amp;quot; cy=\\\\&amp;quot;365.565\\\\&amp;quot; r=\\\\&amp;quot;3\\\\&amp;quot;/&amp;gt;\\\\n&amp;lt;circle clip-path=\\\\&amp;quot;url(#clip5802)\\\\&amp;quot; style=\\\\&amp;quot;fill:#000000; stroke:none; fill-opacity:1\\\\&amp;quot; cx=\\\\&amp;quot;76.7875\\\\&amp;quot; cy=\\\\&amp;quot;364.224\\\\&amp;quot; r=\\\\&amp;quot;4\\\\&amp;quot;/&amp;gt;\\\\n&amp;lt;circle clip-path=\\\\&amp;quot;url(#clip5802)\\\\&amp;quot; style=\\\\&amp;quot;fill:#00a98d; stroke:none; fill-opacity:1\\\\&amp;quot; cx=\\\\&amp;quot;76.7875\\\\&amp;quot; cy=\\\\&amp;quot;364.224\\\\&amp;quot; r=\\\\&amp;quot;3\\\\&amp;quot;/&amp;gt;\\\\n&amp;lt;polyline clip-path=\\\\&amp;quot;url(#clip5802)\\\\&amp;quot; style=\\\\&amp;quot;stroke:#8e971d; stroke-width:1; stroke-opacity:1; fill:none\\\\&amp;quot; points=\\\\&amp;quot;\\\\n  76.7875,364.224 60.5158,365.565 \\\\n  \\\\&amp;quot;/&amp;gt;\\\\n&amp;lt;circle clip-path=\\\\&amp;quot;url(#clip5802)\\\\&amp;quot; style=\\\\&amp;quot;fill:#000000; stroke:none; fill-opacity:1\\\\&amp;quot; cx=\\\\&amp;quot;76.7875\\\\&amp;quot; cy=\\\\&amp;quot;364.224\\\\&amp;quot; r=\\\\&amp;quot;4\\\\&amp;quot;/&amp;gt;\\\\n&amp;lt;circle clip-path=\\\\&amp;quot;url(#clip5802)\\\\&amp;quot; style=\\\\&amp;quot;fill:#8e971d; stroke:none; fill-opacity:1\\\\&amp;quot; cx=\\\\&amp;quot;76.7875\\\\&amp;quot; cy=\\\\&amp;quot;364.224\\\\&amp;quot; r=\\\\&amp;quot;3\\\\&amp;quot;/&amp;gt;\\\\n&amp;lt;circle clip-path=\\\\&amp;quot;url(#clip5802)\\\\&amp;quot; style=\\\\&amp;quot;fill:#000000; stroke:none; fill-opacity:1\\\\&amp;quot; cx=\\\\&amp;quot;60.5158\\\\&amp;quot; cy=\\\\&amp;quot;365.565\\\\&amp;quot; r=\\\\&amp;quot;4\\\\&amp;quot;/&amp;gt;\\\\n&amp;lt;circle clip-path=\\\\&amp;quot;url(#clip5802)\\\\&amp;quot; style=\\\\&amp;quot;fill:#8e971d; stroke:none; fill-opacity:1\\\\&amp;quot; cx=\\\\&amp;quot;60.5158\\\\&amp;quot; cy=\\\\&amp;quot;365.565\\\\&amp;quot; r=\\\\&amp;quot;3\\\\&amp;quot;/&amp;gt;\\\\n&amp;lt;polyline clip-path=\\\\&amp;quot;url(#clip5802)\\\\&amp;quot; style=\\\\&amp;quot;stroke:#00a8cb; stroke-width:1; stroke-opacity:1; fill:none\\\\&amp;quot; points=\\\\&amp;quot;\\\\n  60.5158,365.565 60.5158,365.23 \\\\n  \\\\&amp;quot;/&amp;gt;\\\\n&amp;lt;circle clip-path=\\\\&amp;quot;url(#clip5802)\\\\&amp;quot; style=\\\\&amp;quot;fill:#000000; stroke:none; fill-opacity:1\\\\&amp;quot; cx=\\\\&amp;quot;60.5158\\\\&amp;quot; cy=\\\\&amp;quot;365.565\\\\&amp;quot; r=\\\\&amp;quot;4\\\\&amp;quot;/&amp;gt;\\\\n&amp;lt;circle clip-path=\\\\&amp;quot;url(#clip5802)\\\\&amp;quot; style=\\\\&amp;quot;fill:#00a8cb; stroke:none; fill-opacity:1\\\\&amp;quot; cx=\\\\&amp;quot;60.5158\\\\&amp;quot; cy=\\\\&amp;quot;365.565\\\\&amp;quot; r=\\\\&amp;quot;3\\\\&amp;quot;/&amp;gt;\\\\n&amp;lt;circle clip-path=\\\\&amp;quot;url(#clip5802)\\\\&amp;quot; style=\\\\&amp;quot;fill:#000000; stroke:none; fill-opacity:1\\\\&amp;quot; cx=\\\\&amp;quot;60.5158\\\\&amp;quot; cy=\\\\&amp;quot;365.23\\\\&amp;quot; r=\\\\&amp;quot;4\\\\&amp;quot;/&amp;gt;\\\\n&amp;lt;circle clip-path=\\\\&amp;quot;url(#clip5802)\\\\&amp;quot; style=\\\\&amp;quot;fill:#00a8cb; stroke:none; fill-opacity:1\\\\&amp;quot; cx=\\\\&amp;quot;60.5158\\\\&amp;quot; cy=\\\\&amp;quot;365.23\\\\&amp;quot; r=\\\\&amp;quot;3\\\\&amp;quot;/&amp;gt;\\\\n&amp;lt;polyline clip-path=\\\\&amp;quot;url(#clip5802)\\\\&amp;quot; style=\\\\&amp;quot;stroke:#9b7fe8; stroke-width:1; stroke-opacity:1; fill:none\\\\&amp;quot; points=\\\\&amp;quot;\\\\n  60.5158,365.23 52.38,365.565 \\\\n  \\\\&amp;quot;/&amp;gt;\\\\n&amp;lt;circle clip-path=\\\\&amp;quot;url(#clip5802)\\\\&amp;quot; style=\\\\&amp;quot;fill:#000000; stroke:none; fill-opacity:1\\\\&amp;quot; cx=\\\\&amp;quot;60.5158\\\\&amp;quot; cy=\\\\&amp;quot;365.23\\\\&amp;quot; r=\\\\&amp;quot;4\\\\&amp;quot;/&amp;gt;\\\\n&amp;lt;circle clip-path=\\\\&amp;quot;url(#clip5802)\\\\&amp;quot; style=\\\\&amp;quot;fill:#9b7fe8; stroke:none; fill-opacity:1\\\\&amp;quot; cx=\\\\&amp;quot;60.5158\\\\&amp;quot; cy=\\\\&amp;quot;365.23\\\\&amp;quot; r=\\\\&amp;quot;3\\\\&amp;quot;/&amp;gt;\\\\n&amp;lt;circle clip-path=\\\\&amp;quot;url(#clip5802)\\\\&amp;quot; style=\\\\&amp;quot;fill:#000000; stroke:none; fill-opacity:1\\\\&amp;quot; cx=\\\\&amp;quot;52.38\\\\&amp;quot; cy=\\\\&amp;quot;365.565\\\\&amp;quot; r=\\\\&amp;quot;4\\\\&amp;quot;/&amp;gt;\\\\n&amp;lt;circle clip-path=\\\\&amp;quot;url(#clip5802)\\\\&amp;quot; style=\\\\&amp;quot;fill:#9b7fe8; stroke:none; fill-opacity:1\\\\&amp;quot; cx=\\\\&amp;quot;52.38\\\\&amp;quot; cy=\\\\&amp;quot;365.565\\\\&amp;quot; r=\\\\&amp;quot;3\\\\&amp;quot;/&amp;gt;\\\\n&amp;lt;/svg&amp;gt;\\\\n&amp;quot;},&amp;quot;nodeType&amp;quot;:&amp;quot;DOM&amp;quot;,&amp;quot;type&amp;quot;:&amp;quot;node&amp;quot;,&amp;quot;instanceArgs&amp;quot;:{&amp;quot;namespace&amp;quot;:&amp;quot;html&amp;quot;,&amp;quot;tag&amp;quot;:&amp;quot;div&amp;quot;},&amp;quot;children&amp;quot;:[]}]})&lt;/unsafe-script&gt;&quot;}}},&quot;children&quot;:[{&quot;props&quot;:{&quot;id&quot;:&quot;out&quot;,&quot;setInnerHtml&quot;:&quot;&lt;div class=&#39;display:none&#39;&gt;&lt;/div&gt;&lt;unsafe-script style=&#39;display:none&#39;&gt;\\nWebIO.mount(this.previousSibling,{&amp;quot;props&amp;quot;:{&amp;quot;attributes&amp;quot;:{&amp;quot;style&amp;quot;:&amp;quot;display:flex; justify-content:center; align-items:center;&amp;quot;}},&amp;quot;nodeType&amp;quot;:&amp;quot;DOM&amp;quot;,&amp;quot;type&amp;quot;:&amp;quot;node&amp;quot;,&amp;quot;instanceArgs&amp;quot;:{&amp;quot;namespace&amp;quot;:&amp;quot;html&amp;quot;,&amp;quot;tag&amp;quot;:&amp;quot;div&amp;quot;},&amp;quot;children&amp;quot;:[{&amp;quot;props&amp;quot;:{&amp;quot;setInnerHtml&amp;quot;:&amp;quot;&amp;lt;?xml version=\\\\&amp;quot;1.0\\\\&amp;quot; encoding=\\\\&amp;quot;utf-8\\\\&amp;quot;?&amp;gt;\\\\n&amp;lt;svg xmlns=\\\\&amp;quot;http://www.w3.org/2000/svg\\\\&amp;quot; xmlns:xlink=\\\\&amp;quot;http://www.w3.org/1999/xlink\\\\&amp;quot; width=\\\\&amp;quot;600\\\\&amp;quot; height=\\\\&amp;quot;400\\\\&amp;quot; viewBox=\\\\&amp;quot;0 0 600 400\\\\&amp;quot;&amp;gt;\\\\n&amp;lt;defs&amp;gt;\\\\n  &amp;lt;clipPath id=\\\\&amp;quot;clip5800\\\\&amp;quot;&amp;gt;\\\\n    &amp;lt;rect x=\\\\&amp;quot;0\\\\&amp;quot; y=\\\\&amp;quot;0\\\\&amp;quot; width=\\\\&amp;quot;600\\\\&amp;quot; height=\\\\&amp;quot;400\\\\&amp;quot;/&amp;gt;\\\\n  &amp;lt;/clipPath&amp;gt;\\\\n&amp;lt;/defs&amp;gt;\\\\n&amp;lt;polygon clip-path=\\\\&amp;quot;url(#clip5800)\\\\&amp;quot; points=\\\\&amp;quot;\\\\n0,400 600,400 600,0 0,0 \\\\n  \\\\&amp;quot; fill=\\\\&amp;quot;#ffffff\\\\&amp;quot; fill-opacity=\\\\&amp;quot;1\\\\&amp;quot;/&amp;gt;\\\\n&amp;lt;defs&amp;gt;\\\\n  &amp;lt;clipPath id=\\\\&amp;quot;clip5801\\\\&amp;quot;&amp;gt;\\\\n    &amp;lt;rect x=\\\\&amp;quot;120\\\\&amp;quot; y=\\\\&amp;quot;0\\\\&amp;quot; width=\\\\&amp;quot;421\\\\&amp;quot; height=\\\\&amp;quot;400\\\\&amp;quot;/&amp;gt;\\\\n  &amp;lt;/clipPath&amp;gt;\\\\n&amp;lt;/defs&amp;gt;\\\\n&amp;lt;polygon clip-path=\\\\&amp;quot;url(#clip5800)\\\\&amp;quot; points=\\\\&amp;quot;\\\\n37.0032,375.869 580.315,375.869 580.315,11.811 37.0032,11.811 \\\\n  \\\\&amp;quot; fill=\\\\&amp;quot;#ffffff\\\\&amp;quot; fill-opacity=\\\\&amp;quot;1\\\\&amp;quot;/&amp;gt;\\\\n&amp;lt;defs&amp;gt;\\\\n  &amp;lt;clipPath id=\\\\&amp;quot;clip5802\\\\&amp;quot;&amp;gt;\\\\n    &amp;lt;rect x=\\\\&amp;quot;37\\\\&amp;quot; y=\\\\&amp;quot;11\\\\&amp;quot; width=\\\\&amp;quot;544\\\\&amp;quot; height=\\\\&amp;quot;365\\\\&amp;quot;/&amp;gt;\\\\n  &amp;lt;/clipPath&amp;gt;\\\\n&amp;lt;/defs&amp;gt;\\\\n&amp;lt;polyline clip-path=\\\\&amp;quot;url(#clip5802)\\\\&amp;quot; style=\\\\&amp;quot;stroke:#000000; stroke-width:0.5; stroke-opacity:0.1; fill:none\\\\&amp;quot; points=\\\\&amp;quot;\\\\n  44.2441,375.869 44.2441,11.811 \\\\n  \\\\&amp;quot;/&amp;gt;\\\\n&amp;lt;polyline clip-path=\\\\&amp;quot;url(#clip5802)\\\\&amp;quot; style=\\\\&amp;quot;stroke:#000000; stroke-width:0.5; stroke-opacity:0.1; fill:none\\\\&amp;quot; points=\\\\&amp;quot;\\\\n  193.014,375.869 193.014,11.811 \\\\n  \\\\&amp;quot;/&amp;gt;\\\\n&amp;lt;polyline clip-path=\\\\&amp;quot;url(#clip5802)\\\\&amp;quot; style=\\\\&amp;quot;stroke:#000000; stroke-width:0.5; stroke-opacity:0.1; fill:none\\\\&amp;quot; points=\\\\&amp;quot;\\\\n  341.784,375.869 341.784,11.811 \\\\n  \\\\&amp;quot;/&amp;gt;\\\\n&amp;lt;polyline clip-path=\\\\&amp;quot;url(#clip5802)\\\\&amp;quot; style=\\\\&amp;quot;stroke:#000000; stroke-width:0.5; stroke-opacity:0.1; fill:none\\\\&amp;quot; points=\\\\&amp;quot;\\\\n  490.553,375.869 490.553,11.811 \\\\n  \\\\&amp;quot;/&amp;gt;\\\\n&amp;lt;polyline clip-path=\\\\&amp;quot;url(#clip5802)\\\\&amp;quot; style=\\\\&amp;quot;stroke:#000000; stroke-width:0.5; stroke-opacity:0.1; fill:none\\\\&amp;quot; points=\\\\&amp;quot;\\\\n  37.0032,365.565 580.315,365.565 \\\\n  \\\\&amp;quot;/&amp;gt;\\\\n&amp;lt;polyline clip-path=\\\\&amp;quot;url(#clip5802)\\\\&amp;quot; style=\\\\&amp;quot;stroke:#000000; stroke-width:0.5; stroke-opacity:0.1; fill:none\\\\&amp;quot; points=\\\\&amp;quot;\\\\n  37.0032,309.492 580.315,309.492 \\\\n  \\\\&amp;quot;/&amp;gt;\\\\n&amp;lt;polyline clip-path=\\\\&amp;quot;url(#clip5802)\\\\&amp;quot; style=\\\\&amp;quot;stroke:#000000; stroke-width:0.5; stroke-opacity:0.1; fill:none\\\\&amp;quot; points=\\\\&amp;quot;\\\\n  37.0032,253.418 580.315,253.418 \\\\n  \\\\&amp;quot;/&amp;gt;\\\\n&amp;lt;polyline clip-path=\\\\&amp;quot;url(#clip5802)\\\\&amp;quot; style=\\\\&amp;quot;stroke:#000000; stroke-width:0.5; stroke-opacity:0.1; fill:none\\\\&amp;quot; points=\\\\&amp;quot;\\\\n  37.0032,197.344 580.315,197.344 \\\\n  \\\\&amp;quot;/&amp;gt;\\\\n&amp;lt;polyline clip-path=\\\\&amp;quot;url(#clip5802)\\\\&amp;quot; style=\\\\&amp;quot;stroke:#000000; stroke-width:0.5; stroke-opacity:0.1; fill:none\\\\&amp;quot; points=\\\\&amp;quot;\\\\n  37.0032,141.271 580.315,141.271 \\\\n  \\\\&amp;quot;/&amp;gt;\\\\n&amp;lt;polyline clip-path=\\\\&amp;quot;url(#clip5802)\\\\&amp;quot; style=\\\\&amp;quot;stroke:#000000; stroke-width:0.5; stroke-opacity:0.1; fill:none\\\\&amp;quot; points=\\\\&amp;quot;\\\\n  37.0032,85.1973 580.315,85.1973 \\\\n  \\\\&amp;quot;/&amp;gt;\\\\n&amp;lt;polyline clip-path=\\\\&amp;quot;url(#clip5802)\\\\&amp;quot; style=\\\\&amp;quot;stroke:#000000; stroke-width:0.5; stroke-opacity:0.1; fill:none\\\\&amp;quot; points=\\\\&amp;quot;\\\\n  37.0032,29.1237 580.315,29.1237 \\\\n  \\\\&amp;quot;/&amp;gt;\\\\n&amp;lt;polyline clip-path=\\\\&amp;quot;url(#clip5800)\\\\&amp;quot; style=\\\\&amp;quot;stroke:#000000; stroke-width:1; stroke-opacity:1; fill:none\\\\&amp;quot; points=\\\\&amp;quot;\\\\n  37.0032,375.869 580.315,375.869 \\\\n  \\\\&amp;quot;/&amp;gt;\\\\n&amp;lt;polyline clip-path=\\\\&amp;quot;url(#clip5800)\\\\&amp;quot; style=\\\\&amp;quot;stroke:#000000; stroke-width:1; stroke-opacity:1; fill:none\\\\&amp;quot; points=\\\\&amp;quot;\\\\n  37.0032,375.869 37.0032,11.811 \\\\n  \\\\&amp;quot;/&amp;gt;\\\\n&amp;lt;polyline clip-path=\\\\&amp;quot;url(#clip5800)\\\\&amp;quot; style=\\\\&amp;quot;stroke:#000000; stroke-width:1; stroke-opacity:1; fill:none\\\\&amp;quot; points=\\\\&amp;quot;\\\\n  44.2441,375.869 44.2441,370.408 \\\\n  \\\\&amp;quot;/&amp;gt;\\\\n&amp;lt;polyline clip-path=\\\\&amp;quot;url(#clip5800)\\\\&amp;quot; style=\\\\&amp;quot;stroke:#000000; stroke-width:1; stroke-opacity:1; fill:none\\\\&amp;quot; points=\\\\&amp;quot;\\\\n  193.014,375.869 193.014,370.408 \\\\n  \\\\&amp;quot;/&amp;gt;\\\\n&amp;lt;polyline clip-path=\\\\&amp;quot;url(#clip5800)\\\\&amp;quot; style=\\\\&amp;quot;stroke:#000000; stroke-width:1; stroke-opacity:1; fill:none\\\\&amp;quot; points=\\\\&amp;quot;\\\\n  341.784,375.869 341.784,370.408 \\\\n  \\\\&amp;quot;/&amp;gt;\\\\n&amp;lt;polyline clip-path=\\\\&amp;quot;url(#clip5800)\\\\&amp;quot; style=\\\\&amp;quot;stroke:#000000; stroke-width:1; stroke-opacity:1; fill:none\\\\&amp;quot; points=\\\\&amp;quot;\\\\n  490.553,375.869 490.553,370.408 \\\\n  \\\\&amp;quot;/&amp;gt;\\\\n&amp;lt;polyline clip-path=\\\\&amp;quot;url(#clip5800)\\\\&amp;quot; style=\\\\&amp;quot;stroke:#000000; stroke-width:1; stroke-opacity:1; fill:none\\\\&amp;quot; points=\\\\&amp;quot;\\\\n  37.0032,365.565 45.1529,365.565 \\\\n  \\\\&amp;quot;/&amp;gt;\\\\n&amp;lt;polyline clip-path=\\\\&amp;quot;url(#clip5800)\\\\&amp;quot; style=\\\\&amp;quot;stroke:#000000; stroke-width:1; stroke-opacity:1; fill:none\\\\&amp;quot; points=\\\\&amp;quot;\\\\n  37.0032,309.492 45.1529,309.492 \\\\n  \\\\&amp;quot;/&amp;gt;\\\\n&amp;lt;polyline clip-path=\\\\&amp;quot;url(#clip5800)\\\\&amp;quot; style=\\\\&amp;quot;stroke:#000000; stroke-width:1; stroke-opacity:1; fill:none\\\\&amp;quot; points=\\\\&amp;quot;\\\\n  37.0032,253.418 45.1529,253.418 \\\\n  \\\\&amp;quot;/&amp;gt;\\\\n&amp;lt;polyline clip-path=\\\\&amp;quot;url(#clip5800)\\\\&amp;quot; style=\\\\&amp;quot;stroke:#000000; stroke-width:1; stroke-opacity:1; fill:none\\\\&amp;quot; points=\\\\&amp;quot;\\\\n  37.0032,197.344 45.1529,197.344 \\\\n  \\\\&amp;quot;/&amp;gt;\\\\n&amp;lt;polyline clip-path=\\\\&amp;quot;url(#clip5800)\\\\&amp;quot; style=\\\\&amp;quot;stroke:#000000; stroke-width:1; stroke-opacity:1; fill:none\\\\&amp;quot; points=\\\\&amp;quot;\\\\n  37.0032,141.271 45.1529,141.271 \\\\n  \\\\&amp;quot;/&amp;gt;\\\\n&amp;lt;polyline clip-path=\\\\&amp;quot;url(#clip5800)\\\\&amp;quot; style=\\\\&amp;quot;stroke:#000000; stroke-width:1; stroke-opacity:1; fill:none\\\\&amp;quot; points=\\\\&amp;quot;\\\\n  37.0032,85.1973 45.1529,85.1973 \\\\n  \\\\&amp;quot;/&amp;gt;\\\\n&amp;lt;polyline clip-path=\\\\&amp;quot;url(#clip5800)\\\\&amp;quot; style=\\\\&amp;quot;stroke:#000000; stroke-width:1; stroke-opacity:1; fill:none\\\\&amp;quot; points=\\\\&amp;quot;\\\\n  37.0032,29.1237 45.1529,29.1237 \\\\n  \\\\&amp;quot;/&amp;gt;\\\\n&amp;lt;g clip-path=\\\\&amp;quot;url(#clip5800)\\\\&amp;quot;&amp;gt;\\\\n&amp;lt;text style=\\\\&amp;quot;fill:#000000; fill-opacity:1; font-family:Arial,Helvetica Neue,Helvetica,sans-serif; font-size:12; text-anchor:middle;\\\\&amp;quot; transform=\\\\&amp;quot;rotate(0, 44.2441, 389.669)\\\\&amp;quot; x=\\\\&amp;quot;44.2441\\\\&amp;quot; y=\\\\&amp;quot;389.669\\\\&amp;quot;&amp;gt;0&amp;lt;/text&amp;gt;\\\\n&amp;lt;/g&amp;gt;\\\\n&amp;lt;g clip-path=\\\\&amp;quot;url(#clip5800)\\\\&amp;quot;&amp;gt;\\\\n&amp;lt;text style=\\\\&amp;quot;fill:#000000; fill-opacity:1; font-family:Arial,Helvetica Neue,Helvetica,sans-serif; font-size:12; text-anchor:middle;\\\\&amp;quot; transform=\\\\&amp;quot;rotate(0, 193.014, 389.669)\\\\&amp;quot; x=\\\\&amp;quot;193.014\\\\&amp;quot; y=\\\\&amp;quot;389.669\\\\&amp;quot;&amp;gt;1&amp;lt;/text&amp;gt;\\\\n&amp;lt;/g&amp;gt;\\\\n&amp;lt;g clip-path=\\\\&amp;quot;url(#clip5800)\\\\&amp;quot;&amp;gt;\\\\n&amp;lt;text style=\\\\&amp;quot;fill:#000000; fill-opacity:1; font-family:Arial,Helvetica Neue,Helvetica,sans-serif; font-size:12; text-anchor:middle;\\\\&amp;quot; transform=\\\\&amp;quot;rotate(0, 341.784, 389.669)\\\\&amp;quot; x=\\\\&amp;quot;341.784\\\\&amp;quot; y=\\\\&amp;quot;389.669\\\\&amp;quot;&amp;gt;2&amp;lt;/text&amp;gt;\\\\n&amp;lt;/g&amp;gt;\\\\n&amp;lt;g clip-path=\\\\&amp;quot;url(#clip5800)\\\\&amp;quot;&amp;gt;\\\\n&amp;lt;text style=\\\\&amp;quot;fill:#000000; fill-opacity:1; font-family:Arial,Helvetica Neue,Helvetica,sans-serif; font-size:12; text-anchor:middle;\\\\&amp;quot; transform=\\\\&amp;quot;rotate(0, 490.553, 389.669)\\\\&amp;quot; x=\\\\&amp;quot;490.553\\\\&amp;quot; y=\\\\&amp;quot;389.669\\\\&amp;quot;&amp;gt;3&amp;lt;/text&amp;gt;\\\\n&amp;lt;/g&amp;gt;\\\\n&amp;lt;g clip-path=\\\\&amp;quot;url(#clip5800)\\\\&amp;quot;&amp;gt;\\\\n&amp;lt;text style=\\\\&amp;quot;fill:#000000; fill-opacity:1; font-family:Arial,Helvetica Neue,Helvetica,sans-serif; font-size:12; text-anchor:end;\\\\&amp;quot; transform=\\\\&amp;quot;rotate(0, 31.0032, 370.065)\\\\&amp;quot; x=\\\\&amp;quot;31.0032\\\\&amp;quot; y=\\\\&amp;quot;370.065\\\\&amp;quot;&amp;gt;0&amp;lt;/text&amp;gt;\\\\n&amp;lt;/g&amp;gt;\\\\n&amp;lt;g clip-path=\\\\&amp;quot;url(#clip5800)\\\\&amp;quot;&amp;gt;\\\\n&amp;lt;text style=\\\\&amp;quot;fill:#000000; fill-opacity:1; font-family:Arial,Helvetica Neue,Helvetica,sans-serif; font-size:12; text-anchor:end;\\\\&amp;quot; transform=\\\\&amp;quot;rotate(0, 31.0032, 313.992)\\\\&amp;quot; x=\\\\&amp;quot;31.0032\\\\&amp;quot; y=\\\\&amp;quot;313.992\\\\&amp;quot;&amp;gt;2&amp;lt;/text&amp;gt;\\\\n&amp;lt;/g&amp;gt;\\\\n&amp;lt;g clip-path=\\\\&amp;quot;url(#clip5800)\\\\&amp;quot;&amp;gt;\\\\n&amp;lt;text style=\\\\&amp;quot;fill:#000000; fill-opacity:1; font-family:Arial,Helvetica Neue,Helvetica,sans-serif; font-size:12; text-anchor:end;\\\\&amp;quot; transform=\\\\&amp;quot;rotate(0, 31.0032, 257.918)\\\\&amp;quot; x=\\\\&amp;quot;31.0032\\\\&amp;quot; y=\\\\&amp;quot;257.918\\\\&amp;quot;&amp;gt;4&amp;lt;/text&amp;gt;\\\\n&amp;lt;/g&amp;gt;\\\\n&amp;lt;g clip-path=\\\\&amp;quot;url(#clip5800)\\\\&amp;quot;&amp;gt;\\\\n&amp;lt;text style=\\\\&amp;quot;fill:#000000; fill-opacity:1; font-family:Arial,Helvetica Neue,Helvetica,sans-serif; font-size:12; text-anchor:end;\\\\&amp;quot; transform=\\\\&amp;quot;rotate(0, 31.0032, 201.844)\\\\&amp;quot; x=\\\\&amp;quot;31.0032\\\\&amp;quot; y=\\\\&amp;quot;201.844\\\\&amp;quot;&amp;gt;6&amp;lt;/text&amp;gt;\\\\n&amp;lt;/g&amp;gt;\\\\n&amp;lt;g clip-path=\\\\&amp;quot;url(#clip5800)\\\\&amp;quot;&amp;gt;\\\\n&amp;lt;text style=\\\\&amp;quot;fill:#000000; fill-opacity:1; font-family:Arial,Helvetica Neue,Helvetica,sans-serif; font-size:12; text-anchor:end;\\\\&amp;quot; transform=\\\\&amp;quot;rotate(0, 31.0032, 145.771)\\\\&amp;quot; x=\\\\&amp;quot;31.0032\\\\&amp;quot; y=\\\\&amp;quot;145.771\\\\&amp;quot;&amp;gt;8&amp;lt;/text&amp;gt;\\\\n&amp;lt;/g&amp;gt;\\\\n&amp;lt;g clip-path=\\\\&amp;quot;url(#clip5800)\\\\&amp;quot;&amp;gt;\\\\n&amp;lt;text style=\\\\&amp;quot;fill:#000000; fill-opacity:1; font-family:Arial,Helvetica Neue,Helvetica,sans-serif; font-size:12; text-anchor:end;\\\\&amp;quot; transform=\\\\&amp;quot;rotate(0, 31.0032, 89.6973)\\\\&amp;quot; x=\\\\&amp;quot;31.0032\\\\&amp;quot; y=\\\\&amp;quot;89.6973\\\\&amp;quot;&amp;gt;10&amp;lt;/text&amp;gt;\\\\n&amp;lt;/g&amp;gt;\\\\n&amp;lt;g clip-path=\\\\&amp;quot;url(#clip5800)\\\\&amp;quot;&amp;gt;\\\\n&amp;lt;text style=\\\\&amp;quot;fill:#000000; fill-opacity:1; font-family:Arial,Helvetica Neue,Helvetica,sans-serif; font-size:12; text-anchor:end;\\\\&amp;quot; transform=\\\\&amp;quot;rotate(0, 31.0032, 33.6237)\\\\&amp;quot; x=\\\\&amp;quot;31.0032\\\\&amp;quot; y=\\\\&amp;quot;33.6237\\\\&amp;quot;&amp;gt;12&amp;lt;/text&amp;gt;\\\\n&amp;lt;/g&amp;gt;\\\\n&amp;lt;polyline clip-path=\\\\&amp;quot;url(#clip5802)\\\\&amp;quot; style=\\\\&amp;quot;stroke:#009af9; stroke-width:1; stroke-opacity:1; fill:none\\\\&amp;quot; points=\\\\&amp;quot;\\\\n  564.938,365.565 564.938,22.1145 \\\\n  \\\\&amp;quot;/&amp;gt;\\\\n&amp;lt;circle clip-path=\\\\&amp;quot;url(#clip5802)\\\\&amp;quot; style=\\\\&amp;quot;fill:#000000; stroke:none; fill-opacity:1\\\\&amp;quot; cx=\\\\&amp;quot;564.938\\\\&amp;quot; cy=\\\\&amp;quot;365.565\\\\&amp;quot; r=\\\\&amp;quot;4\\\\&amp;quot;/&amp;gt;\\\\n&amp;lt;circle clip-path=\\\\&amp;quot;url(#clip5802)\\\\&amp;quot; style=\\\\&amp;quot;fill:#009af9; stroke:none; fill-opacity:1\\\\&amp;quot; cx=\\\\&amp;quot;564.938\\\\&amp;quot; cy=\\\\&amp;quot;365.565\\\\&amp;quot; r=\\\\&amp;quot;3\\\\&amp;quot;/&amp;gt;\\\\n&amp;lt;circle clip-path=\\\\&amp;quot;url(#clip5802)\\\\&amp;quot; style=\\\\&amp;quot;fill:#000000; stroke:none; fill-opacity:1\\\\&amp;quot; cx=\\\\&amp;quot;564.938\\\\&amp;quot; cy=\\\\&amp;quot;22.1145\\\\&amp;quot; r=\\\\&amp;quot;4\\\\&amp;quot;/&amp;gt;\\\\n&amp;lt;circle clip-path=\\\\&amp;quot;url(#clip5802)\\\\&amp;quot; style=\\\\&amp;quot;fill:#009af9; stroke:none; fill-opacity:1\\\\&amp;quot; cx=\\\\&amp;quot;564.938\\\\&amp;quot; cy=\\\\&amp;quot;22.1145\\\\&amp;quot; r=\\\\&amp;quot;3\\\\&amp;quot;/&amp;gt;\\\\n&amp;lt;polyline clip-path=\\\\&amp;quot;url(#clip5802)\\\\&amp;quot; style=\\\\&amp;quot;stroke:#e26f46; stroke-width:1; stroke-opacity:1; fill:none\\\\&amp;quot; points=\\\\&amp;quot;\\\\n  564.938,22.1145 304.591,365.565 \\\\n  \\\\&amp;quot;/&amp;gt;\\\\n&amp;lt;circle clip-path=\\\\&amp;quot;url(#clip5802)\\\\&amp;quot; style=\\\\&amp;quot;fill:#000000; stroke:none; fill-opacity:1\\\\&amp;quot; cx=\\\\&amp;quot;564.938\\\\&amp;quot; cy=\\\\&amp;quot;22.1145\\\\&amp;quot; r=\\\\&amp;quot;4\\\\&amp;quot;/&amp;gt;\\\\n&amp;lt;circle clip-path=\\\\&amp;quot;url(#clip5802)\\\\&amp;quot; style=\\\\&amp;quot;fill:#e26f46; stroke:none; fill-opacity:1\\\\&amp;quot; cx=\\\\&amp;quot;564.938\\\\&amp;quot; cy=\\\\&amp;quot;22.1145\\\\&amp;quot; r=\\\\&amp;quot;3\\\\&amp;quot;/&amp;gt;\\\\n&amp;lt;circle clip-path=\\\\&amp;quot;url(#clip5802)\\\\&amp;quot; style=\\\\&amp;quot;fill:#000000; stroke:none; fill-opacity:1\\\\&amp;quot; cx=\\\\&amp;quot;304.591\\\\&amp;quot; cy=\\\\&amp;quot;365.565\\\\&amp;quot; r=\\\\&amp;quot;4\\\\&amp;quot;/&amp;gt;\\\\n&amp;lt;circle clip-path=\\\\&amp;quot;url(#clip5802)\\\\&amp;quot; style=\\\\&amp;quot;fill:#e26f46; stroke:none; fill-opacity:1\\\\&amp;quot; cx=\\\\&amp;quot;304.591\\\\&amp;quot; cy=\\\\&amp;quot;365.565\\\\&amp;quot; r=\\\\&amp;quot;3\\\\&amp;quot;/&amp;gt;\\\\n&amp;lt;polyline clip-path=\\\\&amp;quot;url(#clip5802)\\\\&amp;quot; style=\\\\&amp;quot;stroke:#3da44d; stroke-width:1; stroke-opacity:1; fill:none\\\\&amp;quot; points=\\\\&amp;quot;\\\\n  304.591,365.565 304.591,279.703 \\\\n  \\\\&amp;quot;/&amp;gt;\\\\n&amp;lt;circle clip-path=\\\\&amp;quot;url(#clip5802)\\\\&amp;quot; style=\\\\&amp;quot;fill:#000000; stroke:none; fill-opacity:1\\\\&amp;quot; cx=\\\\&amp;quot;304.591\\\\&amp;quot; cy=\\\\&amp;quot;365.565\\\\&amp;quot; r=\\\\&amp;quot;4\\\\&amp;quot;/&amp;gt;\\\\n&amp;lt;circle clip-path=\\\\&amp;quot;url(#clip5802)\\\\&amp;quot; style=\\\\&amp;quot;fill:#3da44d; stroke:none; fill-opacity:1\\\\&amp;quot; cx=\\\\&amp;quot;304.591\\\\&amp;quot; cy=\\\\&amp;quot;365.565\\\\&amp;quot; r=\\\\&amp;quot;3\\\\&amp;quot;/&amp;gt;\\\\n&amp;lt;circle clip-path=\\\\&amp;quot;url(#clip5802)\\\\&amp;quot; style=\\\\&amp;quot;fill:#000000; stroke:none; fill-opacity:1\\\\&amp;quot; cx=\\\\&amp;quot;304.591\\\\&amp;quot; cy=\\\\&amp;quot;279.703\\\\&amp;quot; r=\\\\&amp;quot;4\\\\&amp;quot;/&amp;gt;\\\\n&amp;lt;circle clip-path=\\\\&amp;quot;url(#clip5802)\\\\&amp;quot; style=\\\\&amp;quot;fill:#3da44d; stroke:none; fill-opacity:1\\\\&amp;quot; cx=\\\\&amp;quot;304.591\\\\&amp;quot; cy=\\\\&amp;quot;279.703\\\\&amp;quot; r=\\\\&amp;quot;3\\\\&amp;quot;/&amp;gt;\\\\n&amp;lt;polyline clip-path=\\\\&amp;quot;url(#clip5802)\\\\&amp;quot; style=\\\\&amp;quot;stroke:#c271d2; stroke-width:1; stroke-opacity:1; fill:none\\\\&amp;quot; points=\\\\&amp;quot;\\\\n  304.591,279.703 174.418,365.565 \\\\n  \\\\&amp;quot;/&amp;gt;\\\\n&amp;lt;circle clip-path=\\\\&amp;quot;url(#clip5802)\\\\&amp;quot; style=\\\\&amp;quot;fill:#000000; stroke:none; fill-opacity:1\\\\&amp;quot; cx=\\\\&amp;quot;304.591\\\\&amp;quot; cy=\\\\&amp;quot;279.703\\\\&amp;quot; r=\\\\&amp;quot;4\\\\&amp;quot;/&amp;gt;\\\\n&amp;lt;circle clip-path=\\\\&amp;quot;url(#clip5802)\\\\&amp;quot; style=\\\\&amp;quot;fill:#c271d2; stroke:none; fill-opacity:1\\\\&amp;quot; cx=\\\\&amp;quot;304.591\\\\&amp;quot; cy=\\\\&amp;quot;279.703\\\\&amp;quot; r=\\\\&amp;quot;3\\\\&amp;quot;/&amp;gt;\\\\n&amp;lt;circle clip-path=\\\\&amp;quot;url(#clip5802)\\\\&amp;quot; style=\\\\&amp;quot;fill:#000000; stroke:none; fill-opacity:1\\\\&amp;quot; cx=\\\\&amp;quot;174.418\\\\&amp;quot; cy=\\\\&amp;quot;365.565\\\\&amp;quot; r=\\\\&amp;quot;4\\\\&amp;quot;/&amp;gt;\\\\n&amp;lt;circle clip-path=\\\\&amp;quot;url(#clip5802)\\\\&amp;quot; style=\\\\&amp;quot;fill:#c271d2; stroke:none; fill-opacity:1\\\\&amp;quot; cx=\\\\&amp;quot;174.418\\\\&amp;quot; cy=\\\\&amp;quot;365.565\\\\&amp;quot; r=\\\\&amp;quot;3\\\\&amp;quot;/&amp;gt;\\\\n&amp;lt;polyline clip-path=\\\\&amp;quot;url(#clip5802)\\\\&amp;quot; style=\\\\&amp;quot;stroke:#ac8d18; stroke-width:1; stroke-opacity:1; fill:none\\\\&amp;quot; points=\\\\&amp;quot;\\\\n  174.418,365.565 174.418,344.099 \\\\n  \\\\&amp;quot;/&amp;gt;\\\\n&amp;lt;circle clip-path=\\\\&amp;quot;url(#clip5802)\\\\&amp;quot; style=\\\\&amp;quot;fill:#000000; stroke:none; fill-opacity:1\\\\&amp;quot; cx=\\\\&amp;quot;174.418\\\\&amp;quot; cy=\\\\&amp;quot;365.565\\\\&amp;quot; r=\\\\&amp;quot;4\\\\&amp;quot;/&amp;gt;\\\\n&amp;lt;circle clip-path=\\\\&amp;quot;url(#clip5802)\\\\&amp;quot; style=\\\\&amp;quot;fill:#ac8d18; stroke:none; fill-opacity:1\\\\&amp;quot; cx=\\\\&amp;quot;174.418\\\\&amp;quot; cy=\\\\&amp;quot;365.565\\\\&amp;quot; r=\\\\&amp;quot;3\\\\&amp;quot;/&amp;gt;\\\\n&amp;lt;circle clip-path=\\\\&amp;quot;url(#clip5802)\\\\&amp;quot; style=\\\\&amp;quot;fill:#000000; stroke:none; fill-opacity:1\\\\&amp;quot; cx=\\\\&amp;quot;174.418\\\\&amp;quot; cy=\\\\&amp;quot;344.099\\\\&amp;quot; r=\\\\&amp;quot;4\\\\&amp;quot;/&amp;gt;\\\\n&amp;lt;circle clip-path=\\\\&amp;quot;url(#clip5802)\\\\&amp;quot; style=\\\\&amp;quot;fill:#ac8d18; stroke:none; fill-opacity:1\\\\&amp;quot; cx=\\\\&amp;quot;174.418\\\\&amp;quot; cy=\\\\&amp;quot;344.099\\\\&amp;quot; r=\\\\&amp;quot;3\\\\&amp;quot;/&amp;gt;\\\\n&amp;lt;polyline clip-path=\\\\&amp;quot;url(#clip5802)\\\\&amp;quot; style=\\\\&amp;quot;stroke:#00a9ad; stroke-width:1; stroke-opacity:1; fill:none\\\\&amp;quot; points=\\\\&amp;quot;\\\\n  174.418,344.099 109.331,365.565 \\\\n  \\\\&amp;quot;/&amp;gt;\\\\n&amp;lt;circle clip-path=\\\\&amp;quot;url(#clip5802)\\\\&amp;quot; style=\\\\&amp;quot;fill:#000000; stroke:none; fill-opacity:1\\\\&amp;quot; cx=\\\\&amp;quot;174.418\\\\&amp;quot; cy=\\\\&amp;quot;344.099\\\\&amp;quot; r=\\\\&amp;quot;4\\\\&amp;quot;/&amp;gt;\\\\n&amp;lt;circle clip-path=\\\\&amp;quot;url(#clip5802)\\\\&amp;quot; style=\\\\&amp;quot;fill:#00a9ad; stroke:none; fill-opacity:1\\\\&amp;quot; cx=\\\\&amp;quot;174.418\\\\&amp;quot; cy=\\\\&amp;quot;344.099\\\\&amp;quot; r=\\\\&amp;quot;3\\\\&amp;quot;/&amp;gt;\\\\n&amp;lt;circle clip-path=\\\\&amp;quot;url(#clip5802)\\\\&amp;quot; style=\\\\&amp;quot;fill:#000000; stroke:none; fill-opacity:1\\\\&amp;quot; cx=\\\\&amp;quot;109.331\\\\&amp;quot; cy=\\\\&amp;quot;365.565\\\\&amp;quot; r=\\\\&amp;quot;4\\\\&amp;quot;/&amp;gt;\\\\n&amp;lt;circle clip-path=\\\\&amp;quot;url(#clip5802)\\\\&amp;quot; style=\\\\&amp;quot;fill:#00a9ad; stroke:none; fill-opacity:1\\\\&amp;quot; cx=\\\\&amp;quot;109.331\\\\&amp;quot; cy=\\\\&amp;quot;365.565\\\\&amp;quot; r=\\\\&amp;quot;3\\\\&amp;quot;/&amp;gt;\\\\n&amp;lt;polyline clip-path=\\\\&amp;quot;url(#clip5802)\\\\&amp;quot; style=\\\\&amp;quot;stroke:#ed5d92; stroke-width:1; stroke-opacity:1; fill:none\\\\&amp;quot; points=\\\\&amp;quot;\\\\n  109.331,365.565 109.331,360.199 \\\\n  \\\\&amp;quot;/&amp;gt;\\\\n&amp;lt;circle clip-path=\\\\&amp;quot;url(#clip5802)\\\\&amp;quot; style=\\\\&amp;quot;fill:#000000; stroke:none; fill-opacity:1\\\\&amp;quot; cx=\\\\&amp;quot;109.331\\\\&amp;quot; cy=\\\\&amp;quot;365.565\\\\&amp;quot; r=\\\\&amp;quot;4\\\\&amp;quot;/&amp;gt;\\\\n&amp;lt;circle clip-path=\\\\&amp;quot;url(#clip5802)\\\\&amp;quot; style=\\\\&amp;quot;fill:#ed5d92; stroke:none; fill-opacity:1\\\\&amp;quot; cx=\\\\&amp;quot;109.331\\\\&amp;quot; cy=\\\\&amp;quot;365.565\\\\&amp;quot; r=\\\\&amp;quot;3\\\\&amp;quot;/&amp;gt;\\\\n&amp;lt;circle clip-path=\\\\&amp;quot;url(#clip5802)\\\\&amp;quot; style=\\\\&amp;quot;fill:#000000; stroke:none; fill-opacity:1\\\\&amp;quot; cx=\\\\&amp;quot;109.331\\\\&amp;quot; cy=\\\\&amp;quot;360.199\\\\&amp;quot; r=\\\\&amp;quot;4\\\\&amp;quot;/&amp;gt;\\\\n&amp;lt;circle clip-path=\\\\&amp;quot;url(#clip5802)\\\\&amp;quot; style=\\\\&amp;quot;fill:#ed5d92; stroke:none; fill-opacity:1\\\\&amp;quot; cx=\\\\&amp;quot;109.331\\\\&amp;quot; cy=\\\\&amp;quot;360.199\\\\&amp;quot; r=\\\\&amp;quot;3\\\\&amp;quot;/&amp;gt;\\\\n&amp;lt;polyline clip-path=\\\\&amp;quot;url(#clip5802)\\\\&amp;quot; style=\\\\&amp;quot;stroke:#c68125; stroke-width:1; stroke-opacity:1; fill:none\\\\&amp;quot; points=\\\\&amp;quot;\\\\n  109.331,360.199 76.7875,365.565 \\\\n  \\\\&amp;quot;/&amp;gt;\\\\n&amp;lt;circle clip-path=\\\\&amp;quot;url(#clip5802)\\\\&amp;quot; style=\\\\&amp;quot;fill:#000000; stroke:none; fill-opacity:1\\\\&amp;quot; cx=\\\\&amp;quot;109.331\\\\&amp;quot; cy=\\\\&amp;quot;360.199\\\\&amp;quot; r=\\\\&amp;quot;4\\\\&amp;quot;/&amp;gt;\\\\n&amp;lt;circle clip-path=\\\\&amp;quot;url(#clip5802)\\\\&amp;quot; style=\\\\&amp;quot;fill:#c68125; stroke:none; fill-opacity:1\\\\&amp;quot; cx=\\\\&amp;quot;109.331\\\\&amp;quot; cy=\\\\&amp;quot;360.199\\\\&amp;quot; r=\\\\&amp;quot;3\\\\&amp;quot;/&amp;gt;\\\\n&amp;lt;circle clip-path=\\\\&amp;quot;url(#clip5802)\\\\&amp;quot; style=\\\\&amp;quot;fill:#000000; stroke:none; fill-opacity:1\\\\&amp;quot; cx=\\\\&amp;quot;76.7875\\\\&amp;quot; cy=\\\\&amp;quot;365.565\\\\&amp;quot; r=\\\\&amp;quot;4\\\\&amp;quot;/&amp;gt;\\\\n&amp;lt;circle clip-path=\\\\&amp;quot;url(#clip5802)\\\\&amp;quot; style=\\\\&amp;quot;fill:#c68125; stroke:none; fill-opacity:1\\\\&amp;quot; cx=\\\\&amp;quot;76.7875\\\\&amp;quot; cy=\\\\&amp;quot;365.565\\\\&amp;quot; r=\\\\&amp;quot;3\\\\&amp;quot;/&amp;gt;\\\\n&amp;lt;polyline clip-path=\\\\&amp;quot;url(#clip5802)\\\\&amp;quot; style=\\\\&amp;quot;stroke:#00a98d; stroke-width:1; stroke-opacity:1; fill:none\\\\&amp;quot; points=\\\\&amp;quot;\\\\n  76.7875,365.565 76.7875,364.224 \\\\n  \\\\&amp;quot;/&amp;gt;\\\\n&amp;lt;circle clip-path=\\\\&amp;quot;url(#clip5802)\\\\&amp;quot; style=\\\\&amp;quot;fill:#000000; stroke:none; fill-opacity:1\\\\&amp;quot; cx=\\\\&amp;quot;76.7875\\\\&amp;quot; cy=\\\\&amp;quot;365.565\\\\&amp;quot; r=\\\\&amp;quot;4\\\\&amp;quot;/&amp;gt;\\\\n&amp;lt;circle clip-path=\\\\&amp;quot;url(#clip5802)\\\\&amp;quot; style=\\\\&amp;quot;fill:#00a98d; stroke:none; fill-opacity:1\\\\&amp;quot; cx=\\\\&amp;quot;76.7875\\\\&amp;quot; cy=\\\\&amp;quot;365.565\\\\&amp;quot; r=\\\\&amp;quot;3\\\\&amp;quot;/&amp;gt;\\\\n&amp;lt;circle clip-path=\\\\&amp;quot;url(#clip5802)\\\\&amp;quot; style=\\\\&amp;quot;fill:#000000; stroke:none; fill-opacity:1\\\\&amp;quot; cx=\\\\&amp;quot;76.7875\\\\&amp;quot; cy=\\\\&amp;quot;364.224\\\\&amp;quot; r=\\\\&amp;quot;4\\\\&amp;quot;/&amp;gt;\\\\n&amp;lt;circle clip-path=\\\\&amp;quot;url(#clip5802)\\\\&amp;quot; style=\\\\&amp;quot;fill:#00a98d; stroke:none; fill-opacity:1\\\\&amp;quot; cx=\\\\&amp;quot;76.7875\\\\&amp;quot; cy=\\\\&amp;quot;364.224\\\\&amp;quot; r=\\\\&amp;quot;3\\\\&amp;quot;/&amp;gt;\\\\n&amp;lt;polyline clip-path=\\\\&amp;quot;url(#clip5802)\\\\&amp;quot; style=\\\\&amp;quot;stroke:#8e971d; stroke-width:1; stroke-opacity:1; fill:none\\\\&amp;quot; points=\\\\&amp;quot;\\\\n  76.7875,364.224 60.5158,365.565 \\\\n  \\\\&amp;quot;/&amp;gt;\\\\n&amp;lt;circle clip-path=\\\\&amp;quot;url(#clip5802)\\\\&amp;quot; style=\\\\&amp;quot;fill:#000000; stroke:none; fill-opacity:1\\\\&amp;quot; cx=\\\\&amp;quot;76.7875\\\\&amp;quot; cy=\\\\&amp;quot;364.224\\\\&amp;quot; r=\\\\&amp;quot;4\\\\&amp;quot;/&amp;gt;\\\\n&amp;lt;circle clip-path=\\\\&amp;quot;url(#clip5802)\\\\&amp;quot; style=\\\\&amp;quot;fill:#8e971d; stroke:none; fill-opacity:1\\\\&amp;quot; cx=\\\\&amp;quot;76.7875\\\\&amp;quot; cy=\\\\&amp;quot;364.224\\\\&amp;quot; r=\\\\&amp;quot;3\\\\&amp;quot;/&amp;gt;\\\\n&amp;lt;circle clip-path=\\\\&amp;quot;url(#clip5802)\\\\&amp;quot; style=\\\\&amp;quot;fill:#000000; stroke:none; fill-opacity:1\\\\&amp;quot; cx=\\\\&amp;quot;60.5158\\\\&amp;quot; cy=\\\\&amp;quot;365.565\\\\&amp;quot; r=\\\\&amp;quot;4\\\\&amp;quot;/&amp;gt;\\\\n&amp;lt;circle clip-path=\\\\&amp;quot;url(#clip5802)\\\\&amp;quot; style=\\\\&amp;quot;fill:#8e971d; stroke:none; fill-opacity:1\\\\&amp;quot; cx=\\\\&amp;quot;60.5158\\\\&amp;quot; cy=\\\\&amp;quot;365.565\\\\&amp;quot; r=\\\\&amp;quot;3\\\\&amp;quot;/&amp;gt;\\\\n&amp;lt;polyline clip-path=\\\\&amp;quot;url(#clip5802)\\\\&amp;quot; style=\\\\&amp;quot;stroke:#00a8cb; stroke-width:1; stroke-opacity:1; fill:none\\\\&amp;quot; points=\\\\&amp;quot;\\\\n  60.5158,365.565 60.5158,365.23 \\\\n  \\\\&amp;quot;/&amp;gt;\\\\n&amp;lt;circle clip-path=\\\\&amp;quot;url(#clip5802)\\\\&amp;quot; style=\\\\&amp;quot;fill:#000000; stroke:none; fill-opacity:1\\\\&amp;quot; cx=\\\\&amp;quot;60.5158\\\\&amp;quot; cy=\\\\&amp;quot;365.565\\\\&amp;quot; r=\\\\&amp;quot;4\\\\&amp;quot;/&amp;gt;\\\\n&amp;lt;circle clip-path=\\\\&amp;quot;url(#clip5802)\\\\&amp;quot; style=\\\\&amp;quot;fill:#00a8cb; stroke:none; fill-opacity:1\\\\&amp;quot; cx=\\\\&amp;quot;60.5158\\\\&amp;quot; cy=\\\\&amp;quot;365.565\\\\&amp;quot; r=\\\\&amp;quot;3\\\\&amp;quot;/&amp;gt;\\\\n&amp;lt;circle clip-path=\\\\&amp;quot;url(#clip5802)\\\\&amp;quot; style=\\\\&amp;quot;fill:#000000; stroke:none; fill-opacity:1\\\\&amp;quot; cx=\\\\&amp;quot;60.5158\\\\&amp;quot; cy=\\\\&amp;quot;365.23\\\\&amp;quot; r=\\\\&amp;quot;4\\\\&amp;quot;/&amp;gt;\\\\n&amp;lt;circle clip-path=\\\\&amp;quot;url(#clip5802)\\\\&amp;quot; style=\\\\&amp;quot;fill:#00a8cb; stroke:none; fill-opacity:1\\\\&amp;quot; cx=\\\\&amp;quot;60.5158\\\\&amp;quot; cy=\\\\&amp;quot;365.23\\\\&amp;quot; r=\\\\&amp;quot;3\\\\&amp;quot;/&amp;gt;\\\\n&amp;lt;polyline clip-path=\\\\&amp;quot;url(#clip5802)\\\\&amp;quot; style=\\\\&amp;quot;stroke:#9b7fe8; stroke-width:1; stroke-opacity:1; fill:none\\\\&amp;quot; points=\\\\&amp;quot;\\\\n  60.5158,365.23 52.38,365.565 \\\\n  \\\\&amp;quot;/&amp;gt;\\\\n&amp;lt;circle clip-path=\\\\&amp;quot;url(#clip5802)\\\\&amp;quot; style=\\\\&amp;quot;fill:#000000; stroke:none; fill-opacity:1\\\\&amp;quot; cx=\\\\&amp;quot;60.5158\\\\&amp;quot; cy=\\\\&amp;quot;365.23\\\\&amp;quot; r=\\\\&amp;quot;4\\\\&amp;quot;/&amp;gt;\\\\n&amp;lt;circle clip-path=\\\\&amp;quot;url(#clip5802)\\\\&amp;quot; style=\\\\&amp;quot;fill:#9b7fe8; stroke:none; fill-opacity:1\\\\&amp;quot; cx=\\\\&amp;quot;60.5158\\\\&amp;quot; cy=\\\\&amp;quot;365.23\\\\&amp;quot; r=\\\\&amp;quot;3\\\\&amp;quot;/&amp;gt;\\\\n&amp;lt;circle clip-path=\\\\&amp;quot;url(#clip5802)\\\\&amp;quot; style=\\\\&amp;quot;fill:#000000; stroke:none; fill-opacity:1\\\\&amp;quot; cx=\\\\&amp;quot;52.38\\\\&amp;quot; cy=\\\\&amp;quot;365.565\\\\&amp;quot; r=\\\\&amp;quot;4\\\\&amp;quot;/&amp;gt;\\\\n&amp;lt;circle clip-path=\\\\&amp;quot;url(#clip5802)\\\\&amp;quot; style=\\\\&amp;quot;fill:#9b7fe8; stroke:none; fill-opacity:1\\\\&amp;quot; cx=\\\\&amp;quot;52.38\\\\&amp;quot; cy=\\\\&amp;quot;365.565\\\\&amp;quot; r=\\\\&amp;quot;3\\\\&amp;quot;/&amp;gt;\\\\n&amp;lt;/svg&amp;gt;\\\\n&amp;quot;},&amp;quot;nodeType&amp;quot;:&amp;quot;DOM&amp;quot;,&amp;quot;type&amp;quot;:&amp;quot;node&amp;quot;,&amp;quot;instanceArgs&amp;quot;:{&amp;quot;namespace&amp;quot;:&amp;quot;html&amp;quot;,&amp;quot;tag&amp;quot;:&amp;quot;div&amp;quot;},&amp;quot;children&amp;quot;:[]}]})&lt;/unsafe-script&gt;&quot;},&quot;nodeType&quot;:&quot;DOM&quot;,&quot;type&quot;:&quot;node&quot;,&quot;instanceArgs&quot;:{&quot;namespace&quot;:&quot;html&quot;,&quot;tag&quot;:&quot;div&quot;},&quot;children&quot;:[]}]}]})</unsafe-script>\n",
       "</div>"
      ],
      "text/plain": [
       "(div\n",
       "  Widgets.Widget{:slider}(DataStructures.OrderedDict{Symbol,Any}(:changes=>Observables.Observable{Int64}(\"ob_02\", 0, Any[WebIO.SyncCallback(WebIO.Scope(\"knockout-component-167081c7-3cb7-4bcd-8cd6-394fe5740149\", WebIO.Node{WebIO.DOM}(WebIO.DOM(:html, :div), Any[WebIO.Node{WebIO.DOM}(WebIO.DOM(:html, :div), Any[WebIO.Node{WebIO.DOM}(WebIO.DOM(:html, :label), Any[\"n\"], Dict{Symbol,Any}(Pair{Symbol,Any}(:className, \"interact \"),Pair{Symbol,Any}(:style, Dict{Any,Any}(Pair{Any,Any}(:padding, \"5px 10px 0px 10px\")))), 1)], Dict{Any,Any}(Pair{Any,Any}(:attributes, Dict(\"style\"=>\"text-align:right;width:18%\"))), 2), WebIO.Node{WebIO.DOM}(WebIO.DOM(:html, :div), Any[WebIO.Node{WebIO.DOM}(WebIO.DOM(:html, :input), Any[], Dict{Any,Any}(Pair{Any,Any}(:max, 16),Pair{Any,Any}(:style, Dict{Any,Any}()),Pair{Any,Any}(:attributes, Dict{Any,Any}(Pair{Any,Any}(:type, \"range\"),Pair{Any,Any}(Symbol(\"data-bind\"), \"numericValue: value, valueUpdate: 'input', event: {change : function () {this.changes(this.changes()+1)}}\"))),Pair{Any,Any}(:step, 5),Pair{Any,Any}(:className, \"slider slider is-fullwidth\"),Pair{Any,Any}(:min, 1)), 0)], Dict{Any,Any}(Pair{Any,Any}(:attributes, Dict(\"style\"=>\"flex-grow:1; margin: 0 2%\"))), 1), WebIO.Node{WebIO.DOM}(WebIO.DOM(:html, :div), Any[WebIO.Node{WebIO.DOM}(WebIO.DOM(:html, :p), Any[], Dict{Symbol,Any}(Pair{Symbol,Any}(:attributes, Dict(\"data-bind\"=>\"text: displayedvalue\"))), 0)], Dict{Any,Any}(Pair{Any,Any}(:attributes, Dict(\"style\"=>\"width:18%\"))), 1)], Dict{Any,Any}(Pair{Any,Any}(:attributes, Dict(\"style\"=>\"display:flex; justify-content:center; align-items:center;\"))), 7), Dict{String,Tuple{Observables.Observable,Union{Bool, Void}}}(Pair{String,Tuple{Observables.Observable,Union{Bool, Void}}}(\"changes\", (Observables.Observable{Int64}(#= circular reference @-7 =#), nothing)),Pair{String,Tuple{Observables.Observable,Union{Bool, Void}}}(\"value\", (Observables.Observable{Int64}(\"ob_01\", 6, Any[WebIO.SyncCallback(WebIO.Scope(#= circular reference @-7 =#), WebIO.SyncCallback(WebIO.Scope(#= circular reference @-8 =#), WebIO.#37)), Observables.g]), nothing))), Set{String}(), nothing, Any[\"knockout\"=>\"/Users/luismartinezrojas/.julia/v0.6/Knockout/src/../assets/knockout.js\", \"knockout_punches\"=>\"/Users/luismartinezrojas/.julia/v0.6/Knockout/src/../assets/knockout_punches.js\", \"/Users/luismartinezrojas/.julia/v0.6/InteractBase/src/../assets/all.js\", \"/Users/luismartinezrojas/.julia/v0.6/InteractBase/src/../assets/style.css\", \"/Users/luismartinezrojas/.julia/v0.6/InteractBulma/src/../assets/main.css\"], Dict{Any,Any}(Pair{Any,Any}(\"_promises\", Dict{Any,Any}(Pair{Any,Any}(\"importsLoaded\", Any[WebIO.JSString(\"function (ko, koPunches) {\\n    ko.punches.enableAll();\\n    ko.bindingHandlers.numericValue = {\\n        init : function(element, valueAccessor, allBindings, data, context) {\\n            var stringified = ko.observable(ko.unwrap(valueAccessor()));\\n            stringified.subscribe(function(value) {\\n                var val = parseFloat(value);\\n                if (!isNaN(val)) {\\n                    valueAccessor()(val);\\n                }\\n            })\\n            valueAccessor().subscribe(function(value) {\\n                var str = JSON.stringify(value);\\n                if ((str == \\\"0\\\") && ([\\\"-0\\\", \\\"-0.\\\"].indexOf(stringified()) >= 0))\\n                     return;\\n                 if ([\\\"null\\\", \\\"\\\"].indexOf(str) >= 0)\\n                     return;\\n                stringified(str);\\n            })\\n            ko.applyBindingsToNode(element, { value: stringified, valueUpdate: allBindings.get('valueUpdate')}, context);\\n        }\\n    };\\n    var json_data = JSON.parse(\\\"{\\\\\\\"changes\\\\\\\":0,\\\\\\\"value\\\\\\\":6}\\\");\\n    var self = this;\\n    function AppViewModel() {\\n        for (var key in json_data) {\\n            var el = json_data[key];\\n            this[key] = Array.isArray(el) ? ko.observableArray(el) : ko.observable(el);\\n        }\\n        \\n        [this[\\\"displayedvalue\\\"]=ko.computed(function () {return this.value();},this)]\\n        [this[\\\"changes\\\"].subscribe((function (val){!(this.valueFromJulia[\\\"changes\\\"]) ? (WebIO.setval({\\\"name\\\":\\\"changes\\\",\\\"scope\\\":\\\"knockout-component-167081c7-3cb7-4bcd-8cd6-394fe5740149\\\",\\\"id\\\":\\\"ob_02\\\",\\\"type\\\":\\\"observable\\\"},val)) : undefined; return this.valueFromJulia[\\\"changes\\\"]=false}),self),this[\\\"value\\\"].subscribe((function (val){!(this.valueFromJulia[\\\"value\\\"]) ? (WebIO.setval({\\\"name\\\":\\\"value\\\",\\\"scope\\\":\\\"knockout-component-167081c7-3cb7-4bcd-8cd6-394fe5740149\\\",\\\"id\\\":\\\"ob_01\\\",\\\"type\\\":\\\"observable\\\"},val)) : undefined; return this.valueFromJulia[\\\"value\\\"]=false}),self)]\\n        \\n    }\\n    self.model = new AppViewModel();\\n    self.valueFromJulia = {};\\n    for (var key in json_data) {\\n        self.valueFromJulia[key] = false;\\n    }\\n    ko.applyBindings(self.model, self.dom);\\n}\\n\")]))),Pair{Any,Any}(\"changes\", Any[WebIO.JSString(\"(function (val){return (val!=this.model[\\\"changes\\\"]()) ? (this.valueFromJulia[\\\"changes\\\"]=true, this.model[\\\"changes\\\"](val)) : undefined})\")]),Pair{Any,Any}(\"value\", Any[WebIO.JSString(\"(function (val){return (val!=this.model[\\\"value\\\"]()) ? (this.valueFromJulia[\\\"value\\\"]=true, this.model[\\\"value\\\"](val)) : undefined})\")])), WebIO.ConnectionPool(Channel{Any}(sz_max:9223372036854775807,sz_curr:3), Set{WebIO.AbstractConnection}(), Channel{WebIO.AbstractConnection}(sz_max:32,sz_curr:0))), WebIO.SyncCallback(WebIO.Scope(\"knockout-component-167081c7-3cb7-4bcd-8cd6-394fe5740149\", WebIO.Node{WebIO.DOM}(WebIO.DOM(:html, :div), Any[WebIO.Node{WebIO.DOM}(WebIO.DOM(:html, :div), Any[WebIO.Node{WebIO.DOM}(WebIO.DOM(:html, :label), Any[\"n\"], Dict{Symbol,Any}(Pair{Symbol,Any}(:className, \"interact \"),Pair{Symbol,Any}(:style, Dict{Any,Any}(Pair{Any,Any}(:padding, \"5px 10px 0px 10px\")))), 1)], Dict{Any,Any}(Pair{Any,Any}(:attributes, Dict(\"style\"=>\"text-align:right;width:18%\"))), 2), WebIO.Node{WebIO.DOM}(WebIO.DOM(:html, :div), Any[WebIO.Node{WebIO.DOM}(WebIO.DOM(:html, :input), Any[], Dict{Any,Any}(Pair{Any,Any}(:max, 16),Pair{Any,Any}(:style, Dict{Any,Any}()),Pair{Any,Any}(:attributes, Dict{Any,Any}(Pair{Any,Any}(:type, \"range\"),Pair{Any,Any}(Symbol(\"data-bind\"), \"numericValue: value, valueUpdate: 'input', event: {change : function () {this.changes(this.changes()+1)}}\"))),Pair{Any,Any}(:step, 5),Pair{Any,Any}(:className, \"slider slider is-fullwidth\"),Pair{Any,Any}(:min, 1)), 0)], Dict{Any,Any}(Pair{Any,Any}(:attributes, Dict(\"style\"=>\"flex-grow:1; margin: 0 2%\"))), 1), WebIO.Node{WebIO.DOM}(WebIO.DOM(:html, :div), Any[WebIO.Node{WebIO.DOM}(WebIO.DOM(:html, :p), Any[], Dict{Symbol,Any}(Pair{Symbol,Any}(:attributes, Dict(\"data-bind\"=>\"text: displayedvalue\"))), 0)], Dict{Any,Any}(Pair{Any,Any}(:attributes, Dict(\"style\"=>\"width:18%\"))), 1)], Dict{Any,Any}(Pair{Any,Any}(:attributes, Dict(\"style\"=>\"display:flex; justify-content:center; align-items:center;\"))), 7), Dict{String,Tuple{Observables.Observable,Union{Bool, Void}}}(Pair{String,Tuple{Observables.Observable,Union{Bool, Void}}}(\"changes\", (Observables.Observable{Int64}(#= circular reference @-8 =#), nothing)),Pair{String,Tuple{Observables.Observable,Union{Bool, Void}}}(\"value\", (Observables.Observable{Int64}(\"ob_01\", 6, Any[WebIO.SyncCallback(WebIO.Scope(#= circular reference @-7 =#), WebIO.SyncCallback(WebIO.Scope(#= circular reference @-8 =#), WebIO.#37)), Observables.g]), nothing))), Set{String}(), nothing, Any[\"knockout\"=>\"/Users/luismartinezrojas/.julia/v0.6/Knockout/src/../assets/knockout.js\", \"knockout_punches\"=>\"/Users/luismartinezrojas/.julia/v0.6/Knockout/src/../assets/knockout_punches.js\", \"/Users/luismartinezrojas/.julia/v0.6/InteractBase/src/../assets/all.js\", \"/Users/luismartinezrojas/.julia/v0.6/InteractBase/src/../assets/style.css\", \"/Users/luismartinezrojas/.julia/v0.6/InteractBulma/src/../assets/main.css\"], Dict{Any,Any}(Pair{Any,Any}(\"_promises\", Dict{Any,Any}(Pair{Any,Any}(\"importsLoaded\", Any[WebIO.JSString(\"function (ko, koPunches) {\\n    ko.punches.enableAll();\\n    ko.bindingHandlers.numericValue = {\\n        init : function(element, valueAccessor, allBindings, data, context) {\\n            var stringified = ko.observable(ko.unwrap(valueAccessor()));\\n            stringified.subscribe(function(value) {\\n                var val = parseFloat(value);\\n                if (!isNaN(val)) {\\n                    valueAccessor()(val);\\n                }\\n            })\\n            valueAccessor().subscribe(function(value) {\\n                var str = JSON.stringify(value);\\n                if ((str == \\\"0\\\") && ([\\\"-0\\\", \\\"-0.\\\"].indexOf(stringified()) >= 0))\\n                     return;\\n                 if ([\\\"null\\\", \\\"\\\"].indexOf(str) >= 0)\\n                     return;\\n                stringified(str);\\n            })\\n            ko.applyBindingsToNode(element, { value: stringified, valueUpdate: allBindings.get('valueUpdate')}, context);\\n        }\\n    };\\n    var json_data = JSON.parse(\\\"{\\\\\\\"changes\\\\\\\":0,\\\\\\\"value\\\\\\\":6}\\\");\\n    var self = this;\\n    function AppViewModel() {\\n        for (var key in json_data) {\\n            var el = json_data[key];\\n            this[key] = Array.isArray(el) ? ko.observableArray(el) : ko.observable(el);\\n        }\\n        \\n        [this[\\\"displayedvalue\\\"]=ko.computed(function () {return this.value();},this)]\\n        [this[\\\"changes\\\"].subscribe((function (val){!(this.valueFromJulia[\\\"changes\\\"]) ? (WebIO.setval({\\\"name\\\":\\\"changes\\\",\\\"scope\\\":\\\"knockout-component-167081c7-3cb7-4bcd-8cd6-394fe5740149\\\",\\\"id\\\":\\\"ob_02\\\",\\\"type\\\":\\\"observable\\\"},val)) : undefined; return this.valueFromJulia[\\\"changes\\\"]=false}),self),this[\\\"value\\\"].subscribe((function (val){!(this.valueFromJulia[\\\"value\\\"]) ? (WebIO.setval({\\\"name\\\":\\\"value\\\",\\\"scope\\\":\\\"knockout-component-167081c7-3cb7-4bcd-8cd6-394fe5740149\\\",\\\"id\\\":\\\"ob_01\\\",\\\"type\\\":\\\"observable\\\"},val)) : undefined; return this.valueFromJulia[\\\"value\\\"]=false}),self)]\\n        \\n    }\\n    self.model = new AppViewModel();\\n    self.valueFromJulia = {};\\n    for (var key in json_data) {\\n        self.valueFromJulia[key] = false;\\n    }\\n    ko.applyBindings(self.model, self.dom);\\n}\\n\")]))),Pair{Any,Any}(\"changes\", Any[WebIO.JSString(\"(function (val){return (val!=this.model[\\\"changes\\\"]()) ? (this.valueFromJulia[\\\"changes\\\"]=true, this.model[\\\"changes\\\"](val)) : undefined})\")]),Pair{Any,Any}(\"value\", Any[WebIO.JSString(\"(function (val){return (val!=this.model[\\\"value\\\"]()) ? (this.valueFromJulia[\\\"value\\\"]=true, this.model[\\\"value\\\"](val)) : undefined})\")])), WebIO.ConnectionPool(Channel{Any}(sz_max:9223372036854775807,sz_curr:3), Set{WebIO.AbstractConnection}(), Channel{WebIO.AbstractConnection}(sz_max:32,sz_curr:0))), WebIO.#37))]),:value=>Observables.Observable{Int64}(\"ob_01\", 6, Any[WebIO.SyncCallback(WebIO.Scope(\"knockout-component-167081c7-3cb7-4bcd-8cd6-394fe5740149\", WebIO.Node{WebIO.DOM}(WebIO.DOM(:html, :div), Any[WebIO.Node{WebIO.DOM}(WebIO.DOM(:html, :div), Any[WebIO.Node{WebIO.DOM}(WebIO.DOM(:html, :label), Any[\"n\"], Dict{Symbol,Any}(Pair{Symbol,Any}(:className, \"interact \"),Pair{Symbol,Any}(:style, Dict{Any,Any}(Pair{Any,Any}(:padding, \"5px 10px 0px 10px\")))), 1)], Dict{Any,Any}(Pair{Any,Any}(:attributes, Dict(\"style\"=>\"text-align:right;width:18%\"))), 2), WebIO.Node{WebIO.DOM}(WebIO.DOM(:html, :div), Any[WebIO.Node{WebIO.DOM}(WebIO.DOM(:html, :input), Any[], Dict{Any,Any}(Pair{Any,Any}(:max, 16),Pair{Any,Any}(:style, Dict{Any,Any}()),Pair{Any,Any}(:attributes, Dict{Any,Any}(Pair{Any,Any}(:type, \"range\"),Pair{Any,Any}(Symbol(\"data-bind\"), \"numericValue: value, valueUpdate: 'input', event: {change : function () {this.changes(this.changes()+1)}}\"))),Pair{Any,Any}(:step, 5),Pair{Any,Any}(:className, \"slider slider is-fullwidth\"),Pair{Any,Any}(:min, 1)), 0)], Dict{Any,Any}(Pair{Any,Any}(:attributes, Dict(\"style\"=>\"flex-grow:1; margin: 0 2%\"))), 1), WebIO.Node{WebIO.DOM}(WebIO.DOM(:html, :div), Any[WebIO.Node{WebIO.DOM}(WebIO.DOM(:html, :p), Any[], Dict{Symbol,Any}(Pair{Symbol,Any}(:attributes, Dict(\"data-bind\"=>\"text: displayedvalue\"))), 0)], Dict{Any,Any}(Pair{Any,Any}(:attributes, Dict(\"style\"=>\"width:18%\"))), 1)], Dict{Any,Any}(Pair{Any,Any}(:attributes, Dict(\"style\"=>\"display:flex; justify-content:center; align-items:center;\"))), 7), Dict{String,Tuple{Observables.Observable,Union{Bool, Void}}}(Pair{String,Tuple{Observables.Observable,Union{Bool, Void}}}(\"changes\", (Observables.Observable{Int64}(\"ob_02\", 0, Any[WebIO.SyncCallback(WebIO.Scope(#= circular reference @-7 =#), WebIO.SyncCallback(WebIO.Scope(#= circular reference @-8 =#), WebIO.#37))]), nothing)),Pair{String,Tuple{Observables.Observable,Union{Bool, Void}}}(\"value\", (Observables.Observable{Int64}(#= circular reference @-7 =#), nothing))), Set{String}(), nothing, Any[\"knockout\"=>\"/Users/luismartinezrojas/.julia/v0.6/Knockout/src/../assets/knockout.js\", \"knockout_punches\"=>\"/Users/luismartinezrojas/.julia/v0.6/Knockout/src/../assets/knockout_punches.js\", \"/Users/luismartinezrojas/.julia/v0.6/InteractBase/src/../assets/all.js\", \"/Users/luismartinezrojas/.julia/v0.6/InteractBase/src/../assets/style.css\", \"/Users/luismartinezrojas/.julia/v0.6/InteractBulma/src/../assets/main.css\"], Dict{Any,Any}(Pair{Any,Any}(\"_promises\", Dict{Any,Any}(Pair{Any,Any}(\"importsLoaded\", Any[WebIO.JSString(\"function (ko, koPunches) {\\n    ko.punches.enableAll();\\n    ko.bindingHandlers.numericValue = {\\n        init : function(element, valueAccessor, allBindings, data, context) {\\n            var stringified = ko.observable(ko.unwrap(valueAccessor()));\\n            stringified.subscribe(function(value) {\\n                var val = parseFloat(value);\\n                if (!isNaN(val)) {\\n                    valueAccessor()(val);\\n                }\\n            })\\n            valueAccessor().subscribe(function(value) {\\n                var str = JSON.stringify(value);\\n                if ((str == \\\"0\\\") && ([\\\"-0\\\", \\\"-0.\\\"].indexOf(stringified()) >= 0))\\n                     return;\\n                 if ([\\\"null\\\", \\\"\\\"].indexOf(str) >= 0)\\n                     return;\\n                stringified(str);\\n            })\\n            ko.applyBindingsToNode(element, { value: stringified, valueUpdate: allBindings.get('valueUpdate')}, context);\\n        }\\n    };\\n    var json_data = JSON.parse(\\\"{\\\\\\\"changes\\\\\\\":0,\\\\\\\"value\\\\\\\":6}\\\");\\n    var self = this;\\n    function AppViewModel() {\\n        for (var key in json_data) {\\n            var el = json_data[key];\\n            this[key] = Array.isArray(el) ? ko.observableArray(el) : ko.observable(el);\\n        }\\n        \\n        [this[\\\"displayedvalue\\\"]=ko.computed(function () {return this.value();},this)]\\n        [this[\\\"changes\\\"].subscribe((function (val){!(this.valueFromJulia[\\\"changes\\\"]) ? (WebIO.setval({\\\"name\\\":\\\"changes\\\",\\\"scope\\\":\\\"knockout-component-167081c7-3cb7-4bcd-8cd6-394fe5740149\\\",\\\"id\\\":\\\"ob_02\\\",\\\"type\\\":\\\"observable\\\"},val)) : undefined; return this.valueFromJulia[\\\"changes\\\"]=false}),self),this[\\\"value\\\"].subscribe((function (val){!(this.valueFromJulia[\\\"value\\\"]) ? (WebIO.setval({\\\"name\\\":\\\"value\\\",\\\"scope\\\":\\\"knockout-component-167081c7-3cb7-4bcd-8cd6-394fe5740149\\\",\\\"id\\\":\\\"ob_01\\\",\\\"type\\\":\\\"observable\\\"},val)) : undefined; return this.valueFromJulia[\\\"value\\\"]=false}),self)]\\n        \\n    }\\n    self.model = new AppViewModel();\\n    self.valueFromJulia = {};\\n    for (var key in json_data) {\\n        self.valueFromJulia[key] = false;\\n    }\\n    ko.applyBindings(self.model, self.dom);\\n}\\n\")]))),Pair{Any,Any}(\"changes\", Any[WebIO.JSString(\"(function (val){return (val!=this.model[\\\"changes\\\"]()) ? (this.valueFromJulia[\\\"changes\\\"]=true, this.model[\\\"changes\\\"](val)) : undefined})\")]),Pair{Any,Any}(\"value\", Any[WebIO.JSString(\"(function (val){return (val!=this.model[\\\"value\\\"]()) ? (this.valueFromJulia[\\\"value\\\"]=true, this.model[\\\"value\\\"](val)) : undefined})\")])), WebIO.ConnectionPool(Channel{Any}(sz_max:9223372036854775807,sz_curr:3), Set{WebIO.AbstractConnection}(), Channel{WebIO.AbstractConnection}(sz_max:32,sz_curr:0))), WebIO.SyncCallback(WebIO.Scope(\"knockout-component-167081c7-3cb7-4bcd-8cd6-394fe5740149\", WebIO.Node{WebIO.DOM}(WebIO.DOM(:html, :div), Any[WebIO.Node{WebIO.DOM}(WebIO.DOM(:html, :div), Any[WebIO.Node{WebIO.DOM}(WebIO.DOM(:html, :label), Any[\"n\"], Dict{Symbol,Any}(Pair{Symbol,Any}(:className, \"interact \"),Pair{Symbol,Any}(:style, Dict{Any,Any}(Pair{Any,Any}(:padding, \"5px 10px 0px 10px\")))), 1)], Dict{Any,Any}(Pair{Any,Any}(:attributes, Dict(\"style\"=>\"text-align:right;width:18%\"))), 2), WebIO.Node{WebIO.DOM}(WebIO.DOM(:html, :div), Any[WebIO.Node{WebIO.DOM}(WebIO.DOM(:html, :input), Any[], Dict{Any,Any}(Pair{Any,Any}(:max, 16),Pair{Any,Any}(:style, Dict{Any,Any}()),Pair{Any,Any}(:attributes, Dict{Any,Any}(Pair{Any,Any}(:type, \"range\"),Pair{Any,Any}(Symbol(\"data-bind\"), \"numericValue: value, valueUpdate: 'input', event: {change : function () {this.changes(this.changes()+1)}}\"))),Pair{Any,Any}(:step, 5),Pair{Any,Any}(:className, \"slider slider is-fullwidth\"),Pair{Any,Any}(:min, 1)), 0)], Dict{Any,Any}(Pair{Any,Any}(:attributes, Dict(\"style\"=>\"flex-grow:1; margin: 0 2%\"))), 1), WebIO.Node{WebIO.DOM}(WebIO.DOM(:html, :div), Any[WebIO.Node{WebIO.DOM}(WebIO.DOM(:html, :p), Any[], Dict{Symbol,Any}(Pair{Symbol,Any}(:attributes, Dict(\"data-bind\"=>\"text: displayedvalue\"))), 0)], Dict{Any,Any}(Pair{Any,Any}(:attributes, Dict(\"style\"=>\"width:18%\"))), 1)], Dict{Any,Any}(Pair{Any,Any}(:attributes, Dict(\"style\"=>\"display:flex; justify-content:center; align-items:center;\"))), 7), Dict{String,Tuple{Observables.Observable,Union{Bool, Void}}}(Pair{String,Tuple{Observables.Observable,Union{Bool, Void}}}(\"changes\", (Observables.Observable{Int64}(\"ob_02\", 0, Any[WebIO.SyncCallback(WebIO.Scope(#= circular reference @-7 =#), WebIO.SyncCallback(WebIO.Scope(#= circular reference @-8 =#), WebIO.#37))]), nothing)),Pair{String,Tuple{Observables.Observable,Union{Bool, Void}}}(\"value\", (Observables.Observable{Int64}(#= circular reference @-8 =#), nothing))), Set{String}(), nothing, Any[\"knockout\"=>\"/Users/luismartinezrojas/.julia/v0.6/Knockout/src/../assets/knockout.js\", \"knockout_punches\"=>\"/Users/luismartinezrojas/.julia/v0.6/Knockout/src/../assets/knockout_punches.js\", \"/Users/luismartinezrojas/.julia/v0.6/InteractBase/src/../assets/all.js\", \"/Users/luismartinezrojas/.julia/v0.6/InteractBase/src/../assets/style.css\", \"/Users/luismartinezrojas/.julia/v0.6/InteractBulma/src/../assets/main.css\"], Dict{Any,Any}(Pair{Any,Any}(\"_promises\", Dict{Any,Any}(Pair{Any,Any}(\"importsLoaded\", Any[WebIO.JSString(\"function (ko, koPunches) {\\n    ko.punches.enableAll();\\n    ko.bindingHandlers.numericValue = {\\n        init : function(element, valueAccessor, allBindings, data, context) {\\n            var stringified = ko.observable(ko.unwrap(valueAccessor()));\\n            stringified.subscribe(function(value) {\\n                var val = parseFloat(value);\\n                if (!isNaN(val)) {\\n                    valueAccessor()(val);\\n                }\\n            })\\n            valueAccessor().subscribe(function(value) {\\n                var str = JSON.stringify(value);\\n                if ((str == \\\"0\\\") && ([\\\"-0\\\", \\\"-0.\\\"].indexOf(stringified()) >= 0))\\n                     return;\\n                 if ([\\\"null\\\", \\\"\\\"].indexOf(str) >= 0)\\n                     return;\\n                stringified(str);\\n            })\\n            ko.applyBindingsToNode(element, { value: stringified, valueUpdate: allBindings.get('valueUpdate')}, context);\\n        }\\n    };\\n    var json_data = JSON.parse(\\\"{\\\\\\\"changes\\\\\\\":0,\\\\\\\"value\\\\\\\":6}\\\");\\n    var self = this;\\n    function AppViewModel() {\\n        for (var key in json_data) {\\n            var el = json_data[key];\\n            this[key] = Array.isArray(el) ? ko.observableArray(el) : ko.observable(el);\\n        }\\n        \\n        [this[\\\"displayedvalue\\\"]=ko.computed(function () {return this.value();},this)]\\n        [this[\\\"changes\\\"].subscribe((function (val){!(this.valueFromJulia[\\\"changes\\\"]) ? (WebIO.setval({\\\"name\\\":\\\"changes\\\",\\\"scope\\\":\\\"knockout-component-167081c7-3cb7-4bcd-8cd6-394fe5740149\\\",\\\"id\\\":\\\"ob_02\\\",\\\"type\\\":\\\"observable\\\"},val)) : undefined; return this.valueFromJulia[\\\"changes\\\"]=false}),self),this[\\\"value\\\"].subscribe((function (val){!(this.valueFromJulia[\\\"value\\\"]) ? (WebIO.setval({\\\"name\\\":\\\"value\\\",\\\"scope\\\":\\\"knockout-component-167081c7-3cb7-4bcd-8cd6-394fe5740149\\\",\\\"id\\\":\\\"ob_01\\\",\\\"type\\\":\\\"observable\\\"},val)) : undefined; return this.valueFromJulia[\\\"value\\\"]=false}),self)]\\n        \\n    }\\n    self.model = new AppViewModel();\\n    self.valueFromJulia = {};\\n    for (var key in json_data) {\\n        self.valueFromJulia[key] = false;\\n    }\\n    ko.applyBindings(self.model, self.dom);\\n}\\n\")]))),Pair{Any,Any}(\"changes\", Any[WebIO.JSString(\"(function (val){return (val!=this.model[\\\"changes\\\"]()) ? (this.valueFromJulia[\\\"changes\\\"]=true, this.model[\\\"changes\\\"](val)) : undefined})\")]),Pair{Any,Any}(\"value\", Any[WebIO.JSString(\"(function (val){return (val!=this.model[\\\"value\\\"]()) ? (this.valueFromJulia[\\\"value\\\"]=true, this.model[\\\"value\\\"](val)) : undefined})\")])), WebIO.ConnectionPool(Channel{Any}(sz_max:9223372036854775807,sz_curr:3), Set{WebIO.AbstractConnection}(), Channel{WebIO.AbstractConnection}(sz_max:32,sz_curr:0))), WebIO.#37)), Observables.g])), Observables.Observable{Int64}(\"ob_01\", 6, Any[WebIO.SyncCallback(WebIO.Scope(\"knockout-component-167081c7-3cb7-4bcd-8cd6-394fe5740149\", WebIO.Node{WebIO.DOM}(WebIO.DOM(:html, :div), Any[WebIO.Node{WebIO.DOM}(WebIO.DOM(:html, :div), Any[WebIO.Node{WebIO.DOM}(WebIO.DOM(:html, :label), Any[\"n\"], Dict{Symbol,Any}(Pair{Symbol,Any}(:className, \"interact \"),Pair{Symbol,Any}(:style, Dict{Any,Any}(Pair{Any,Any}(:padding, \"5px 10px 0px 10px\")))), 1)], Dict{Any,Any}(Pair{Any,Any}(:attributes, Dict(\"style\"=>\"text-align:right;width:18%\"))), 2), WebIO.Node{WebIO.DOM}(WebIO.DOM(:html, :div), Any[WebIO.Node{WebIO.DOM}(WebIO.DOM(:html, :input), Any[], Dict{Any,Any}(Pair{Any,Any}(:max, 16),Pair{Any,Any}(:style, Dict{Any,Any}()),Pair{Any,Any}(:attributes, Dict{Any,Any}(Pair{Any,Any}(:type, \"range\"),Pair{Any,Any}(Symbol(\"data-bind\"), \"numericValue: value, valueUpdate: 'input', event: {change : function () {this.changes(this.changes()+1)}}\"))),Pair{Any,Any}(:step, 5),Pair{Any,Any}(:className, \"slider slider is-fullwidth\"),Pair{Any,Any}(:min, 1)), 0)], Dict{Any,Any}(Pair{Any,Any}(:attributes, Dict(\"style\"=>\"flex-grow:1; margin: 0 2%\"))), 1), WebIO.Node{WebIO.DOM}(WebIO.DOM(:html, :div), Any[WebIO.Node{WebIO.DOM}(WebIO.DOM(:html, :p), Any[], Dict{Symbol,Any}(Pair{Symbol,Any}(:attributes, Dict(\"data-bind\"=>\"text: displayedvalue\"))), 0)], Dict{Any,Any}(Pair{Any,Any}(:attributes, Dict(\"style\"=>\"width:18%\"))), 1)], Dict{Any,Any}(Pair{Any,Any}(:attributes, Dict(\"style\"=>\"display:flex; justify-content:center; align-items:center;\"))), 7), Dict{String,Tuple{Observables.Observable,Union{Bool, Void}}}(Pair{String,Tuple{Observables.Observable,Union{Bool, Void}}}(\"changes\", (Observables.Observable{Int64}(\"ob_02\", 0, Any[WebIO.SyncCallback(WebIO.Scope(#= circular reference @-7 =#), WebIO.SyncCallback(WebIO.Scope(#= circular reference @-8 =#), WebIO.#37))]), nothing)),Pair{String,Tuple{Observables.Observable,Union{Bool, Void}}}(\"value\", (Observables.Observable{Int64}(#= circular reference @-7 =#), nothing))), Set{String}(), nothing, Any[\"knockout\"=>\"/Users/luismartinezrojas/.julia/v0.6/Knockout/src/../assets/knockout.js\", \"knockout_punches\"=>\"/Users/luismartinezrojas/.julia/v0.6/Knockout/src/../assets/knockout_punches.js\", \"/Users/luismartinezrojas/.julia/v0.6/InteractBase/src/../assets/all.js\", \"/Users/luismartinezrojas/.julia/v0.6/InteractBase/src/../assets/style.css\", \"/Users/luismartinezrojas/.julia/v0.6/InteractBulma/src/../assets/main.css\"], Dict{Any,Any}(Pair{Any,Any}(\"_promises\", Dict{Any,Any}(Pair{Any,Any}(\"importsLoaded\", Any[WebIO.JSString(\"function (ko, koPunches) {\\n    ko.punches.enableAll();\\n    ko.bindingHandlers.numericValue = {\\n        init : function(element, valueAccessor, allBindings, data, context) {\\n            var stringified = ko.observable(ko.unwrap(valueAccessor()));\\n            stringified.subscribe(function(value) {\\n                var val = parseFloat(value);\\n                if (!isNaN(val)) {\\n                    valueAccessor()(val);\\n                }\\n            })\\n            valueAccessor().subscribe(function(value) {\\n                var str = JSON.stringify(value);\\n                if ((str == \\\"0\\\") && ([\\\"-0\\\", \\\"-0.\\\"].indexOf(stringified()) >= 0))\\n                     return;\\n                 if ([\\\"null\\\", \\\"\\\"].indexOf(str) >= 0)\\n                     return;\\n                stringified(str);\\n            })\\n            ko.applyBindingsToNode(element, { value: stringified, valueUpdate: allBindings.get('valueUpdate')}, context);\\n        }\\n    };\\n    var json_data = JSON.parse(\\\"{\\\\\\\"changes\\\\\\\":0,\\\\\\\"value\\\\\\\":6}\\\");\\n    var self = this;\\n    function AppViewModel() {\\n        for (var key in json_data) {\\n            var el = json_data[key];\\n            this[key] = Array.isArray(el) ? ko.observableArray(el) : ko.observable(el);\\n        }\\n        \\n        [this[\\\"displayedvalue\\\"]=ko.computed(function () {return this.value();},this)]\\n        [this[\\\"changes\\\"].subscribe((function (val){!(this.valueFromJulia[\\\"changes\\\"]) ? (WebIO.setval({\\\"name\\\":\\\"changes\\\",\\\"scope\\\":\\\"knockout-component-167081c7-3cb7-4bcd-8cd6-394fe5740149\\\",\\\"id\\\":\\\"ob_02\\\",\\\"type\\\":\\\"observable\\\"},val)) : undefined; return this.valueFromJulia[\\\"changes\\\"]=false}),self),this[\\\"value\\\"].subscribe((function (val){!(this.valueFromJulia[\\\"value\\\"]) ? (WebIO.setval({\\\"name\\\":\\\"value\\\",\\\"scope\\\":\\\"knockout-component-167081c7-3cb7-4bcd-8cd6-394fe5740149\\\",\\\"id\\\":\\\"ob_01\\\",\\\"type\\\":\\\"observable\\\"},val)) : undefined; return this.valueFromJulia[\\\"value\\\"]=false}),self)]\\n        \\n    }\\n    self.model = new AppViewModel();\\n    self.valueFromJulia = {};\\n    for (var key in json_data) {\\n        self.valueFromJulia[key] = false;\\n    }\\n    ko.applyBindings(self.model, self.dom);\\n}\\n\")]))),Pair{Any,Any}(\"changes\", Any[WebIO.JSString(\"(function (val){return (val!=this.model[\\\"changes\\\"]()) ? (this.valueFromJulia[\\\"changes\\\"]=true, this.model[\\\"changes\\\"](val)) : undefined})\")]),Pair{Any,Any}(\"value\", Any[WebIO.JSString(\"(function (val){return (val!=this.model[\\\"value\\\"]()) ? (this.valueFromJulia[\\\"value\\\"]=true, this.model[\\\"value\\\"](val)) : undefined})\")])), WebIO.ConnectionPool(Channel{Any}(sz_max:9223372036854775807,sz_curr:3), Set{WebIO.AbstractConnection}(), Channel{WebIO.AbstractConnection}(sz_max:32,sz_curr:0))), WebIO.SyncCallback(WebIO.Scope(\"knockout-component-167081c7-3cb7-4bcd-8cd6-394fe5740149\", WebIO.Node{WebIO.DOM}(WebIO.DOM(:html, :div), Any[WebIO.Node{WebIO.DOM}(WebIO.DOM(:html, :div), Any[WebIO.Node{WebIO.DOM}(WebIO.DOM(:html, :label), Any[\"n\"], Dict{Symbol,Any}(Pair{Symbol,Any}(:className, \"interact \"),Pair{Symbol,Any}(:style, Dict{Any,Any}(Pair{Any,Any}(:padding, \"5px 10px 0px 10px\")))), 1)], Dict{Any,Any}(Pair{Any,Any}(:attributes, Dict(\"style\"=>\"text-align:right;width:18%\"))), 2), WebIO.Node{WebIO.DOM}(WebIO.DOM(:html, :div), Any[WebIO.Node{WebIO.DOM}(WebIO.DOM(:html, :input), Any[], Dict{Any,Any}(Pair{Any,Any}(:max, 16),Pair{Any,Any}(:style, Dict{Any,Any}()),Pair{Any,Any}(:attributes, Dict{Any,Any}(Pair{Any,Any}(:type, \"range\"),Pair{Any,Any}(Symbol(\"data-bind\"), \"numericValue: value, valueUpdate: 'input', event: {change : function () {this.changes(this.changes()+1)}}\"))),Pair{Any,Any}(:step, 5),Pair{Any,Any}(:className, \"slider slider is-fullwidth\"),Pair{Any,Any}(:min, 1)), 0)], Dict{Any,Any}(Pair{Any,Any}(:attributes, Dict(\"style\"=>\"flex-grow:1; margin: 0 2%\"))), 1), WebIO.Node{WebIO.DOM}(WebIO.DOM(:html, :div), Any[WebIO.Node{WebIO.DOM}(WebIO.DOM(:html, :p), Any[], Dict{Symbol,Any}(Pair{Symbol,Any}(:attributes, Dict(\"data-bind\"=>\"text: displayedvalue\"))), 0)], Dict{Any,Any}(Pair{Any,Any}(:attributes, Dict(\"style\"=>\"width:18%\"))), 1)], Dict{Any,Any}(Pair{Any,Any}(:attributes, Dict(\"style\"=>\"display:flex; justify-content:center; align-items:center;\"))), 7), Dict{String,Tuple{Observables.Observable,Union{Bool, Void}}}(Pair{String,Tuple{Observables.Observable,Union{Bool, Void}}}(\"changes\", (Observables.Observable{Int64}(\"ob_02\", 0, Any[WebIO.SyncCallback(WebIO.Scope(#= circular reference @-7 =#), WebIO.SyncCallback(WebIO.Scope(#= circular reference @-8 =#), WebIO.#37))]), nothing)),Pair{String,Tuple{Observables.Observable,Union{Bool, Void}}}(\"value\", (Observables.Observable{Int64}(#= circular reference @-8 =#), nothing))), Set{String}(), nothing, Any[\"knockout\"=>\"/Users/luismartinezrojas/.julia/v0.6/Knockout/src/../assets/knockout.js\", \"knockout_punches\"=>\"/Users/luismartinezrojas/.julia/v0.6/Knockout/src/../assets/knockout_punches.js\", \"/Users/luismartinezrojas/.julia/v0.6/InteractBase/src/../assets/all.js\", \"/Users/luismartinezrojas/.julia/v0.6/InteractBase/src/../assets/style.css\", \"/Users/luismartinezrojas/.julia/v0.6/InteractBulma/src/../assets/main.css\"], Dict{Any,Any}(Pair{Any,Any}(\"_promises\", Dict{Any,Any}(Pair{Any,Any}(\"importsLoaded\", Any[WebIO.JSString(\"function (ko, koPunches) {\\n    ko.punches.enableAll();\\n    ko.bindingHandlers.numericValue = {\\n        init : function(element, valueAccessor, allBindings, data, context) {\\n            var stringified = ko.observable(ko.unwrap(valueAccessor()));\\n            stringified.subscribe(function(value) {\\n                var val = parseFloat(value);\\n                if (!isNaN(val)) {\\n                    valueAccessor()(val);\\n                }\\n            })\\n            valueAccessor().subscribe(function(value) {\\n                var str = JSON.stringify(value);\\n                if ((str == \\\"0\\\") && ([\\\"-0\\\", \\\"-0.\\\"].indexOf(stringified()) >= 0))\\n                     return;\\n                 if ([\\\"null\\\", \\\"\\\"].indexOf(str) >= 0)\\n                     return;\\n                stringified(str);\\n            })\\n            ko.applyBindingsToNode(element, { value: stringified, valueUpdate: allBindings.get('valueUpdate')}, context);\\n        }\\n    };\\n    var json_data = JSON.parse(\\\"{\\\\\\\"changes\\\\\\\":0,\\\\\\\"value\\\\\\\":6}\\\");\\n    var self = this;\\n    function AppViewModel() {\\n        for (var key in json_data) {\\n            var el = json_data[key];\\n            this[key] = Array.isArray(el) ? ko.observableArray(el) : ko.observable(el);\\n        }\\n        \\n        [this[\\\"displayedvalue\\\"]=ko.computed(function () {return this.value();},this)]\\n        [this[\\\"changes\\\"].subscribe((function (val){!(this.valueFromJulia[\\\"changes\\\"]) ? (WebIO.setval({\\\"name\\\":\\\"changes\\\",\\\"scope\\\":\\\"knockout-component-167081c7-3cb7-4bcd-8cd6-394fe5740149\\\",\\\"id\\\":\\\"ob_02\\\",\\\"type\\\":\\\"observable\\\"},val)) : undefined; return this.valueFromJulia[\\\"changes\\\"]=false}),self),this[\\\"value\\\"].subscribe((function (val){!(this.valueFromJulia[\\\"value\\\"]) ? (WebIO.setval({\\\"name\\\":\\\"value\\\",\\\"scope\\\":\\\"knockout-component-167081c7-3cb7-4bcd-8cd6-394fe5740149\\\",\\\"id\\\":\\\"ob_01\\\",\\\"type\\\":\\\"observable\\\"},val)) : undefined; return this.valueFromJulia[\\\"value\\\"]=false}),self)]\\n        \\n    }\\n    self.model = new AppViewModel();\\n    self.valueFromJulia = {};\\n    for (var key in json_data) {\\n        self.valueFromJulia[key] = false;\\n    }\\n    ko.applyBindings(self.model, self.dom);\\n}\\n\")]))),Pair{Any,Any}(\"changes\", Any[WebIO.JSString(\"(function (val){return (val!=this.model[\\\"changes\\\"]()) ? (this.valueFromJulia[\\\"changes\\\"]=true, this.model[\\\"changes\\\"](val)) : undefined})\")]),Pair{Any,Any}(\"value\", Any[WebIO.JSString(\"(function (val){return (val!=this.model[\\\"value\\\"]()) ? (this.valueFromJulia[\\\"value\\\"]=true, this.model[\\\"value\\\"](val)) : undefined})\")])), WebIO.ConnectionPool(Channel{Any}(sz_max:9223372036854775807,sz_curr:3), Set{WebIO.AbstractConnection}(), Channel{WebIO.AbstractConnection}(sz_max:32,sz_curr:0))), WebIO.#37)), Observables.g]), Observables.Observable{Int64}(\"ob_01\", 6, Any[WebIO.SyncCallback(WebIO.Scope(\"knockout-component-167081c7-3cb7-4bcd-8cd6-394fe5740149\", WebIO.Node{WebIO.DOM}(WebIO.DOM(:html, :div), Any[WebIO.Node{WebIO.DOM}(WebIO.DOM(:html, :div), Any[WebIO.Node{WebIO.DOM}(WebIO.DOM(:html, :label), Any[\"n\"], Dict{Symbol,Any}(Pair{Symbol,Any}(:className, \"interact \"),Pair{Symbol,Any}(:style, Dict{Any,Any}(Pair{Any,Any}(:padding, \"5px 10px 0px 10px\")))), 1)], Dict{Any,Any}(Pair{Any,Any}(:attributes, Dict(\"style\"=>\"text-align:right;width:18%\"))), 2), WebIO.Node{WebIO.DOM}(WebIO.DOM(:html, :div), Any[WebIO.Node{WebIO.DOM}(WebIO.DOM(:html, :input), Any[], Dict{Any,Any}(Pair{Any,Any}(:max, 16),Pair{Any,Any}(:style, Dict{Any,Any}()),Pair{Any,Any}(:attributes, Dict{Any,Any}(Pair{Any,Any}(:type, \"range\"),Pair{Any,Any}(Symbol(\"data-bind\"), \"numericValue: value, valueUpdate: 'input', event: {change : function () {this.changes(this.changes()+1)}}\"))),Pair{Any,Any}(:step, 5),Pair{Any,Any}(:className, \"slider slider is-fullwidth\"),Pair{Any,Any}(:min, 1)), 0)], Dict{Any,Any}(Pair{Any,Any}(:attributes, Dict(\"style\"=>\"flex-grow:1; margin: 0 2%\"))), 1), WebIO.Node{WebIO.DOM}(WebIO.DOM(:html, :div), Any[WebIO.Node{WebIO.DOM}(WebIO.DOM(:html, :p), Any[], Dict{Symbol,Any}(Pair{Symbol,Any}(:attributes, Dict(\"data-bind\"=>\"text: displayedvalue\"))), 0)], Dict{Any,Any}(Pair{Any,Any}(:attributes, Dict(\"style\"=>\"width:18%\"))), 1)], Dict{Any,Any}(Pair{Any,Any}(:attributes, Dict(\"style\"=>\"display:flex; justify-content:center; align-items:center;\"))), 7), Dict{String,Tuple{Observables.Observable,Union{Bool, Void}}}(Pair{String,Tuple{Observables.Observable,Union{Bool, Void}}}(\"changes\", (Observables.Observable{Int64}(\"ob_02\", 0, Any[WebIO.SyncCallback(WebIO.Scope(#= circular reference @-7 =#), WebIO.SyncCallback(WebIO.Scope(#= circular reference @-8 =#), WebIO.#37))]), nothing)),Pair{String,Tuple{Observables.Observable,Union{Bool, Void}}}(\"value\", (Observables.Observable{Int64}(#= circular reference @-7 =#), nothing))), Set{String}(), nothing, Any[\"knockout\"=>\"/Users/luismartinezrojas/.julia/v0.6/Knockout/src/../assets/knockout.js\", \"knockout_punches\"=>\"/Users/luismartinezrojas/.julia/v0.6/Knockout/src/../assets/knockout_punches.js\", \"/Users/luismartinezrojas/.julia/v0.6/InteractBase/src/../assets/all.js\", \"/Users/luismartinezrojas/.julia/v0.6/InteractBase/src/../assets/style.css\", \"/Users/luismartinezrojas/.julia/v0.6/InteractBulma/src/../assets/main.css\"], Dict{Any,Any}(Pair{Any,Any}(\"_promises\", Dict{Any,Any}(Pair{Any,Any}(\"importsLoaded\", Any[WebIO.JSString(\"function (ko, koPunches) {\\n    ko.punches.enableAll();\\n    ko.bindingHandlers.numericValue = {\\n        init : function(element, valueAccessor, allBindings, data, context) {\\n            var stringified = ko.observable(ko.unwrap(valueAccessor()));\\n            stringified.subscribe(function(value) {\\n                var val = parseFloat(value);\\n                if (!isNaN(val)) {\\n                    valueAccessor()(val);\\n                }\\n            })\\n            valueAccessor().subscribe(function(value) {\\n                var str = JSON.stringify(value);\\n                if ((str == \\\"0\\\") && ([\\\"-0\\\", \\\"-0.\\\"].indexOf(stringified()) >= 0))\\n                     return;\\n                 if ([\\\"null\\\", \\\"\\\"].indexOf(str) >= 0)\\n                     return;\\n                stringified(str);\\n            })\\n            ko.applyBindingsToNode(element, { value: stringified, valueUpdate: allBindings.get('valueUpdate')}, context);\\n        }\\n    };\\n    var json_data = JSON.parse(\\\"{\\\\\\\"changes\\\\\\\":0,\\\\\\\"value\\\\\\\":6}\\\");\\n    var self = this;\\n    function AppViewModel() {\\n        for (var key in json_data) {\\n            var el = json_data[key];\\n            this[key] = Array.isArray(el) ? ko.observableArray(el) : ko.observable(el);\\n        }\\n        \\n        [this[\\\"displayedvalue\\\"]=ko.computed(function () {return this.value();},this)]\\n        [this[\\\"changes\\\"].subscribe((function (val){!(this.valueFromJulia[\\\"changes\\\"]) ? (WebIO.setval({\\\"name\\\":\\\"changes\\\",\\\"scope\\\":\\\"knockout-component-167081c7-3cb7-4bcd-8cd6-394fe5740149\\\",\\\"id\\\":\\\"ob_02\\\",\\\"type\\\":\\\"observable\\\"},val)) : undefined; return this.valueFromJulia[\\\"changes\\\"]=false}),self),this[\\\"value\\\"].subscribe((function (val){!(this.valueFromJulia[\\\"value\\\"]) ? (WebIO.setval({\\\"name\\\":\\\"value\\\",\\\"scope\\\":\\\"knockout-component-167081c7-3cb7-4bcd-8cd6-394fe5740149\\\",\\\"id\\\":\\\"ob_01\\\",\\\"type\\\":\\\"observable\\\"},val)) : undefined; return this.valueFromJulia[\\\"value\\\"]=false}),self)]\\n        \\n    }\\n    self.model = new AppViewModel();\\n    self.valueFromJulia = {};\\n    for (var key in json_data) {\\n        self.valueFromJulia[key] = false;\\n    }\\n    ko.applyBindings(self.model, self.dom);\\n}\\n\")]))),Pair{Any,Any}(\"changes\", Any[WebIO.JSString(\"(function (val){return (val!=this.model[\\\"changes\\\"]()) ? (this.valueFromJulia[\\\"changes\\\"]=true, this.model[\\\"changes\\\"](val)) : undefined})\")]),Pair{Any,Any}(\"value\", Any[WebIO.JSString(\"(function (val){return (val!=this.model[\\\"value\\\"]()) ? (this.valueFromJulia[\\\"value\\\"]=true, this.model[\\\"value\\\"](val)) : undefined})\")])), WebIO.ConnectionPool(Channel{Any}(sz_max:9223372036854775807,sz_curr:3), Set{WebIO.AbstractConnection}(), Channel{WebIO.AbstractConnection}(sz_max:32,sz_curr:0))), WebIO.SyncCallback(WebIO.Scope(\"knockout-component-167081c7-3cb7-4bcd-8cd6-394fe5740149\", WebIO.Node{WebIO.DOM}(WebIO.DOM(:html, :div), Any[WebIO.Node{WebIO.DOM}(WebIO.DOM(:html, :div), Any[WebIO.Node{WebIO.DOM}(WebIO.DOM(:html, :label), Any[\"n\"], Dict{Symbol,Any}(Pair{Symbol,Any}(:className, \"interact \"),Pair{Symbol,Any}(:style, Dict{Any,Any}(Pair{Any,Any}(:padding, \"5px 10px 0px 10px\")))), 1)], Dict{Any,Any}(Pair{Any,Any}(:attributes, Dict(\"style\"=>\"text-align:right;width:18%\"))), 2), WebIO.Node{WebIO.DOM}(WebIO.DOM(:html, :div), Any[WebIO.Node{WebIO.DOM}(WebIO.DOM(:html, :input), Any[], Dict{Any,Any}(Pair{Any,Any}(:max, 16),Pair{Any,Any}(:style, Dict{Any,Any}()),Pair{Any,Any}(:attributes, Dict{Any,Any}(Pair{Any,Any}(:type, \"range\"),Pair{Any,Any}(Symbol(\"data-bind\"), \"numericValue: value, valueUpdate: 'input', event: {change : function () {this.changes(this.changes()+1)}}\"))),Pair{Any,Any}(:step, 5),Pair{Any,Any}(:className, \"slider slider is-fullwidth\"),Pair{Any,Any}(:min, 1)), 0)], Dict{Any,Any}(Pair{Any,Any}(:attributes, Dict(\"style\"=>\"flex-grow:1; margin: 0 2%\"))), 1), WebIO.Node{WebIO.DOM}(WebIO.DOM(:html, :div), Any[WebIO.Node{WebIO.DOM}(WebIO.DOM(:html, :p), Any[], Dict{Symbol,Any}(Pair{Symbol,Any}(:attributes, Dict(\"data-bind\"=>\"text: displayedvalue\"))), 0)], Dict{Any,Any}(Pair{Any,Any}(:attributes, Dict(\"style\"=>\"width:18%\"))), 1)], Dict{Any,Any}(Pair{Any,Any}(:attributes, Dict(\"style\"=>\"display:flex; justify-content:center; align-items:center;\"))), 7), Dict{String,Tuple{Observables.Observable,Union{Bool, Void}}}(Pair{String,Tuple{Observables.Observable,Union{Bool, Void}}}(\"changes\", (Observables.Observable{Int64}(\"ob_02\", 0, Any[WebIO.SyncCallback(WebIO.Scope(#= circular reference @-7 =#), WebIO.SyncCallback(WebIO.Scope(#= circular reference @-8 =#), WebIO.#37))]), nothing)),Pair{String,Tuple{Observables.Observable,Union{Bool, Void}}}(\"value\", (Observables.Observable{Int64}(#= circular reference @-8 =#), nothing))), Set{String}(), nothing, Any[\"knockout\"=>\"/Users/luismartinezrojas/.julia/v0.6/Knockout/src/../assets/knockout.js\", \"knockout_punches\"=>\"/Users/luismartinezrojas/.julia/v0.6/Knockout/src/../assets/knockout_punches.js\", \"/Users/luismartinezrojas/.julia/v0.6/InteractBase/src/../assets/all.js\", \"/Users/luismartinezrojas/.julia/v0.6/InteractBase/src/../assets/style.css\", \"/Users/luismartinezrojas/.julia/v0.6/InteractBulma/src/../assets/main.css\"], Dict{Any,Any}(Pair{Any,Any}(\"_promises\", Dict{Any,Any}(Pair{Any,Any}(\"importsLoaded\", Any[WebIO.JSString(\"function (ko, koPunches) {\\n    ko.punches.enableAll();\\n    ko.bindingHandlers.numericValue = {\\n        init : function(element, valueAccessor, allBindings, data, context) {\\n            var stringified = ko.observable(ko.unwrap(valueAccessor()));\\n            stringified.subscribe(function(value) {\\n                var val = parseFloat(value);\\n                if (!isNaN(val)) {\\n                    valueAccessor()(val);\\n                }\\n            })\\n            valueAccessor().subscribe(function(value) {\\n                var str = JSON.stringify(value);\\n                if ((str == \\\"0\\\") && ([\\\"-0\\\", \\\"-0.\\\"].indexOf(stringified()) >= 0))\\n                     return;\\n                 if ([\\\"null\\\", \\\"\\\"].indexOf(str) >= 0)\\n                     return;\\n                stringified(str);\\n            })\\n            ko.applyBindingsToNode(element, { value: stringified, valueUpdate: allBindings.get('valueUpdate')}, context);\\n        }\\n    };\\n    var json_data = JSON.parse(\\\"{\\\\\\\"changes\\\\\\\":0,\\\\\\\"value\\\\\\\":6}\\\");\\n    var self = this;\\n    function AppViewModel() {\\n        for (var key in json_data) {\\n            var el = json_data[key];\\n            this[key] = Array.isArray(el) ? ko.observableArray(el) : ko.observable(el);\\n        }\\n        \\n        [this[\\\"displayedvalue\\\"]=ko.computed(function () {return this.value();},this)]\\n        [this[\\\"changes\\\"].subscribe((function (val){!(this.valueFromJulia[\\\"changes\\\"]) ? (WebIO.setval({\\\"name\\\":\\\"changes\\\",\\\"scope\\\":\\\"knockout-component-167081c7-3cb7-4bcd-8cd6-394fe5740149\\\",\\\"id\\\":\\\"ob_02\\\",\\\"type\\\":\\\"observable\\\"},val)) : undefined; return this.valueFromJulia[\\\"changes\\\"]=false}),self),this[\\\"value\\\"].subscribe((function (val){!(this.valueFromJulia[\\\"value\\\"]) ? (WebIO.setval({\\\"name\\\":\\\"value\\\",\\\"scope\\\":\\\"knockout-component-167081c7-3cb7-4bcd-8cd6-394fe5740149\\\",\\\"id\\\":\\\"ob_01\\\",\\\"type\\\":\\\"observable\\\"},val)) : undefined; return this.valueFromJulia[\\\"value\\\"]=false}),self)]\\n        \\n    }\\n    self.model = new AppViewModel();\\n    self.valueFromJulia = {};\\n    for (var key in json_data) {\\n        self.valueFromJulia[key] = false;\\n    }\\n    ko.applyBindings(self.model, self.dom);\\n}\\n\")]))),Pair{Any,Any}(\"changes\", Any[WebIO.JSString(\"(function (val){return (val!=this.model[\\\"changes\\\"]()) ? (this.valueFromJulia[\\\"changes\\\"]=true, this.model[\\\"changes\\\"](val)) : undefined})\")]),Pair{Any,Any}(\"value\", Any[WebIO.JSString(\"(function (val){return (val!=this.model[\\\"value\\\"]()) ? (this.valueFromJulia[\\\"value\\\"]=true, this.model[\\\"value\\\"](val)) : undefined})\")])), WebIO.ConnectionPool(Channel{Any}(sz_max:9223372036854775807,sz_curr:3), Set{WebIO.AbstractConnection}(), Channel{WebIO.AbstractConnection}(sz_max:32,sz_curr:0))), WebIO.#37)), Observables.g]), WebIO.Scope(\"knockout-component-167081c7-3cb7-4bcd-8cd6-394fe5740149\", WebIO.Node{WebIO.DOM}(WebIO.DOM(:html, :div), Any[WebIO.Node{WebIO.DOM}(WebIO.DOM(:html, :div), Any[WebIO.Node{WebIO.DOM}(WebIO.DOM(:html, :label), Any[\"n\"], Dict{Symbol,Any}(Pair{Symbol,Any}(:className, \"interact \"),Pair{Symbol,Any}(:style, Dict{Any,Any}(Pair{Any,Any}(:padding, \"5px 10px 0px 10px\")))), 1)], Dict{Any,Any}(Pair{Any,Any}(:attributes, Dict(\"style\"=>\"text-align:right;width:18%\"))), 2), WebIO.Node{WebIO.DOM}(WebIO.DOM(:html, :div), Any[WebIO.Node{WebIO.DOM}(WebIO.DOM(:html, :input), Any[], Dict{Any,Any}(Pair{Any,Any}(:max, 16),Pair{Any,Any}(:style, Dict{Any,Any}()),Pair{Any,Any}(:attributes, Dict{Any,Any}(Pair{Any,Any}(:type, \"range\"),Pair{Any,Any}(Symbol(\"data-bind\"), \"numericValue: value, valueUpdate: 'input', event: {change : function () {this.changes(this.changes()+1)}}\"))),Pair{Any,Any}(:step, 5),Pair{Any,Any}(:className, \"slider slider is-fullwidth\"),Pair{Any,Any}(:min, 1)), 0)], Dict{Any,Any}(Pair{Any,Any}(:attributes, Dict(\"style\"=>\"flex-grow:1; margin: 0 2%\"))), 1), WebIO.Node{WebIO.DOM}(WebIO.DOM(:html, :div), Any[WebIO.Node{WebIO.DOM}(WebIO.DOM(:html, :p), Any[], Dict{Symbol,Any}(Pair{Symbol,Any}(:attributes, Dict(\"data-bind\"=>\"text: displayedvalue\"))), 0)], Dict{Any,Any}(Pair{Any,Any}(:attributes, Dict(\"style\"=>\"width:18%\"))), 1)], Dict{Any,Any}(Pair{Any,Any}(:attributes, Dict(\"style\"=>\"display:flex; justify-content:center; align-items:center;\"))), 7), Dict{String,Tuple{Observables.Observable,Union{Bool, Void}}}(Pair{String,Tuple{Observables.Observable,Union{Bool, Void}}}(\"changes\", (Observables.Observable{Int64}(\"ob_02\", 0, Any[WebIO.SyncCallback(WebIO.Scope(#= circular reference @-7 =#), WebIO.SyncCallback(WebIO.Scope(#= circular reference @-8 =#), WebIO.#37))]), nothing)),Pair{String,Tuple{Observables.Observable,Union{Bool, Void}}}(\"value\", (Observables.Observable{Int64}(\"ob_01\", 6, Any[WebIO.SyncCallback(WebIO.Scope(#= circular reference @-7 =#), WebIO.SyncCallback(WebIO.Scope(#= circular reference @-8 =#), WebIO.#37)), Observables.g]), nothing))), Set{String}(), nothing, Any[\"knockout\"=>\"/Users/luismartinezrojas/.julia/v0.6/Knockout/src/../assets/knockout.js\", \"knockout_punches\"=>\"/Users/luismartinezrojas/.julia/v0.6/Knockout/src/../assets/knockout_punches.js\", \"/Users/luismartinezrojas/.julia/v0.6/InteractBase/src/../assets/all.js\", \"/Users/luismartinezrojas/.julia/v0.6/InteractBase/src/../assets/style.css\", \"/Users/luismartinezrojas/.julia/v0.6/InteractBulma/src/../assets/main.css\"], Dict{Any,Any}(Pair{Any,Any}(\"_promises\", Dict{Any,Any}(Pair{Any,Any}(\"importsLoaded\", Any[WebIO.JSString(\"function (ko, koPunches) {\\n    ko.punches.enableAll();\\n    ko.bindingHandlers.numericValue = {\\n        init : function(element, valueAccessor, allBindings, data, context) {\\n            var stringified = ko.observable(ko.unwrap(valueAccessor()));\\n            stringified.subscribe(function(value) {\\n                var val = parseFloat(value);\\n                if (!isNaN(val)) {\\n                    valueAccessor()(val);\\n                }\\n            })\\n            valueAccessor().subscribe(function(value) {\\n                var str = JSON.stringify(value);\\n                if ((str == \\\"0\\\") && ([\\\"-0\\\", \\\"-0.\\\"].indexOf(stringified()) >= 0))\\n                     return;\\n                 if ([\\\"null\\\", \\\"\\\"].indexOf(str) >= 0)\\n                     return;\\n                stringified(str);\\n            })\\n            ko.applyBindingsToNode(element, { value: stringified, valueUpdate: allBindings.get('valueUpdate')}, context);\\n        }\\n    };\\n    var json_data = JSON.parse(\\\"{\\\\\\\"changes\\\\\\\":0,\\\\\\\"value\\\\\\\":6}\\\");\\n    var self = this;\\n    function AppViewModel() {\\n        for (var key in json_data) {\\n            var el = json_data[key];\\n            this[key] = Array.isArray(el) ? ko.observableArray(el) : ko.observable(el);\\n        }\\n        \\n        [this[\\\"displayedvalue\\\"]=ko.computed(function () {return this.value();},this)]\\n        [this[\\\"changes\\\"].subscribe((function (val){!(this.valueFromJulia[\\\"changes\\\"]) ? (WebIO.setval({\\\"name\\\":\\\"changes\\\",\\\"scope\\\":\\\"knockout-component-167081c7-3cb7-4bcd-8cd6-394fe5740149\\\",\\\"id\\\":\\\"ob_02\\\",\\\"type\\\":\\\"observable\\\"},val)) : undefined; return this.valueFromJulia[\\\"changes\\\"]=false}),self),this[\\\"value\\\"].subscribe((function (val){!(this.valueFromJulia[\\\"value\\\"]) ? (WebIO.setval({\\\"name\\\":\\\"value\\\",\\\"scope\\\":\\\"knockout-component-167081c7-3cb7-4bcd-8cd6-394fe5740149\\\",\\\"id\\\":\\\"ob_01\\\",\\\"type\\\":\\\"observable\\\"},val)) : undefined; return this.valueFromJulia[\\\"value\\\"]=false}),self)]\\n        \\n    }\\n    self.model = new AppViewModel();\\n    self.valueFromJulia = {};\\n    for (var key in json_data) {\\n        self.valueFromJulia[key] = false;\\n    }\\n    ko.applyBindings(self.model, self.dom);\\n}\\n\")]))),Pair{Any,Any}(\"changes\", Any[WebIO.JSString(\"(function (val){return (val!=this.model[\\\"changes\\\"]()) ? (this.valueFromJulia[\\\"changes\\\"]=true, this.model[\\\"changes\\\"](val)) : undefined})\")]),Pair{Any,Any}(\"value\", Any[WebIO.JSString(\"(function (val){return (val!=this.model[\\\"value\\\"]()) ? (this.valueFromJulia[\\\"value\\\"]=true, this.model[\\\"value\\\"](val)) : undefined})\")])), WebIO.ConnectionPool(Channel{Any}(sz_max:9223372036854775807,sz_curr:3), Set{WebIO.AbstractConnection}(), Channel{WebIO.AbstractConnection}(sz_max:32,sz_curr:0))), Widgets.#4, Base.#55)\n",
       "  Observables.Observable{Any}(\"ob_05\", WebIO.Node{WebIO.DOM}(WebIO.DOM(:html, :div), Any[Plot{Plots.GRBackend() n=12}], Dict{Any,Any}(Pair{Any,Any}(:attributes, Dict(\"style\"=>\"display:flex; justify-content:center; align-items:center;\"))), 1), Any[]))"
      ]
     },
     "execution_count": 4,
     "metadata": {},
     "output_type": "execute_result"
    }
   ],
   "source": [
    "@manipulate for n = 1:5:length(v)\n",
    "    p=plot(leg=false)\n",
    "    f(x) = x^2\n",
    "    df(x) = 2x \n",
    "    for i in 1:n\n",
    "        p = plot!([v[i], v[i]], [0, f(v[i])],m='o')\n",
    "        p = plot!([v[i], v[i+1]], [f(v[i]), 0],m='o')\n",
    "    end\n",
    "    p\n",
    "end\n",
    "    "
   ]
  },
  {
   "cell_type": "markdown",
   "metadata": {},
   "source": [
    "(iii) Aplica el método de Newton para encontrar raíces de distintas funciones. ¿Qué ocurre si empiezas con distintas condiciones iniciales?\n",
    "\n",
    "Dependiendo de la condicion inicial es la raiz (cuando tiene mas de una) que encuentra"
   ]
  },
  {
   "cell_type": "code",
   "execution_count": 5,
   "metadata": {},
   "outputs": [
    {
     "data": {
      "text/plain": [
       "(-2.000000000000002, Any[-2.5, -2.05, -2.00061, -2.0, -2.0])"
      ]
     },
     "execution_count": 5,
     "metadata": {},
     "output_type": "execute_result"
    },
    {
     "name": "stderr",
     "output_type": "stream",
     "text": [
      "\u001b[1m\u001b[33mWARNING: \u001b[39m\u001b[22m\u001b[33mSkipped marker arg o.\u001b[39m\n",
      "\u001b[1m\u001b[33mWARNING: \u001b[39m\u001b[22m\u001b[33mSkipped marker arg o.\u001b[39m\n",
      "\u001b[1m\u001b[33mWARNING: \u001b[39m\u001b[22m\u001b[33mSkipped marker arg o.\u001b[39m\n",
      "\u001b[1m\u001b[33mWARNING: \u001b[39m\u001b[22m\u001b[33mSkipped marker arg o.\u001b[39m\n",
      "\u001b[1m\u001b[33mWARNING: \u001b[39m\u001b[22m\u001b[33mSkipped marker arg o.\u001b[39m\n",
      "\u001b[1m\u001b[33mWARNING: \u001b[39m\u001b[22m\u001b[33mSkipped marker arg o.\u001b[39m\n",
      "\u001b[1m\u001b[33mWARNING: \u001b[39m\u001b[22m\u001b[33mSkipped marker arg o.\u001b[39m\n",
      "\u001b[1m\u001b[33mWARNING: \u001b[39m\u001b[22m\u001b[33mSkipped marker arg o.\u001b[39m\n",
      "\u001b[1m\u001b[33mWARNING: \u001b[39m\u001b[22m\u001b[33mSkipped marker arg o.\u001b[39m\n",
      "\u001b[1m\u001b[33mWARNING: \u001b[39m\u001b[22m\u001b[33mSkipped marker arg o.\u001b[39m\n"
     ]
    }
   ],
   "source": [
    "newton(x->x^2-4,x->2*x,-4)"
   ]
  },
  {
   "cell_type": "code",
   "execution_count": 6,
   "metadata": {},
   "outputs": [
    {
     "data": {
      "text/plain": [
       "(2.000000000000002, Any[2.5, 2.05, 2.00061, 2.0, 2.0])"
      ]
     },
     "execution_count": 6,
     "metadata": {},
     "output_type": "execute_result"
    }
   ],
   "source": [
    "newton(x->x^2-4,x->2*x,4)"
   ]
  },
  {
   "cell_type": "code",
   "execution_count": 7,
   "metadata": {},
   "outputs": [
    {
     "data": {
      "text/plain": [
       "biseccion (generic function with 1 method)"
      ]
     },
     "execution_count": 7,
     "metadata": {},
     "output_type": "execute_result"
    }
   ],
   "source": [
    "function punto_medio(a,b,err)#pedimos un margen de error para obtener un punto medio mas certero\n",
    "   s=1\n",
    "    d1=0\n",
    "    d2=0\n",
    "    m=0\n",
    "    while err<s\n",
    "        m=(a+b)/2\n",
    "        d1=norm(a-m) \n",
    "        d2=norm(b-m)\n",
    "        s=norm(d1-d2)\n",
    "    end\n",
    "    return m\n",
    "end\n",
    "function biseccion(f,a,b,err)\n",
    "    if f(a)*f(b)>=0\n",
    "        return error #nos regresa error cuando las condiciones iniciales estan mal\n",
    "    end\n",
    "    iterados=[]\n",
    "    c=punto_medio(a,b,err)\n",
    "    if f(c)==0\n",
    "         print(\"el punto medio es la raiz\") #con las condiciones iniciales el primer punto medio \n",
    "        return c   #es la raiz\n",
    "    \n",
    "    else \n",
    "    while norm(f(c))>err\n",
    "        if f(a)*f(c)<0 #tienen signos opuestos\n",
    "            b=c   #a,b=a,c\n",
    "            else \n",
    "            a=c     #a,b=c,b\n",
    "        end\n",
    "        c=punto_medio(a,b,err)\n",
    "        push!(iterados,c)\n",
    "    end\n",
    "    return c, iterados #iv regresa los iterados en forma de vector\n",
    "end\n",
    "end"
   ]
  },
  {
   "cell_type": "markdown",
   "metadata": {},
   "source": [
    "#### Ejercicio 4"
   ]
  },
  {
   "cell_type": "markdown",
   "metadata": {},
   "source": [
    "¿Qué tan rápido converge el método cuando esté cerca de una raíz? Corre el algoritmo utilizando `BigFloat`s para averiguarlo y graficar la convergencia. ¿El método de Newton es mejor que bisección? ¿Por qué (no)?\n",
    "\n"
   ]
  },
  {
   "cell_type": "code",
   "execution_count": 8,
   "metadata": {},
   "outputs": [
    {
     "name": "stderr",
     "output_type": "stream",
     "text": [
      "\u001b[1m\u001b[33mWARNING: \u001b[39m\u001b[22m\u001b[33mSkipped marker arg o.\u001b[39m\n",
      "\u001b[1m\u001b[33mWARNING: \u001b[39m\u001b[22m\u001b[33mSkipped marker arg o.\u001b[39m\n"
     ]
    },
    {
     "data": {
      "image/svg+xml": [
       "<?xml version=\"1.0\" encoding=\"utf-8\"?>\n",
       "<svg xmlns=\"http://www.w3.org/2000/svg\" xmlns:xlink=\"http://www.w3.org/1999/xlink\" width=\"600\" height=\"400\" viewBox=\"0 0 600 400\">\n",
       "<defs>\n",
       "  <clipPath id=\"clip6000\">\n",
       "    <rect x=\"0\" y=\"0\" width=\"600\" height=\"400\"/>\n",
       "  </clipPath>\n",
       "</defs>\n",
       "<polygon clip-path=\"url(#clip6000)\" points=\"\n",
       "0,400 600,400 600,0 0,0 \n",
       "  \" fill=\"#ffffff\" fill-opacity=\"1\"/>\n",
       "<defs>\n",
       "  <clipPath id=\"clip6001\">\n",
       "    <rect x=\"120\" y=\"0\" width=\"421\" height=\"400\"/>\n",
       "  </clipPath>\n",
       "</defs>\n",
       "<polygon clip-path=\"url(#clip6000)\" points=\"\n",
       "69.8146,360.121 580.315,360.121 580.315,11.811 69.8146,11.811 \n",
       "  \" fill=\"#ffffff\" fill-opacity=\"1\"/>\n",
       "<defs>\n",
       "  <clipPath id=\"clip6002\">\n",
       "    <rect x=\"69\" y=\"11\" width=\"512\" height=\"349\"/>\n",
       "  </clipPath>\n",
       "</defs>\n",
       "<polyline clip-path=\"url(#clip6002)\" style=\"stroke:#000000; stroke-width:0.5; stroke-opacity:0.1; fill:none\" points=\"\n",
       "  148.477,360.121 148.477,11.811 \n",
       "  \"/>\n",
       "<polyline clip-path=\"url(#clip6002)\" style=\"stroke:#000000; stroke-width:0.5; stroke-opacity:0.1; fill:none\" points=\"\n",
       "  244.797,360.121 244.797,11.811 \n",
       "  \"/>\n",
       "<polyline clip-path=\"url(#clip6002)\" style=\"stroke:#000000; stroke-width:0.5; stroke-opacity:0.1; fill:none\" points=\"\n",
       "  341.118,360.121 341.118,11.811 \n",
       "  \"/>\n",
       "<polyline clip-path=\"url(#clip6002)\" style=\"stroke:#000000; stroke-width:0.5; stroke-opacity:0.1; fill:none\" points=\"\n",
       "  437.439,360.121 437.439,11.811 \n",
       "  \"/>\n",
       "<polyline clip-path=\"url(#clip6002)\" style=\"stroke:#000000; stroke-width:0.5; stroke-opacity:0.1; fill:none\" points=\"\n",
       "  533.76,360.121 533.76,11.811 \n",
       "  \"/>\n",
       "<polyline clip-path=\"url(#clip6002)\" style=\"stroke:#000000; stroke-width:0.5; stroke-opacity:0.1; fill:none\" points=\"\n",
       "  69.8146,333.982 580.315,333.982 \n",
       "  \"/>\n",
       "<polyline clip-path=\"url(#clip6002)\" style=\"stroke:#000000; stroke-width:0.5; stroke-opacity:0.1; fill:none\" points=\"\n",
       "  69.8146,268.263 580.315,268.263 \n",
       "  \"/>\n",
       "<polyline clip-path=\"url(#clip6002)\" style=\"stroke:#000000; stroke-width:0.5; stroke-opacity:0.1; fill:none\" points=\"\n",
       "  69.8146,202.544 580.315,202.544 \n",
       "  \"/>\n",
       "<polyline clip-path=\"url(#clip6002)\" style=\"stroke:#000000; stroke-width:0.5; stroke-opacity:0.1; fill:none\" points=\"\n",
       "  69.8146,136.825 580.315,136.825 \n",
       "  \"/>\n",
       "<polyline clip-path=\"url(#clip6002)\" style=\"stroke:#000000; stroke-width:0.5; stroke-opacity:0.1; fill:none\" points=\"\n",
       "  69.8146,71.1064 580.315,71.1064 \n",
       "  \"/>\n",
       "<polyline clip-path=\"url(#clip6000)\" style=\"stroke:#000000; stroke-width:1; stroke-opacity:1; fill:none\" points=\"\n",
       "  69.8146,360.121 580.315,360.121 \n",
       "  \"/>\n",
       "<polyline clip-path=\"url(#clip6000)\" style=\"stroke:#000000; stroke-width:1; stroke-opacity:1; fill:none\" points=\"\n",
       "  69.8146,360.121 69.8146,11.811 \n",
       "  \"/>\n",
       "<polyline clip-path=\"url(#clip6000)\" style=\"stroke:#000000; stroke-width:1; stroke-opacity:1; fill:none\" points=\"\n",
       "  148.477,360.121 148.477,354.896 \n",
       "  \"/>\n",
       "<polyline clip-path=\"url(#clip6000)\" style=\"stroke:#000000; stroke-width:1; stroke-opacity:1; fill:none\" points=\"\n",
       "  244.797,360.121 244.797,354.896 \n",
       "  \"/>\n",
       "<polyline clip-path=\"url(#clip6000)\" style=\"stroke:#000000; stroke-width:1; stroke-opacity:1; fill:none\" points=\"\n",
       "  341.118,360.121 341.118,354.896 \n",
       "  \"/>\n",
       "<polyline clip-path=\"url(#clip6000)\" style=\"stroke:#000000; stroke-width:1; stroke-opacity:1; fill:none\" points=\"\n",
       "  437.439,360.121 437.439,354.896 \n",
       "  \"/>\n",
       "<polyline clip-path=\"url(#clip6000)\" style=\"stroke:#000000; stroke-width:1; stroke-opacity:1; fill:none\" points=\"\n",
       "  533.76,360.121 533.76,354.896 \n",
       "  \"/>\n",
       "<polyline clip-path=\"url(#clip6000)\" style=\"stroke:#000000; stroke-width:1; stroke-opacity:1; fill:none\" points=\"\n",
       "  69.8146,333.982 77.4722,333.982 \n",
       "  \"/>\n",
       "<polyline clip-path=\"url(#clip6000)\" style=\"stroke:#000000; stroke-width:1; stroke-opacity:1; fill:none\" points=\"\n",
       "  69.8146,268.263 77.4722,268.263 \n",
       "  \"/>\n",
       "<polyline clip-path=\"url(#clip6000)\" style=\"stroke:#000000; stroke-width:1; stroke-opacity:1; fill:none\" points=\"\n",
       "  69.8146,202.544 77.4722,202.544 \n",
       "  \"/>\n",
       "<polyline clip-path=\"url(#clip6000)\" style=\"stroke:#000000; stroke-width:1; stroke-opacity:1; fill:none\" points=\"\n",
       "  69.8146,136.825 77.4722,136.825 \n",
       "  \"/>\n",
       "<polyline clip-path=\"url(#clip6000)\" style=\"stroke:#000000; stroke-width:1; stroke-opacity:1; fill:none\" points=\"\n",
       "  69.8146,71.1064 77.4722,71.1064 \n",
       "  \"/>\n",
       "<g clip-path=\"url(#clip6000)\">\n",
       "<text style=\"fill:#000000; fill-opacity:1; font-family:Arial,Helvetica Neue,Helvetica,sans-serif; font-size:12; text-anchor:middle;\" transform=\"rotate(0, 148.477, 373.921)\" x=\"148.477\" y=\"373.921\">3</text>\n",
       "</g>\n",
       "<g clip-path=\"url(#clip6000)\">\n",
       "<text style=\"fill:#000000; fill-opacity:1; font-family:Arial,Helvetica Neue,Helvetica,sans-serif; font-size:12; text-anchor:middle;\" transform=\"rotate(0, 244.797, 373.921)\" x=\"244.797\" y=\"373.921\">6</text>\n",
       "</g>\n",
       "<g clip-path=\"url(#clip6000)\">\n",
       "<text style=\"fill:#000000; fill-opacity:1; font-family:Arial,Helvetica Neue,Helvetica,sans-serif; font-size:12; text-anchor:middle;\" transform=\"rotate(0, 341.118, 373.921)\" x=\"341.118\" y=\"373.921\">9</text>\n",
       "</g>\n",
       "<g clip-path=\"url(#clip6000)\">\n",
       "<text style=\"fill:#000000; fill-opacity:1; font-family:Arial,Helvetica Neue,Helvetica,sans-serif; font-size:12; text-anchor:middle;\" transform=\"rotate(0, 437.439, 373.921)\" x=\"437.439\" y=\"373.921\">12</text>\n",
       "</g>\n",
       "<g clip-path=\"url(#clip6000)\">\n",
       "<text style=\"fill:#000000; fill-opacity:1; font-family:Arial,Helvetica Neue,Helvetica,sans-serif; font-size:12; text-anchor:middle;\" transform=\"rotate(0, 533.76, 373.921)\" x=\"533.76\" y=\"373.921\">15</text>\n",
       "</g>\n",
       "<g clip-path=\"url(#clip6000)\">\n",
       "<text style=\"fill:#000000; fill-opacity:1; font-family:Arial,Helvetica Neue,Helvetica,sans-serif; font-size:12; text-anchor:end;\" transform=\"rotate(0, 63.8146, 338.482)\" x=\"63.8146\" y=\"338.482\">-0.20</text>\n",
       "</g>\n",
       "<g clip-path=\"url(#clip6000)\">\n",
       "<text style=\"fill:#000000; fill-opacity:1; font-family:Arial,Helvetica Neue,Helvetica,sans-serif; font-size:12; text-anchor:end;\" transform=\"rotate(0, 63.8146, 272.763)\" x=\"63.8146\" y=\"272.763\">-0.15</text>\n",
       "</g>\n",
       "<g clip-path=\"url(#clip6000)\">\n",
       "<text style=\"fill:#000000; fill-opacity:1; font-family:Arial,Helvetica Neue,Helvetica,sans-serif; font-size:12; text-anchor:end;\" transform=\"rotate(0, 63.8146, 207.044)\" x=\"63.8146\" y=\"207.044\">-0.10</text>\n",
       "</g>\n",
       "<g clip-path=\"url(#clip6000)\">\n",
       "<text style=\"fill:#000000; fill-opacity:1; font-family:Arial,Helvetica Neue,Helvetica,sans-serif; font-size:12; text-anchor:end;\" transform=\"rotate(0, 63.8146, 141.325)\" x=\"63.8146\" y=\"141.325\">-0.05</text>\n",
       "</g>\n",
       "<g clip-path=\"url(#clip6000)\">\n",
       "<text style=\"fill:#000000; fill-opacity:1; font-family:Arial,Helvetica Neue,Helvetica,sans-serif; font-size:12; text-anchor:end;\" transform=\"rotate(0, 63.8146, 75.6064)\" x=\"63.8146\" y=\"75.6064\">0.00</text>\n",
       "</g>\n",
       "<g clip-path=\"url(#clip6000)\">\n",
       "<text style=\"fill:#000000; fill-opacity:1; font-family:Arial,Helvetica Neue,Helvetica,sans-serif; font-size:16; text-anchor:middle;\" transform=\"rotate(0, 325.065, 397.6)\" x=\"325.065\" y=\"397.6\">Número de pasos</text>\n",
       "</g>\n",
       "<g clip-path=\"url(#clip6000)\">\n",
       "<text style=\"fill:#000000; fill-opacity:1; font-family:Arial,Helvetica Neue,Helvetica,sans-serif; font-size:16; text-anchor:middle;\" transform=\"rotate(-90, 14.4, 185.966)\" x=\"14.4\" y=\"185.966\">Distancia</text>\n",
       "</g>\n",
       "<polyline clip-path=\"url(#clip6002)\" style=\"stroke:#009af9; stroke-width:1; stroke-opacity:1; fill:none\" points=\"\n",
       "  84.2628,81.8867 116.37,71.1061 148.477,71.1064 \n",
       "  \"/>\n",
       "<circle clip-path=\"url(#clip6002)\" style=\"fill:#000000; stroke:none; fill-opacity:1\" cx=\"84.2628\" cy=\"81.8867\" r=\"4\"/>\n",
       "<circle clip-path=\"url(#clip6002)\" style=\"fill:#009af9; stroke:none; fill-opacity:1\" cx=\"84.2628\" cy=\"81.8867\" r=\"3\"/>\n",
       "<circle clip-path=\"url(#clip6002)\" style=\"fill:#000000; stroke:none; fill-opacity:1\" cx=\"116.37\" cy=\"71.1061\" r=\"4\"/>\n",
       "<circle clip-path=\"url(#clip6002)\" style=\"fill:#009af9; stroke:none; fill-opacity:1\" cx=\"116.37\" cy=\"71.1061\" r=\"3\"/>\n",
       "<circle clip-path=\"url(#clip6002)\" style=\"fill:#000000; stroke:none; fill-opacity:1\" cx=\"148.477\" cy=\"71.1064\" r=\"4\"/>\n",
       "<circle clip-path=\"url(#clip6002)\" style=\"fill:#009af9; stroke:none; fill-opacity:1\" cx=\"148.477\" cy=\"71.1064\" r=\"3\"/>\n",
       "<polyline clip-path=\"url(#clip6002)\" style=\"stroke:#e26f46; stroke-width:1; stroke-opacity:1; fill:none\" points=\"\n",
       "  84.2628,350.263 116.37,21.6688 148.477,185.966 180.584,103.817 212.691,62.7431 244.797,83.2802 276.904,73.0117 309.011,67.8774 341.118,70.4445 373.225,71.7281 \n",
       "  405.332,71.0863 437.439,71.4072 469.546,71.2467 501.653,71.1665 533.76,71.1264 565.867,71.1064 \n",
       "  \"/>\n",
       "<circle clip-path=\"url(#clip6002)\" style=\"fill:#000000; stroke:none; fill-opacity:1\" cx=\"84.2628\" cy=\"350.263\" r=\"4\"/>\n",
       "<circle clip-path=\"url(#clip6002)\" style=\"fill:#e26f46; stroke:none; fill-opacity:1\" cx=\"84.2628\" cy=\"350.263\" r=\"3\"/>\n",
       "<circle clip-path=\"url(#clip6002)\" style=\"fill:#000000; stroke:none; fill-opacity:1\" cx=\"116.37\" cy=\"21.6688\" r=\"4\"/>\n",
       "<circle clip-path=\"url(#clip6002)\" style=\"fill:#e26f46; stroke:none; fill-opacity:1\" cx=\"116.37\" cy=\"21.6688\" r=\"3\"/>\n",
       "<circle clip-path=\"url(#clip6002)\" style=\"fill:#000000; stroke:none; fill-opacity:1\" cx=\"148.477\" cy=\"185.966\" r=\"4\"/>\n",
       "<circle clip-path=\"url(#clip6002)\" style=\"fill:#e26f46; stroke:none; fill-opacity:1\" cx=\"148.477\" cy=\"185.966\" r=\"3\"/>\n",
       "<circle clip-path=\"url(#clip6002)\" style=\"fill:#000000; stroke:none; fill-opacity:1\" cx=\"180.584\" cy=\"103.817\" r=\"4\"/>\n",
       "<circle clip-path=\"url(#clip6002)\" style=\"fill:#e26f46; stroke:none; fill-opacity:1\" cx=\"180.584\" cy=\"103.817\" r=\"3\"/>\n",
       "<circle clip-path=\"url(#clip6002)\" style=\"fill:#000000; stroke:none; fill-opacity:1\" cx=\"212.691\" cy=\"62.7431\" r=\"4\"/>\n",
       "<circle clip-path=\"url(#clip6002)\" style=\"fill:#e26f46; stroke:none; fill-opacity:1\" cx=\"212.691\" cy=\"62.7431\" r=\"3\"/>\n",
       "<circle clip-path=\"url(#clip6002)\" style=\"fill:#000000; stroke:none; fill-opacity:1\" cx=\"244.797\" cy=\"83.2802\" r=\"4\"/>\n",
       "<circle clip-path=\"url(#clip6002)\" style=\"fill:#e26f46; stroke:none; fill-opacity:1\" cx=\"244.797\" cy=\"83.2802\" r=\"3\"/>\n",
       "<circle clip-path=\"url(#clip6002)\" style=\"fill:#000000; stroke:none; fill-opacity:1\" cx=\"276.904\" cy=\"73.0117\" r=\"4\"/>\n",
       "<circle clip-path=\"url(#clip6002)\" style=\"fill:#e26f46; stroke:none; fill-opacity:1\" cx=\"276.904\" cy=\"73.0117\" r=\"3\"/>\n",
       "<circle clip-path=\"url(#clip6002)\" style=\"fill:#000000; stroke:none; fill-opacity:1\" cx=\"309.011\" cy=\"67.8774\" r=\"4\"/>\n",
       "<circle clip-path=\"url(#clip6002)\" style=\"fill:#e26f46; stroke:none; fill-opacity:1\" cx=\"309.011\" cy=\"67.8774\" r=\"3\"/>\n",
       "<circle clip-path=\"url(#clip6002)\" style=\"fill:#000000; stroke:none; fill-opacity:1\" cx=\"341.118\" cy=\"70.4445\" r=\"4\"/>\n",
       "<circle clip-path=\"url(#clip6002)\" style=\"fill:#e26f46; stroke:none; fill-opacity:1\" cx=\"341.118\" cy=\"70.4445\" r=\"3\"/>\n",
       "<circle clip-path=\"url(#clip6002)\" style=\"fill:#000000; stroke:none; fill-opacity:1\" cx=\"373.225\" cy=\"71.7281\" r=\"4\"/>\n",
       "<circle clip-path=\"url(#clip6002)\" style=\"fill:#e26f46; stroke:none; fill-opacity:1\" cx=\"373.225\" cy=\"71.7281\" r=\"3\"/>\n",
       "<circle clip-path=\"url(#clip6002)\" style=\"fill:#000000; stroke:none; fill-opacity:1\" cx=\"405.332\" cy=\"71.0863\" r=\"4\"/>\n",
       "<circle clip-path=\"url(#clip6002)\" style=\"fill:#e26f46; stroke:none; fill-opacity:1\" cx=\"405.332\" cy=\"71.0863\" r=\"3\"/>\n",
       "<circle clip-path=\"url(#clip6002)\" style=\"fill:#000000; stroke:none; fill-opacity:1\" cx=\"437.439\" cy=\"71.4072\" r=\"4\"/>\n",
       "<circle clip-path=\"url(#clip6002)\" style=\"fill:#e26f46; stroke:none; fill-opacity:1\" cx=\"437.439\" cy=\"71.4072\" r=\"3\"/>\n",
       "<circle clip-path=\"url(#clip6002)\" style=\"fill:#000000; stroke:none; fill-opacity:1\" cx=\"469.546\" cy=\"71.2467\" r=\"4\"/>\n",
       "<circle clip-path=\"url(#clip6002)\" style=\"fill:#e26f46; stroke:none; fill-opacity:1\" cx=\"469.546\" cy=\"71.2467\" r=\"3\"/>\n",
       "<circle clip-path=\"url(#clip6002)\" style=\"fill:#000000; stroke:none; fill-opacity:1\" cx=\"501.653\" cy=\"71.1665\" r=\"4\"/>\n",
       "<circle clip-path=\"url(#clip6002)\" style=\"fill:#e26f46; stroke:none; fill-opacity:1\" cx=\"501.653\" cy=\"71.1665\" r=\"3\"/>\n",
       "<circle clip-path=\"url(#clip6002)\" style=\"fill:#000000; stroke:none; fill-opacity:1\" cx=\"533.76\" cy=\"71.1264\" r=\"4\"/>\n",
       "<circle clip-path=\"url(#clip6002)\" style=\"fill:#e26f46; stroke:none; fill-opacity:1\" cx=\"533.76\" cy=\"71.1264\" r=\"3\"/>\n",
       "<circle clip-path=\"url(#clip6002)\" style=\"fill:#000000; stroke:none; fill-opacity:1\" cx=\"565.867\" cy=\"71.1064\" r=\"4\"/>\n",
       "<circle clip-path=\"url(#clip6002)\" style=\"fill:#e26f46; stroke:none; fill-opacity:1\" cx=\"565.867\" cy=\"71.1064\" r=\"3\"/>\n",
       "<polygon clip-path=\"url(#clip6000)\" points=\"\n",
       "452.16,78.051 562.315,78.051 562.315,32.691 452.16,32.691 \n",
       "  \" fill=\"#ffffff\" fill-opacity=\"1\"/>\n",
       "<polyline clip-path=\"url(#clip6000)\" style=\"stroke:#000000; stroke-width:1; stroke-opacity:1; fill:none\" points=\"\n",
       "  452.16,78.051 562.315,78.051 562.315,32.691 452.16,32.691 452.16,78.051 \n",
       "  \"/>\n",
       "<polyline clip-path=\"url(#clip6000)\" style=\"stroke:#009af9; stroke-width:1; stroke-opacity:1; fill:none\" points=\"\n",
       "  458.16,47.811 494.16,47.811 \n",
       "  \"/>\n",
       "<circle clip-path=\"url(#clip6000)\" style=\"fill:#000000; stroke:none; fill-opacity:1\" cx=\"479.16\" cy=\"47.811\" r=\"6\"/>\n",
       "<circle clip-path=\"url(#clip6000)\" style=\"fill:#009af9; stroke:none; fill-opacity:1\" cx=\"479.16\" cy=\"47.811\" r=\"5\"/>\n",
       "<g clip-path=\"url(#clip6000)\">\n",
       "<text style=\"fill:#000000; fill-opacity:1; font-family:Arial,Helvetica Neue,Helvetica,sans-serif; font-size:12; text-anchor:start;\" transform=\"rotate(0, 500.16, 52.311)\" x=\"500.16\" y=\"52.311\">Newton</text>\n",
       "</g>\n",
       "<polyline clip-path=\"url(#clip6000)\" style=\"stroke:#e26f46; stroke-width:1; stroke-opacity:1; fill:none\" points=\"\n",
       "  458.16,62.931 494.16,62.931 \n",
       "  \"/>\n",
       "<circle clip-path=\"url(#clip6000)\" style=\"fill:#000000; stroke:none; fill-opacity:1\" cx=\"479.16\" cy=\"62.931\" r=\"6\"/>\n",
       "<circle clip-path=\"url(#clip6000)\" style=\"fill:#e26f46; stroke:none; fill-opacity:1\" cx=\"479.16\" cy=\"62.931\" r=\"5\"/>\n",
       "<g clip-path=\"url(#clip6000)\">\n",
       "<text style=\"fill:#000000; fill-opacity:1; font-family:Arial,Helvetica Neue,Helvetica,sans-serif; font-size:12; text-anchor:start;\" transform=\"rotate(0, 500.16, 67.431)\" x=\"500.16\" y=\"67.431\">biseccion</text>\n",
       "</g>\n",
       "</svg>\n"
      ]
     },
     "execution_count": 8,
     "metadata": {},
     "output_type": "execute_result"
    }
   ],
   "source": [
    "f(x)=cos(x)\n",
    "df(x)=-sin(x)\n",
    "raizb=BigFloat(biseccion(f,5,3,0.00001)[1])\n",
    "distanciab=[BigFloat(biseccion(f,5,3,0.00001)[2][i]-raizb) for i in 1:length(biseccion(f,5,3,0.00001)[2])]\n",
    "raizn = BigFloat(newton(f, df, 5)[1])\n",
    "distancian = [BigFloat(newton(f, df, 5)[2][i] - raizn) for i in 1:length(newton(f, df, 5)[2])]\n",
    "plot(distancian, m = \"o\", xlabel = \"Número de pasos\", ylabel = \"Distancia\", label = \"Newton\")\n",
    "plot!(distanciab, m = \"o\", xlabel = \"Número de pasos\", ylabel = \"Distancia\", label = \"biseccion\")\n"
   ]
  },
  {
   "cell_type": "markdown",
   "metadata": {},
   "source": [
    "Claramente el metodo de Newton converge más rapido"
   ]
  },
  {
   "cell_type": "markdown",
   "metadata": {},
   "source": [
    "#### Ejercicio 5"
   ]
  },
  {
   "cell_type": "markdown",
   "metadata": {},
   "source": [
    "Sin embargo, es posible que el método de Newton *no converja*, como sigue."
   ]
  },
  {
   "cell_type": "markdown",
   "metadata": {},
   "source": [
    "(i) El mismo código del método de Newton debería funcionar con números complejos. Utilízalo para encontrar raíces de la función $f(z) = z^3 -1$ **en el plano complejo**.\n",
    "[Nota que la parte imaginaria $i = \\sqrt{-1}$ se escribe como `im` en Julia. Hay funciones `real` e `imag` para extraer las partes reales e imaginarias de un número complejo.]"
   ]
  },
  {
   "cell_type": "code",
   "execution_count": 9,
   "metadata": {},
   "outputs": [
    {
     "data": {
      "text/plain": [
       "(1.0, Any[1.0])"
      ]
     },
     "execution_count": 9,
     "metadata": {},
     "output_type": "execute_result"
    }
   ],
   "source": [
    "fz(z) = z^3 - 1\n",
    "dfz(z) = 3*z^2\n",
    "newton(fz,dfz,1)"
   ]
  },
  {
   "cell_type": "code",
   "execution_count": 10,
   "metadata": {},
   "outputs": [
    {
     "data": {
      "text/plain": [
       "-0.5 + 0.8660254037844387im"
      ]
     },
     "execution_count": 10,
     "metadata": {},
     "output_type": "execute_result"
    }
   ],
   "source": [
    "a,b=newton(fz,dfz,im)\n",
    "a"
   ]
  },
  {
   "cell_type": "code",
   "execution_count": 11,
   "metadata": {},
   "outputs": [
    {
     "data": {
      "text/plain": [
       "-0.5 - 0.8660254037844387im"
      ]
     },
     "execution_count": 11,
     "metadata": {},
     "output_type": "execute_result"
    }
   ],
   "source": [
    "a1,b1=newton(fz,dfz,-im)\n",
    "a1"
   ]
  },
  {
   "cell_type": "markdown",
   "metadata": {},
   "source": [
    "si funciona para las imaginarias y poniendo distintas condiciones nos da las 3 raices, que comparando con el resultado de wolfram, es correcto"
   ]
  },
  {
   "cell_type": "markdown",
   "metadata": {},
   "source": [
    "(ii) Escribe una función que verifica si convergió después de un número dado de iterados. Si sí, regresa la parte imaginaria de la raíz a la cual convergió."
   ]
  },
  {
   "cell_type": "code",
   "execution_count": 12,
   "metadata": {},
   "outputs": [
    {
     "data": {
      "text/plain": [
       "verifica (generic function with 1 method)"
      ]
     },
     "execution_count": 12,
     "metadata": {},
     "output_type": "execute_result"
    }
   ],
   "source": [
    "function verifica(f,df,x0,n)\n",
    "    err=exp(-5)\n",
    "    ncontador=0\n",
    "    d=1\n",
    "    #err=0.00001\n",
    "    \n",
    "    a=newton(f,df,x0)[1]\n",
    "    while ncontador<n\n",
    "    \n",
    "        x = x0 - f(x0)/df(x0)\n",
    "    \n",
    "        x0=x\n",
    "        \n",
    "        ncontador=ncontador+1\n",
    "    end\n",
    "    if (norm(a-x0)<err)\n",
    "            println(\"si convergio en \\t \",n,\"\\t pasos\")\n",
    "            \n",
    "      return imag.(x0)  \n",
    "    else \n",
    "    println(\"no convergio en \\t\",n,\" \\t pasos\")\n",
    "end\n",
    "    \n",
    "end\n",
    "        \n",
    "        "
   ]
  },
  {
   "cell_type": "code",
   "execution_count": 13,
   "metadata": {},
   "outputs": [
    {
     "name": "stdout",
     "output_type": "stream",
     "text": [
      "si convergio en \t 10\t pasos\n"
     ]
    },
    {
     "data": {
      "text/plain": [
       "0.8660254037844387"
      ]
     },
     "execution_count": 13,
     "metadata": {},
     "output_type": "execute_result"
    }
   ],
   "source": [
    "d=verifica(fz,dfz,im,10)\n"
   ]
  },
  {
   "cell_type": "code",
   "execution_count": 14,
   "metadata": {},
   "outputs": [
    {
     "data": {
      "text/plain": [
       "0.0"
      ]
     },
     "execution_count": 14,
     "metadata": {},
     "output_type": "execute_result"
    }
   ],
   "source": [
    "verifica(x->x^2,x->2x,2,10)"
   ]
  },
  {
   "cell_type": "code",
   "execution_count": 15,
   "metadata": {},
   "outputs": [
    {
     "name": "stdout",
     "output_type": "stream",
     "text": [
      "si convergio en \t 10\t pasos\n"
     ]
    }
   ],
   "source": [
    "verifica(x->x^2,x->2x,2,5)"
   ]
  },
  {
   "cell_type": "markdown",
   "metadata": {},
   "source": [
    "(iii) Haz el cálculo para una malla de condiciones iniciales en el plano complejo alrededor de $0$. Dibuja la matriz correspondiente. ¿Qué observas? [Pista: Puedes utilizar una comprehensión de arreglo 2-dimensional.]"
   ]
  },
  {
   "cell_type": "code",
   "execution_count": 16,
   "metadata": {},
   "outputs": [
    {
     "data": {
      "text/plain": [
       "verifica2 (generic function with 1 method)"
      ]
     },
     "execution_count": 16,
     "metadata": {},
     "output_type": "execute_result"
    },
    {
     "name": "stdout",
     "output_type": "stream",
     "text": [
      "no convergio en \t5 \t pasos\n"
     ]
    }
   ],
   "source": [
    "function verifica2(f,df,x0,n)\n",
    "    err=exp(-5)\n",
    "    ncontador=0\n",
    "    d=1\n",
    "    #err=0.00001\n",
    "    \n",
    "    a=newton(f,df,x0)[1]\n",
    "    while ncontador<n\n",
    "    \n",
    "        x = x0 - f(x0)/df(x0)\n",
    "    \n",
    "        x0=x\n",
    "        \n",
    "        ncontador=ncontador+1\n",
    "    end\n",
    "    if (norm(a-x0)<err)\n",
    "           # println(\"si convergio en \\t \",n,\"\\t pasos\")\n",
    "            \n",
    "      return imag.(x0)  \n",
    "    else \n",
    "    #println(\"no convergio en \\t\",n,\" \\t pasos\")\n",
    "end\n",
    "    \n",
    "end"
   ]
  },
  {
   "cell_type": "code",
   "execution_count": 20,
   "metadata": {},
   "outputs": [
    {
     "data": {
      "text/plain": [
       "mapa (generic function with 1 method)"
      ]
     },
     "execution_count": 20,
     "metadata": {},
     "output_type": "execute_result"
    }
   ],
   "source": [
    "function mapa(r,f,df,n)\n",
    "    m = zeros(n, n)\n",
    "    \n",
    "    dx = linspace(-r, r, n) \n",
    "    dy= linspace(-r, r, n) #hacemos el espacio\n",
    "\n",
    "    for i in 1:n\n",
    "       for j in 1:dx \n",
    "            m[i, j] = verifica2(f, df, dx[j] + im*dx[i], n)#aqui le damos parte imaginaria  \n",
    "        end\n",
    "    end\n",
    "        \n",
    "    plot(heatmap(dx, dy, m))\n",
    "   # return g\n",
    "\n",
    "    end"
   ]
  },
  {
   "cell_type": "code",
   "execution_count": 21,
   "metadata": {},
   "outputs": [
    {
     "ename": "LoadError",
     "evalue": "\u001b[91mMethodError: no method matching colon(::Int64, ::#dfz)\u001b[0m\nClosest candidates are:\n  colon(::T<:Real, ::Any, \u001b[91m::T<:Real\u001b[39m) where T<:Real at range.jl:47\n  colon(::A<:Real, ::Any, \u001b[91m::C<:Real\u001b[39m) where {A<:Real, C<:Real} at range.jl:14\n  colon(::T, ::Any, \u001b[91m::T\u001b[39m) where T at range.jl:46\n  ...\u001b[39m",
     "output_type": "error",
     "traceback": [
      "\u001b[91mMethodError: no method matching colon(::Int64, ::#dfz)\u001b[0m\nClosest candidates are:\n  colon(::T<:Real, ::Any, \u001b[91m::T<:Real\u001b[39m) where T<:Real at range.jl:47\n  colon(::A<:Real, ::Any, \u001b[91m::C<:Real\u001b[39m) where {A<:Real, C<:Real} at range.jl:14\n  colon(::T, ::Any, \u001b[91m::T\u001b[39m) where T at range.jl:46\n  ...\u001b[39m",
      "",
      "Stacktrace:",
      " [1] \u001b[1mmapa\u001b[22m\u001b[22m\u001b[1m(\u001b[22m\u001b[22m::Int64, ::Function, ::Function, ::Int64\u001b[1m)\u001b[22m\u001b[22m at \u001b[1m./In[20]:8\u001b[22m\u001b[22m"
     ]
    }
   ],
   "source": [
    "mapa(1,fz,dfz,100)"
   ]
  },
  {
   "cell_type": "markdown",
   "metadata": {},
   "source": [
    "#### Ejercicio 6\n",
    "\n",
    "Considera ahora cómo encontrar raíces de un sistema de ecuaciones, escrito en forma vectorial:\n",
    "\n",
    "$$\\mathbf{f}(\\mathbf{x}) = \\mathbf{0}.$$\n",
    "\n",
    "Repite un desarrollo siguiendo la pauta del ejercicio **1** en este contexto.\n",
    "¿Qué es lo que cambia? ¿Qué tipo de operación numérica necesitaríamos para llevar a cabo el método de Newton en este nuevo contexto? [No es necesario que lo implementes por el momento -- opcional.]"
   ]
  },
  {
   "cell_type": "markdown",
   "metadata": {
    "collapsed": true
   },
   "source": [
    "Como ahora estamos trabajando en $\\Re ^{n}\\rightarrow \\Re$ y tenemos que el método de newton es $\\mathbf{f}(\\vec{x}_{n+1} )=\\vec{x_{0}}-\\mathbf{f}(\\vec{x}_{n} )\\mathbf{D^{-1}(x)}$ donde est especie de derivada en varias, que, recordadno nuestras clases de cálculo este es la jacobiana inversa y como aún no sabemos invertir matrices creo no será necesario implementar este método.\\\\ Teniendo así nuestra expresion como:\\\\ $\\mathbf{f}(\\vec{x}_{n+1} )=\\vec{x_{0}}-\\mathbf{f}(\\vec{x}_{n} )\\mathbf{J^{-1}(x)}$ "
   ]
  },
  {
   "cell_type": "code",
   "execution_count": null,
   "metadata": {
    "collapsed": true
   },
   "outputs": [],
   "source": []
  }
 ],
 "metadata": {
  "kernelspec": {
   "display_name": "Julia 0.6.1",
   "language": "julia",
   "name": "julia-0.6"
  },
  "language_info": {
   "file_extension": ".jl",
   "mimetype": "application/julia",
   "name": "julia",
   "version": "0.6.4"
  },
  "toc": {
   "colors": {
    "hover_highlight": "#DAA520",
    "running_highlight": "#FF0000",
    "selected_highlight": "#FFD700"
   },
   "moveMenuLeft": true,
   "nav_menu": {
    "height": "29px",
    "width": "251px"
   },
   "navigate_menu": true,
   "number_sections": true,
   "sideBar": true,
   "threshold": "2",
   "toc_cell": false,
   "toc_section_display": "block",
   "toc_window_display": false
  }
 },
 "nbformat": 4,
 "nbformat_minor": 2
}
