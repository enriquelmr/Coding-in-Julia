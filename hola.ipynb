{
 "cells": [
  {
   "cell_type": "markdown",
   "metadata": {},
   "source": [
    "# Ecuaciones diferenciales ordinarias: el método de Euler"
   ]
  },
  {
   "cell_type": "markdown",
   "metadata": {},
   "source": [
    "Recordemos que una **ecuación diferencial ordinaria (EDO)** es (aproximadamente) una ecuación en la cual aparece una (o más) derivada(s) de una función, y para la cual queremos buscar la función que satisface esta relación.\n",
    "\n",
    "La EDO más simple no-trivial y físicamente relevante en una variable es \n",
    "\n",
    "$$\\dot{x} = -\\alpha \\, x. \\qquad (*)$$\n",
    "\n",
    "[Recordemos la notación $\\dot{x} := \\textstyle \\frac{dx}{dt}$, donde $t$ es el tiempo; es muy común en la física que las EDOs involucren derivadas con respecto al tiempo.]"
   ]
  },
  {
   "cell_type": "markdown",
   "metadata": {},
   "source": [
    "Una solución a esta ecuación es un objeto $x$, tal que cuando la derivamos con respecto al tiempo, nos arroja $-\\alpha$ (una constante) multiplicada por el mismo objeto. Implícitamente está claro que $x$ depende de $t$, por lo que realmente $x$ se refiere a una función de $t$, es decir $x: \\mathbb{R} \\to \\mathbb{R}$ es la función $t \\mapsto x(t)$. \n",
    "\n",
    "Por lo tanto, la ecuación $\\dot{x} = -\\alpha x$ se puede considerar como una ecuación *funcional*, es decir, una igualdad entre funciones. \n",
    "\n",
    "Para entenderla, se reescribe de forma más explícita como sigue:\n",
    "\n",
    "$$\\dot{x}(t) = -\\alpha x(t) \\qquad \\text{para cada } t \\in \\mathbb{R}.$$\n",
    "\n",
    "Ahora es una igualdad de números, que dice que la \"velocidad\" en el tiempo $t$ es un cierto múltiplo de la posición en ese momento. De esta forma queda más claro (en mi opinión).\n",
    "\n",
    "Esto quiere decir que si *de alguna manera* hayamos logrado saber que la solución en el tiempo $t$ está en la posición $x(t)$, entonces nos indica cuál será la *velocidad* $\\dot{x}(t)$ en este momento. Esta es la información que necesitaremos para actualizar la solución al \"siguiente momento en el tiempo\" de forma numérica."
   ]
  },
  {
   "cell_type": "markdown",
   "metadata": {},
   "source": [
    "La forma general de una EDO en una variable es\n",
    "\n",
    "$$\\dot{x} = f(x, t),$$\n",
    "\n",
    "o sea\n",
    "\n",
    "$$\\dot{x}(t) = f(x(t), t) \\qquad \\text{para cada } t \\in \\mathbb{R}.$$\n",
    "\n",
    "Recordemos que debe ir acompañada por una condición inicial $x(t=t_0) = x_0$ para que constituya un problema bien posado (*problema de valores iniciales*, o *problema de Cauchy*).\n",
    "La solución de una ecuación de este tipo será una *función* $x(t)$ que satisface al mismo tiempo que $\\dot{x}(t) = f(x(t), t)$ para cada $t$, y que $x(t=t_0) = x_0$. \n",
    "\n",
    "En el caso particular de la ecuación $\\dot{x} = -\\alpha x$, conocemos analíticamente la solución, y nos servirá para comprobar nuestros métodos. Pero para las ecuaciones de interés para la física, esto *casi nunca ocurre*, una situación que ¡suele pasar desapercibida durante la carrera! En estos casos, debemos aplicar distintas técnicas de *aproximación* de la solución, entre las cuales se destacan los *métodos numéricos*."
   ]
  },
  {
   "cell_type": "markdown",
   "metadata": {},
   "source": [
    "# Método de Euler"
   ]
  },
  {
   "cell_type": "markdown",
   "metadata": {},
   "source": [
    "Para resolver una EDO numéricamente en la computadora, tendremos que *aproximar* la solución continua $x: t \\mapsto x(t)$ con una versión con una cantidad finita de información, es decir, *discretizarla* de alguna forma.\n",
    "\n",
    "La manera más sencilla de hacerla es utilizando *diferencias finitas*. Empezaremos con el caso más sencillo, el llamado *método de Euler*."
   ]
  },
  {
   "cell_type": "markdown",
   "metadata": {},
   "source": [
    "#### Ejercicio 1\n",
    "\n",
    "(i) ¿Cuál es la aproximación más sencilla de la derivada $\\dot{x}(t)$, en términos de un tamaño de paso pequeño $h$?\n",
    "\n",
    "(ii) Aplica esta aproximación con la ecuación $\\dot{x} = f(x, t)$ para obtener una expresión para $x(t+h)$, es decir el valor *predicho* en el siguiente *paso* de tiempo, en términos del valor ya conocido $x(t)$.\n",
    "\n",
    "(iii) Implementa un paso de este *método de Euler* en una función `paso_euler` para una función `f` cualquiera. ¿Cuáles argumentos debe tomar?\n",
    "\n",
    "(iv) Ahora implementa el método de Euler completo en una función `euler`.\n",
    "Para hacerlo, crea un arreglo `ts` de los tiempos en los cuales se evaluará la función. Luego crea otro arreglo de ceros, con la función `zeros`. [Si pasas el arreglo `t` como argumento a esta función, creará un arreglo del mismo tamaño al poner `zeros(size(t))`.] Ahora implementa el paso (ii) en un algoritmo iterativo para actualizar los valores en el nuevo arreglo para cada tiempo sucesivamente.\n",
    "\n",
    "(v) Verifica que funcione tu método al aplicarlo a una función $f(t)$ sencilla que dependa *únicamente del tiempo*. [Recuerda que debes imponer una condición inicial.] ¿Cuál operación matemática acabas de llevar a cabo? Compara con la solución analítica."
   ]
  },
  {
   "cell_type": "code",
   "execution_count": 2,
   "metadata": {},
   "outputs": [
    {
     "ename": "LoadError",
     "evalue": "syntax: extra token \"Pkg\" after end of expression",
     "output_type": "error",
     "traceback": [
      "syntax: extra token \"Pkg\" after end of expression",
      ""
     ]
    }
   ],
   "source": [
    "get Pkg"
   ]
  },
  {
   "cell_type": "markdown",
   "metadata": {},
   "source": [
    "#### Ejercicio 2\n",
    "\n",
    "(i) Utiliza tu función `euler` para resolver la ecuación $\\dot{x} = -\\alpha x$,  y compara tu solución numérica gráficamente con la solución analítica de la ecuación. ¿Qué pasa al variar el paso de tiempo? Hazlo interactivo.\n",
    "\n",
    "(ii) Dado que el método de Euler utiliza una aproximación, el resultado no es exacto. Fija una $t$ final y calcula el error (desde la solución analítica) en función del tamaño de paso $h$. ¿Cómo es la convergencia en función de $h$?"
   ]
  },
  {
   "cell_type": "code",
   "execution_count": null,
   "metadata": {},
   "outputs": [],
   "source": []
  },
  {
   "cell_type": "markdown",
   "metadata": {},
   "source": [
    "#### Ejercicio 3\n",
    "\n",
    "Considera la ecuación diferencial nolineal $\\dot{x} = x \\, (1-x)$, la cual modela la dinámica de una población; $x$ representa de alguna forma la densidad de población. \n",
    "\n",
    "(i) Dibuja el \"campo vectorial\" en el espacio $t$--$x$, es decir flechitas que indican en cuál dirección se camina en cada paso. \n",
    "\n",
    "[Pista: Utiliza la función `quiver`, con la sintaxis \n",
    "\n",
    "    quiver(xs, ys, vectorfield=(vxs, vys))\n",
    "    \n",
    "donde `xs` y `ys` son las coordenadas de las posiciones de las flechas, y `vxs` y `vys` las componentes de los vectores que dibujar.\n",
    "]\n",
    "\n",
    "(ii) Resúelvela numéricamente desde distintas condiciones iniciales (incluso las no-físicas) y dibuja las soluciones correspondientes. Interpreta el resultado de manera física (o biológica). "
   ]
  },
  {
   "cell_type": "code",
   "execution_count": null,
   "metadata": {},
   "outputs": [],
   "source": []
  },
  {
   "cell_type": "markdown",
   "metadata": {},
   "source": [
    "## Varias variables"
   ]
  },
  {
   "cell_type": "markdown",
   "metadata": {},
   "source": [
    "El método de Euler se extiende directamente a EDOs con más de una variable."
   ]
  },
  {
   "cell_type": "markdown",
   "metadata": {},
   "source": [
    "#### Ejercicio 4\n",
    "\n",
    "(i) Escribe la ecuación diferencial que describe un oscilador armónico amortiguado.\n",
    "\n",
    "(ii) Recuerda que hay un \"truco\" para reducir una ecuación diferencial de segundo orden a dos ecuaciones de primer orden; ¿cuál es? ¿Qué resulta en el caso del oscilador armónico amortiguado?\n",
    "\n",
    "(iii) Deriva un método de Euler para las ecuaciones acopladas\n",
    "\n",
    "$$\\dot{x} = f(x, y);$$\n",
    "$$\\dot{y} = g(x, y).$$\n",
    "\n",
    "Para hacerlo, aplica la definición de la derivada de nuevo.\n",
    "\n",
    "(iv) Implementa el método.\n",
    "\n",
    "(v) Aplícalo al oscilador armónico amortiguado.\n",
    "Calcula trayectorias desde distintas condiciones iniciales y dibújalas, y ¡hazlo interactivo!\n",
    "Debes dibujar tanto $x(t)$ y $y(t)$ como funciones del tiempo, como el **espacio fase**.  Dibuja también el campo vectorial en el espacio fase."
   ]
  },
  {
   "cell_type": "code",
   "execution_count": null,
   "metadata": {},
   "outputs": [],
   "source": []
  },
  {
   "cell_type": "markdown",
   "metadata": {},
   "source": [
    "## El enfoque vectorial"
   ]
  },
  {
   "cell_type": "markdown",
   "metadata": {},
   "source": [
    "Recordemos que *cualquier* EDO, *incluídas las de orden superior* (es decir, con derivadas más altas que la primera de alguna función) se puede escribir de la siguiente manera, conteniendo únicamente primeras derivadas en el tiempo:\n",
    "\n",
    "$$\\dot{\\mathbf{x}} = \\mathbf{f}(\\mathbf{x}, t),$$\n",
    "\n",
    "es decir\n",
    "\n",
    "$$\\dot{\\mathbf{x}}(t) = \\mathbf{f}(\\mathbf{x}(t), t),$$\n",
    "\n",
    "donde ahora $\\mathbf{x} = (x_1, \\ldots, x_n) \\in \\mathbb{R}^n$ es un vector y $\\mathbf{f}: \\mathbb{R}^n \\to \\mathbb{R}^n$ es una función vectorial, que nos da un **campo vectorial** que indica en cuál dirección moverse desde cada punto del espacio."
   ]
  },
  {
   "cell_type": "markdown",
   "metadata": {},
   "source": [
    "#### Ejercicio 5\n",
    "\n",
    "(i) Escribe una función para hacer un paso del método de Euler para las ecuaciones acopladas\n",
    "\n",
    "$$\\dot{\\mathbf{x}} = \\mathbf{f}(\\mathbf{x}, t).$$\n",
    "\n",
    "El código ahora deberá ser *genérico*, es decir, debe funcionar para cualquier función $\\mathbf{f}$ y vector $\\mathbf{x}$.\n",
    "\n",
    "(ii) Escribe el método de Euler completo. \n",
    "\n",
    "(iii) Úsalo para resolver la caída libre y una caída con fricción lineal en la velocidad. Compara con el resultado exacto cuando puedes. Dibuja las resultados con distintos tamaños de fricción.\n",
    "\n",
    "(iv) Resuelve la caída libre con fricción cuadrática en la velocidad."
   ]
  },
  {
   "cell_type": "code",
   "execution_count": null,
   "metadata": {},
   "outputs": [],
   "source": []
  },
  {
   "cell_type": "markdown",
   "metadata": {},
   "source": [
    "#### Ejercicio 6\n",
    "\n",
    "(i) Resuelve numéricamente el problema del tiro parabólico con Euler para un proyectil que empieza en una altura $h>0$ con rapidez $1$ y ángulo inicial $\\alpha$, *hasta que* caiga al suelo. [Pista: ¿Cómo puedes implementar esta condición en tu código? Haz una nueva función si sea necesario.]\n",
    "\n",
    "(ii) Encuentra la distancia horizontal donde cae al suelo (el *rango*). Dibuja el resultado tal que puedas manipular interactivamente las condiciones iniciales. Encuentra numéricamente el ángulo que maximiza el rango. ¿Es correcto?\n",
    "\n",
    "(iii) Agrega fricción del aire al problema y agrégalo como otro parámetro que puedas manipular. ¿Cómo cambia el resultado de la pregunta (ii)?"
   ]
  },
  {
   "cell_type": "code",
   "execution_count": null,
   "metadata": {},
   "outputs": [],
   "source": []
  },
  {
   "cell_type": "markdown",
   "metadata": {},
   "source": [
    "#### Ejercicio 7"
   ]
  },
  {
   "cell_type": "markdown",
   "metadata": {},
   "source": [
    "En el caso del oscilador armónico, podemos hacer mucho de forma analítica. Pero no siempre es el caso:\n",
    "\n",
    "(i) Escribe la ecuación diferencial ordinaria que modela un péndulo simple amortiguado.\n",
    "\n",
    "(ii) Dibuja el campo vectorial y encuentra distintas trayectorias.\n",
    "\n",
    "(iii) ¿Los resultados coinciden con la intuición física?"
   ]
  },
  {
   "cell_type": "code",
   "execution_count": null,
   "metadata": {},
   "outputs": [],
   "source": []
  }
 ],
 "metadata": {
  "kernelspec": {
   "display_name": "Julia 1.1.1",
   "language": "julia",
   "name": "julia-1.1"
  },
  "language_info": {
   "file_extension": ".jl",
   "mimetype": "application/julia",
   "name": "julia",
   "version": "1.1.1"
  }
 },
 "nbformat": 4,
 "nbformat_minor": 1
}
